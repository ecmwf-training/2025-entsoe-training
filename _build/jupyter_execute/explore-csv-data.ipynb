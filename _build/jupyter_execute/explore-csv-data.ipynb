{
 "cells": [
  {
   "cell_type": "markdown",
   "metadata": {
    "id": "vQmIO3dEdmmQ",
    "tags": [
     "logo"
    ]
   },
   "source": [
    "[![logo](https://climate.copernicus.eu/sites/default/files/custom-uploads/branding/LogoLine_horizon_C3S.png)](https://climate.copernicus.eu)"
   ]
  },
  {
   "cell_type": "markdown",
   "metadata": {
    "id": "Ft-8UoEkZDzs"
   },
   "source": [
    "# Accessing, organizing, and visualizing data from PECD4.2 CSV files: an example for historical and future SPV at NUT0 aggregation level"
   ]
  },
  {
   "cell_type": "markdown",
   "metadata": {
    "id": "oa_LvsbYbjMn"
   },
   "source": [
    "In the following Notebook we will briefly explore the spatially aggregated data contained in the [PECD4.2](https://cds.climate.copernicus.eu/datasets/sis-energy-pecd?tab=overview) CSV files for one of the available energy variables (i.e. one SPV technology) and a reduced number of available datasets (the historical reconstructed series and three different climate projections).\n",
    "\n",
    "After downloading the data from the CDS, we will go through some simple data manipulation steps to organize the information. Then, we will visualize the data by generating two types of figures:\n",
    "\n",
    "*   line plots: useful to visualize one or more time series (i.e. how data evolve in time) once we fix a point in space (in this case a country);\n",
    "\n",
    "*   aggregated maps: useful to visualize the aggregated data (in this case country-level averages) on a map once we fix a point in time (or once we compute a mean over time)\n",
    "\n",
    "All this will be coded in Python.\n"
   ]
  },
  {
   "cell_type": "markdown",
   "metadata": {
    "id": "_qtYn__MdNbn"
   },
   "source": [
    "## Learning objectives 🎯"
   ]
  },
  {
   "cell_type": "markdown",
   "metadata": {
    "id": "I1KZTPsndVIA"
   },
   "source": [
    "Throughout this notebook you will learn how to quickly download and read the PECD4.2 CSV files and organize the contained aggregated data into a table (DataFrame). You will also learn how to select a single column of your DataFrame (a single country) or a single row (a single date), and to compute a simple mean of your data over time.\n",
    "Finally you will learn how to produce a figure to show one or multiple time series, as well as a figure to visualize, on a map, the mean values for one or various countries.\n",
    "Along the way, you'll get familiar with some key Python libraries that will be useful for more complex operations and/or visualizations."
   ]
  },
  {
   "cell_type": "markdown",
   "metadata": {},
   "source": [
    "## Target Audience 🎯"
   ]
  },
  {
   "cell_type": "markdown",
   "metadata": {},
   "source": [
    "**Anyone** interested in downloading, exploring, and visualizing aggregated CSV files from the PECD4.2"
   ]
  },
  {
   "cell_type": "markdown",
   "metadata": {
    "id": "NNUp_kIIgPk-"
   },
   "source": [
    "## Prepare your environment"
   ]
  },
  {
   "cell_type": "markdown",
   "metadata": {
    "id": "pRyGjgGdTOLN"
   },
   "source": [
    "### Import required packages"
   ]
  },
  {
   "cell_type": "markdown",
   "metadata": {
    "id": "dHVMUxHbTl78"
   },
   "source": [
    "We start by importing some useful libraries. These include: [os](https://docs.python.org/3/library/os.html), which provides a way to interact with the operating system and it is used here to manipulate paths; [glob](https://docs.python.org/3/library/glob.html) which finds all the pathnames matching a specified pattern according to the rules used by the Unix shell; [pandas](https://pandas.pydata.org/), one of the most common and easy to use tools for data analysis and manipulation; [numpy](https://numpy.org/doc/stable/), fundamental for numerical computing; [matplotlib](https://matplotlib.org/), a standard library for creating visualizations in Python; [geopandas](https://pypi.org/project/geopandas/) to add support for geographic data to pandas objects; [cartopy](https://scitools.org.uk/cartopy/docs/latest/), a Python package designed for geospatial data processing that allows to produce maps and other geospatial data analyses; [cdsapi](https://github.com/ecmwf/cdsapi?tab=readme-ov-file) a service providing programmatic access to CDS that will allow you to download data for this analysis; multiprocessing, which enables the use of multiple processors on your machine and is used here to handle parallel API requests."
   ]
  },
  {
   "cell_type": "code",
   "execution_count": 9,
   "metadata": {
    "id": "LXa4_ACKx1B3"
   },
   "outputs": [],
   "source": [
    "# importing libraries # test modification # test 2\n",
    "import os\n",
    "import glob\n",
    "import pandas as pd\n",
    "import numpy as np\n",
    "import matplotlib.pyplot as plt\n",
    "import geopandas as gp\n",
    "import cartopy.crs as ccrs\n",
    "import matplotlib.colors as mcolors\n",
    "import cdsapi\n",
    "from multiprocessing import Pool"
   ]
  },
  {
   "cell_type": "markdown",
   "metadata": {},
   "source": [
    "### Set up the CDS API and your credentials"
   ]
  },
  {
   "cell_type": "markdown",
   "metadata": {},
   "source": [
    "This step is essential to be able to download the data. To learn how to use the CDS API, see the [official guide](https://cds.climate.copernicus.eu/how-to-api). If you have already set up your .cdsapirc file locally, you can upload it directly to your home directory.\n",
    "Alternatively, you can replace None in the following code cell with your API Token as a string (i.e. enclosed in quotes ```\"your_api_key\"```). Your token can be found on the [CDS portal](https://cds.climate.copernicus.eu/profile) (you will need to log in to see your credentials).\n",
    "Remember to agree to the Terms and Conditions of every dataset you intend to download."
   ]
  },
  {
   "cell_type": "code",
   "execution_count": 10,
   "metadata": {},
   "outputs": [],
   "source": [
    "# If you have already setup your .cdsapirc file you can leave this as None\n",
    "cdsapi_key = None\n",
    "cdsapi_url = \"https://cds.climate.copernicus.eu/api\""
   ]
  },
  {
   "cell_type": "markdown",
   "metadata": {},
   "source": [
    "## Download the data"
   ]
  },
  {
   "cell_type": "markdown",
   "metadata": {},
   "source": [
    "The data can be downloaded from the PECD CDS download form by ticking the boxes of interest. Once all the required information is manually selected, scroll to the bottom of the form and click on \"Show API request\". This will reveal a code block that can be used to download the data. If you'd like to generate it yourself, visit the [CDS download form](https://cds.climate.copernicus.eu/datasets/sis-energy-pecd?tab=download).\n",
    "\n",
    "In this example, we use data from the PECD version 'PECD4.2' for both the 'Historical' temporal stream (based on 'ERA5 reanalysis' data), and three different 'future projections' (based on climate data from CMIP6 models):\n",
    "- the 'CMR5', which stands for CMCC-CM2-SR5\n",
    "- the 'ECE3', which stands for EC-Earth3\n",
    "- the 'AWCM', which stands for AWI-CM-1-1-MR\n",
    "\n",
    "We consider two different SSP scenarios accounting for human development and greenhouse gas emissions:\n",
    "- the SSP2-45, a 'middle of the road' scenario\n",
    "- the SSP5-85, the 'worst case' scenario\n",
    "\n",
    "The selected variable is the 'Solar photovoltaic generation capacity factor', and the technology addressed is the '60: SPV industrial rooftop', at the 'NUT0', which stands for country-level data (find more about NUTS on [Eurostat](https://ec.europa.eu/eurostat/web/nuts)).\n",
    "\n",
    "Finally, the selected time interval for the two streams: 1991-2020 for the historical period and 2061-2090 for the projections.\n",
    "\n",
    "Given the large amount of data required, in this case, it won't be enough to just copy the API request in a cell and run the retrieve of data: following the example of [Notebook *download-data-from-cds.ipynb*](./download-data-from-cds.ipynb), we will instead split the large request into smaller ones and run these requests separately with multiple processes and the use of a dedicated function."
   ]
  },
  {
   "cell_type": "markdown",
   "metadata": {},
   "source": [
    "### Set up the parameters for data download and processing"
   ]
  },
  {
   "cell_type": "markdown",
   "metadata": {},
   "source": [
    "This section of the code defines several variables and paths that will be used throughout the notebook, both for the download phase and the following steps. It is good practice to define these parameters at the beginning of our Notebook so that if we need to change any of them, we can quickly spot them. Some of these variables, described earlier, will act as parameters for the API requests that will be made later inside a function. While defining these, we will also create two lists of years, one for historical data and one for projection data, composed of pairs of years, to split an otherwise too large request to be made all at once.\n",
    "\n",
    "Additionally, since one might often want to focus the analysis on one or a few countries, we will define a list of ISO CODES: ('IT'), France ('FR'), and Germany ('DE'). These can be changed at will and will be needed after the download to retain just the needed information."
   ]
  },
  {
   "cell_type": "markdown",
   "metadata": {},
   "source": [
    "> **Note**  \n",
    ">[ISO CODES](https://www.iso.org/iso-3166-country-codes.html) are unique identifiers, typically two-letter ('alpha-2', as in our case) or three-letter combinations, used to represent country in international standards and data processing."
   ]
  },
  {
   "cell_type": "code",
   "execution_count": 11,
   "metadata": {},
   "outputs": [
    {
     "name": "stdout",
     "output_type": "stream",
     "text": [
      "hist_years_list: [['1991', '1992'], ['1993', '1994'], ['1995', '1996'], ['1997', '1998'], ['1999', '2000'], ['2001', '2002'], ['2003', '2004'], ['2005', '2006'], ['2007', '2008'], ['2009', '2010'], ['2011', '2012'], ['2013', '2014'], ['2015', '2016'], ['2017', '2018'], ['2019', '2020']]\n",
      "proj_years_list: [['2061', '2062'], ['2063', '2064'], ['2065', '2066'], ['2067', '2068'], ['2069', '2070'], ['2071', '2072'], ['2073', '2074'], ['2075', '2076'], ['2077', '2078'], ['2079', '2080'], ['2081', '2082'], ['2083', '2084'], ['2085', '2086'], ['2087', '2088'], ['2089', '2090']]\n"
     ]
    }
   ],
   "source": [
    "# creating/specifying folders for: download, results, ancillary data\n",
    "download_dir = \"cds_data/explore-csv-data\"\n",
    "results_dir = \"results/explore-csv-data\"\n",
    "# path to shape file of NUT0 (country-level) regions\n",
    "nut0_fpath = \"shape_files/custom_spatial_aggregation/NUT0_ADM0_PECDCODE.shp\"\n",
    "\n",
    "os.system(f\"mkdir -p {download_dir}\")\n",
    "os.system(f\"mkdir -p {results_dir}\")\n",
    "\n",
    "# defining our dataset\n",
    "dataset = \"sis-energy-pecd\"  # code from API\n",
    "pecd_version = \"pecd4_2\"  # codes from API\n",
    "\n",
    "# defining datasets and time intervals of interest\n",
    "stream_list = [\"H\", \"P\"]  # stream codes (H: historical, P: projections)\n",
    "p_models = [\"CMR5\", \"ECE3\", \"AWCM\"]  # CMIP6 model(s)\n",
    "p_scenarios = [\"SP245\", \"SP585\"]  # CMIP6 scenario(s)\n",
    "origins = {\n",
    "    \"historical\": [\"era5_reanalysis\"],\n",
    "    \"future_projections\": [\"cmcc_cm2_sr5\", \"ec_earth3\", \"awi_cm_1_1_mr\"],\n",
    "}  # codes from API\n",
    "emissions = [\"ssp2_4_5\", \"ssp5_8_5\"]  # codes from API\n",
    "start_year_h, end_year_h = 1991, 2020  # start and end year of historical time series\n",
    "start_year_p, end_year_p = 2061, 2090  # start and end year of projections time series\n",
    "\n",
    "# splitting time windows into smaller chuncks to ease download procedure\n",
    "hist_years = [str(i) for i in range(start_year_h, end_year_h + 1)]\n",
    "proj_years = [str(i) for i in range(start_year_p, end_year_p + 1)]\n",
    "n = 2\n",
    "hist_years_list = [hist_years[n * i: n * (i + 1)] for i in range(0, len(hist_years) // n)]\n",
    "proj_years_list = [proj_years[n * i: n * (i + 1)] for i in range(0, len(proj_years) // n)]\n",
    "print(f\"hist_years_list: {hist_years_list}\")\n",
    "print(f\"proj_years_list: {proj_years_list}\")\n",
    "\n",
    "# defining list of variables to download (one in this example)\n",
    "vars = [\"solar_photovoltaic_generation_capacity_factor\"]  # code from API\n",
    "technology = [\"60\"]  # 60: industrial rooftop - code from API\n",
    "var_code = \"SPV\"  # SPV, MW/MW\n",
    "technology_str = technology[0]\n",
    "units = \"MW/MW_installed\"  # Capacity Factor [MW/MW_installed]\n",
    "\n",
    "# defining spatial resolution\n",
    "spatial_resolution = [\"nuts_0\"]  # NUT0 stands for country-level\n",
    "\n",
    "# defining countries of interest (iso codes)\n",
    "country_list = [\"IT\", \"FR\", \"DE\"]"
   ]
  },
  {
   "cell_type": "markdown",
   "metadata": {},
   "source": [
    "### Create a function to handle the data download"
   ]
  },
  {
   "cell_type": "markdown",
   "metadata": {},
   "source": [
    "We will now build a function to send a single api request; later we will call it using the multiprocessing library. This allows us to split a very large request into many smaller ones that can be processed in parallel.\n",
    "\n",
    "The function `retrieve_cds_data` is described in more detail in [Notebook *download-data-from-cds.ipynb*](./download-data-from-cds.ipynb) and takes as input several arguments that identify the specific data you need to download."
   ]
  },
  {
   "cell_type": "code",
   "execution_count": 12,
   "metadata": {},
   "outputs": [],
   "source": [
    "def retrieve_cds_data(\n",
    "    dataset: str,\n",
    "    pecd_version: str,\n",
    "    temporal_period: list[str],\n",
    "    origin: list[str],\n",
    "    variable: list[str],\n",
    "    technology: list[str],\n",
    "    spatial_resolution: list[str],\n",
    "    year: list[int],\n",
    "    emissions: list[str] = None,\n",
    "):\n",
    "\n",
    "    # dictionary of the api request\n",
    "    request = {\n",
    "        \"pecd_version\": pecd_version,\n",
    "        \"temporal_period\": temporal_period,\n",
    "        \"origin\": origin,\n",
    "        \"variable\": variable,\n",
    "        \"technology\": technology,\n",
    "        \"spatial_resolution\": spatial_resolution,\n",
    "        \"year\": year,\n",
    "    }\n",
    "\n",
    "    # build the file path to the downloaded data\n",
    "    file_path = (\n",
    "        f\"{download_dir}/\"\n",
    "        f\"{pecd_version}_{temporal_period[0]}_{origin[0]}_{variable[0]}_\"\n",
    "        f\"{technology[0]}_{spatial_resolution[0]}_{year[0]}\"\n",
    "    )\n",
    "\n",
    "    # add emissions field if needed\n",
    "    if emissions is not None:\n",
    "        request[\"emission_scenario\"] = emissions\n",
    "        file_path += f\"_{emissions[0]}\"\n",
    "\n",
    "    file_path += \".zip\"\n",
    "\n",
    "    # initialize Client object\n",
    "    client = cdsapi.Client(cdsapi_url, cdsapi_key)\n",
    "    # call retrieve method that downloads the data\n",
    "    client.retrieve(dataset, request, file_path)"
   ]
  },
  {
   "cell_type": "markdown",
   "metadata": {},
   "source": [
    "### Generate a list of API requests and launch the download"
   ]
  },
  {
   "cell_type": "markdown",
   "metadata": {},
   "source": [
    "This section of the code focuses on creating a list of requests that will be used to download data from the Copernicus Climate Change Service (C3S) Climate Data Store (CDS). Each item in this list represents a specific data download request.\n",
    "\n",
    "We will create a nested loop structure. The outer loop iterates through each variable defined in the vars list. For each variable, the code will generate requests for both historical and future projection data, contained in a tuple object. The inner loop iterates through each group of years in the corresponding years list. This list of tuples are necessary in order to call the starmap method of multiprocessing."
   ]
  },
  {
   "cell_type": "code",
   "execution_count": 13,
   "metadata": {},
   "outputs": [
    {
     "name": "stdout",
     "output_type": "stream",
     "text": [
      "total requests: 60\n",
      "('sis-energy-pecd', 'pecd4_2', ['historical'], ['era5_reanalysis'], ['solar_photovoltaic_generation_capacity_factor'], ['60'], ['nuts_0'], ['1991', '1992'])\n",
      "('sis-energy-pecd', 'pecd4_2', ['historical'], ['era5_reanalysis'], ['solar_photovoltaic_generation_capacity_factor'], ['60'], ['nuts_0'], ['1993', '1994'])\n",
      "('sis-energy-pecd', 'pecd4_2', ['historical'], ['era5_reanalysis'], ['solar_photovoltaic_generation_capacity_factor'], ['60'], ['nuts_0'], ['1995', '1996'])\n",
      "('sis-energy-pecd', 'pecd4_2', ['historical'], ['era5_reanalysis'], ['solar_photovoltaic_generation_capacity_factor'], ['60'], ['nuts_0'], ['1997', '1998'])\n",
      "('sis-energy-pecd', 'pecd4_2', ['historical'], ['era5_reanalysis'], ['solar_photovoltaic_generation_capacity_factor'], ['60'], ['nuts_0'], ['1999', '2000'])\n",
      "('sis-energy-pecd', 'pecd4_2', ['historical'], ['era5_reanalysis'], ['solar_photovoltaic_generation_capacity_factor'], ['60'], ['nuts_0'], ['2001', '2002'])\n",
      "('sis-energy-pecd', 'pecd4_2', ['historical'], ['era5_reanalysis'], ['solar_photovoltaic_generation_capacity_factor'], ['60'], ['nuts_0'], ['2003', '2004'])\n",
      "('sis-energy-pecd', 'pecd4_2', ['historical'], ['era5_reanalysis'], ['solar_photovoltaic_generation_capacity_factor'], ['60'], ['nuts_0'], ['2005', '2006'])\n",
      "('sis-energy-pecd', 'pecd4_2', ['historical'], ['era5_reanalysis'], ['solar_photovoltaic_generation_capacity_factor'], ['60'], ['nuts_0'], ['2007', '2008'])\n",
      "('sis-energy-pecd', 'pecd4_2', ['historical'], ['era5_reanalysis'], ['solar_photovoltaic_generation_capacity_factor'], ['60'], ['nuts_0'], ['2009', '2010'])\n",
      "('sis-energy-pecd', 'pecd4_2', ['historical'], ['era5_reanalysis'], ['solar_photovoltaic_generation_capacity_factor'], ['60'], ['nuts_0'], ['2011', '2012'])\n",
      "('sis-energy-pecd', 'pecd4_2', ['historical'], ['era5_reanalysis'], ['solar_photovoltaic_generation_capacity_factor'], ['60'], ['nuts_0'], ['2013', '2014'])\n",
      "('sis-energy-pecd', 'pecd4_2', ['historical'], ['era5_reanalysis'], ['solar_photovoltaic_generation_capacity_factor'], ['60'], ['nuts_0'], ['2015', '2016'])\n",
      "('sis-energy-pecd', 'pecd4_2', ['historical'], ['era5_reanalysis'], ['solar_photovoltaic_generation_capacity_factor'], ['60'], ['nuts_0'], ['2017', '2018'])\n",
      "('sis-energy-pecd', 'pecd4_2', ['historical'], ['era5_reanalysis'], ['solar_photovoltaic_generation_capacity_factor'], ['60'], ['nuts_0'], ['2019', '2020'])\n",
      "('sis-energy-pecd', 'pecd4_2', ['future_projections'], ['cmcc_cm2_sr5'], ['solar_photovoltaic_generation_capacity_factor'], ['60'], ['nuts_0'], ['2061', '2062'], ['ssp2_4_5', 'ssp5_8_5'])\n",
      "('sis-energy-pecd', 'pecd4_2', ['future_projections'], ['ec_earth3'], ['solar_photovoltaic_generation_capacity_factor'], ['60'], ['nuts_0'], ['2061', '2062'], ['ssp2_4_5', 'ssp5_8_5'])\n",
      "('sis-energy-pecd', 'pecd4_2', ['future_projections'], ['awi_cm_1_1_mr'], ['solar_photovoltaic_generation_capacity_factor'], ['60'], ['nuts_0'], ['2061', '2062'], ['ssp2_4_5', 'ssp5_8_5'])\n",
      "('sis-energy-pecd', 'pecd4_2', ['future_projections'], ['cmcc_cm2_sr5'], ['solar_photovoltaic_generation_capacity_factor'], ['60'], ['nuts_0'], ['2063', '2064'], ['ssp2_4_5', 'ssp5_8_5'])\n",
      "('sis-energy-pecd', 'pecd4_2', ['future_projections'], ['ec_earth3'], ['solar_photovoltaic_generation_capacity_factor'], ['60'], ['nuts_0'], ['2063', '2064'], ['ssp2_4_5', 'ssp5_8_5'])\n",
      "('sis-energy-pecd', 'pecd4_2', ['future_projections'], ['awi_cm_1_1_mr'], ['solar_photovoltaic_generation_capacity_factor'], ['60'], ['nuts_0'], ['2063', '2064'], ['ssp2_4_5', 'ssp5_8_5'])\n",
      "('sis-energy-pecd', 'pecd4_2', ['future_projections'], ['cmcc_cm2_sr5'], ['solar_photovoltaic_generation_capacity_factor'], ['60'], ['nuts_0'], ['2065', '2066'], ['ssp2_4_5', 'ssp5_8_5'])\n",
      "('sis-energy-pecd', 'pecd4_2', ['future_projections'], ['ec_earth3'], ['solar_photovoltaic_generation_capacity_factor'], ['60'], ['nuts_0'], ['2065', '2066'], ['ssp2_4_5', 'ssp5_8_5'])\n",
      "('sis-energy-pecd', 'pecd4_2', ['future_projections'], ['awi_cm_1_1_mr'], ['solar_photovoltaic_generation_capacity_factor'], ['60'], ['nuts_0'], ['2065', '2066'], ['ssp2_4_5', 'ssp5_8_5'])\n",
      "('sis-energy-pecd', 'pecd4_2', ['future_projections'], ['cmcc_cm2_sr5'], ['solar_photovoltaic_generation_capacity_factor'], ['60'], ['nuts_0'], ['2067', '2068'], ['ssp2_4_5', 'ssp5_8_5'])\n",
      "('sis-energy-pecd', 'pecd4_2', ['future_projections'], ['ec_earth3'], ['solar_photovoltaic_generation_capacity_factor'], ['60'], ['nuts_0'], ['2067', '2068'], ['ssp2_4_5', 'ssp5_8_5'])\n",
      "('sis-energy-pecd', 'pecd4_2', ['future_projections'], ['awi_cm_1_1_mr'], ['solar_photovoltaic_generation_capacity_factor'], ['60'], ['nuts_0'], ['2067', '2068'], ['ssp2_4_5', 'ssp5_8_5'])\n",
      "('sis-energy-pecd', 'pecd4_2', ['future_projections'], ['cmcc_cm2_sr5'], ['solar_photovoltaic_generation_capacity_factor'], ['60'], ['nuts_0'], ['2069', '2070'], ['ssp2_4_5', 'ssp5_8_5'])\n",
      "('sis-energy-pecd', 'pecd4_2', ['future_projections'], ['ec_earth3'], ['solar_photovoltaic_generation_capacity_factor'], ['60'], ['nuts_0'], ['2069', '2070'], ['ssp2_4_5', 'ssp5_8_5'])\n",
      "('sis-energy-pecd', 'pecd4_2', ['future_projections'], ['awi_cm_1_1_mr'], ['solar_photovoltaic_generation_capacity_factor'], ['60'], ['nuts_0'], ['2069', '2070'], ['ssp2_4_5', 'ssp5_8_5'])\n",
      "('sis-energy-pecd', 'pecd4_2', ['future_projections'], ['cmcc_cm2_sr5'], ['solar_photovoltaic_generation_capacity_factor'], ['60'], ['nuts_0'], ['2071', '2072'], ['ssp2_4_5', 'ssp5_8_5'])\n",
      "('sis-energy-pecd', 'pecd4_2', ['future_projections'], ['ec_earth3'], ['solar_photovoltaic_generation_capacity_factor'], ['60'], ['nuts_0'], ['2071', '2072'], ['ssp2_4_5', 'ssp5_8_5'])\n",
      "('sis-energy-pecd', 'pecd4_2', ['future_projections'], ['awi_cm_1_1_mr'], ['solar_photovoltaic_generation_capacity_factor'], ['60'], ['nuts_0'], ['2071', '2072'], ['ssp2_4_5', 'ssp5_8_5'])\n",
      "('sis-energy-pecd', 'pecd4_2', ['future_projections'], ['cmcc_cm2_sr5'], ['solar_photovoltaic_generation_capacity_factor'], ['60'], ['nuts_0'], ['2073', '2074'], ['ssp2_4_5', 'ssp5_8_5'])\n",
      "('sis-energy-pecd', 'pecd4_2', ['future_projections'], ['ec_earth3'], ['solar_photovoltaic_generation_capacity_factor'], ['60'], ['nuts_0'], ['2073', '2074'], ['ssp2_4_5', 'ssp5_8_5'])\n",
      "('sis-energy-pecd', 'pecd4_2', ['future_projections'], ['awi_cm_1_1_mr'], ['solar_photovoltaic_generation_capacity_factor'], ['60'], ['nuts_0'], ['2073', '2074'], ['ssp2_4_5', 'ssp5_8_5'])\n",
      "('sis-energy-pecd', 'pecd4_2', ['future_projections'], ['cmcc_cm2_sr5'], ['solar_photovoltaic_generation_capacity_factor'], ['60'], ['nuts_0'], ['2075', '2076'], ['ssp2_4_5', 'ssp5_8_5'])\n",
      "('sis-energy-pecd', 'pecd4_2', ['future_projections'], ['ec_earth3'], ['solar_photovoltaic_generation_capacity_factor'], ['60'], ['nuts_0'], ['2075', '2076'], ['ssp2_4_5', 'ssp5_8_5'])\n",
      "('sis-energy-pecd', 'pecd4_2', ['future_projections'], ['awi_cm_1_1_mr'], ['solar_photovoltaic_generation_capacity_factor'], ['60'], ['nuts_0'], ['2075', '2076'], ['ssp2_4_5', 'ssp5_8_5'])\n",
      "('sis-energy-pecd', 'pecd4_2', ['future_projections'], ['cmcc_cm2_sr5'], ['solar_photovoltaic_generation_capacity_factor'], ['60'], ['nuts_0'], ['2077', '2078'], ['ssp2_4_5', 'ssp5_8_5'])\n",
      "('sis-energy-pecd', 'pecd4_2', ['future_projections'], ['ec_earth3'], ['solar_photovoltaic_generation_capacity_factor'], ['60'], ['nuts_0'], ['2077', '2078'], ['ssp2_4_5', 'ssp5_8_5'])\n",
      "('sis-energy-pecd', 'pecd4_2', ['future_projections'], ['awi_cm_1_1_mr'], ['solar_photovoltaic_generation_capacity_factor'], ['60'], ['nuts_0'], ['2077', '2078'], ['ssp2_4_5', 'ssp5_8_5'])\n",
      "('sis-energy-pecd', 'pecd4_2', ['future_projections'], ['cmcc_cm2_sr5'], ['solar_photovoltaic_generation_capacity_factor'], ['60'], ['nuts_0'], ['2079', '2080'], ['ssp2_4_5', 'ssp5_8_5'])\n",
      "('sis-energy-pecd', 'pecd4_2', ['future_projections'], ['ec_earth3'], ['solar_photovoltaic_generation_capacity_factor'], ['60'], ['nuts_0'], ['2079', '2080'], ['ssp2_4_5', 'ssp5_8_5'])\n",
      "('sis-energy-pecd', 'pecd4_2', ['future_projections'], ['awi_cm_1_1_mr'], ['solar_photovoltaic_generation_capacity_factor'], ['60'], ['nuts_0'], ['2079', '2080'], ['ssp2_4_5', 'ssp5_8_5'])\n",
      "('sis-energy-pecd', 'pecd4_2', ['future_projections'], ['cmcc_cm2_sr5'], ['solar_photovoltaic_generation_capacity_factor'], ['60'], ['nuts_0'], ['2081', '2082'], ['ssp2_4_5', 'ssp5_8_5'])\n",
      "('sis-energy-pecd', 'pecd4_2', ['future_projections'], ['ec_earth3'], ['solar_photovoltaic_generation_capacity_factor'], ['60'], ['nuts_0'], ['2081', '2082'], ['ssp2_4_5', 'ssp5_8_5'])\n",
      "('sis-energy-pecd', 'pecd4_2', ['future_projections'], ['awi_cm_1_1_mr'], ['solar_photovoltaic_generation_capacity_factor'], ['60'], ['nuts_0'], ['2081', '2082'], ['ssp2_4_5', 'ssp5_8_5'])\n",
      "('sis-energy-pecd', 'pecd4_2', ['future_projections'], ['cmcc_cm2_sr5'], ['solar_photovoltaic_generation_capacity_factor'], ['60'], ['nuts_0'], ['2083', '2084'], ['ssp2_4_5', 'ssp5_8_5'])\n",
      "('sis-energy-pecd', 'pecd4_2', ['future_projections'], ['ec_earth3'], ['solar_photovoltaic_generation_capacity_factor'], ['60'], ['nuts_0'], ['2083', '2084'], ['ssp2_4_5', 'ssp5_8_5'])\n",
      "('sis-energy-pecd', 'pecd4_2', ['future_projections'], ['awi_cm_1_1_mr'], ['solar_photovoltaic_generation_capacity_factor'], ['60'], ['nuts_0'], ['2083', '2084'], ['ssp2_4_5', 'ssp5_8_5'])\n",
      "('sis-energy-pecd', 'pecd4_2', ['future_projections'], ['cmcc_cm2_sr5'], ['solar_photovoltaic_generation_capacity_factor'], ['60'], ['nuts_0'], ['2085', '2086'], ['ssp2_4_5', 'ssp5_8_5'])\n",
      "('sis-energy-pecd', 'pecd4_2', ['future_projections'], ['ec_earth3'], ['solar_photovoltaic_generation_capacity_factor'], ['60'], ['nuts_0'], ['2085', '2086'], ['ssp2_4_5', 'ssp5_8_5'])\n",
      "('sis-energy-pecd', 'pecd4_2', ['future_projections'], ['awi_cm_1_1_mr'], ['solar_photovoltaic_generation_capacity_factor'], ['60'], ['nuts_0'], ['2085', '2086'], ['ssp2_4_5', 'ssp5_8_5'])\n",
      "('sis-energy-pecd', 'pecd4_2', ['future_projections'], ['cmcc_cm2_sr5'], ['solar_photovoltaic_generation_capacity_factor'], ['60'], ['nuts_0'], ['2087', '2088'], ['ssp2_4_5', 'ssp5_8_5'])\n",
      "('sis-energy-pecd', 'pecd4_2', ['future_projections'], ['ec_earth3'], ['solar_photovoltaic_generation_capacity_factor'], ['60'], ['nuts_0'], ['2087', '2088'], ['ssp2_4_5', 'ssp5_8_5'])\n",
      "('sis-energy-pecd', 'pecd4_2', ['future_projections'], ['awi_cm_1_1_mr'], ['solar_photovoltaic_generation_capacity_factor'], ['60'], ['nuts_0'], ['2087', '2088'], ['ssp2_4_5', 'ssp5_8_5'])\n",
      "('sis-energy-pecd', 'pecd4_2', ['future_projections'], ['cmcc_cm2_sr5'], ['solar_photovoltaic_generation_capacity_factor'], ['60'], ['nuts_0'], ['2089', '2090'], ['ssp2_4_5', 'ssp5_8_5'])\n",
      "('sis-energy-pecd', 'pecd4_2', ['future_projections'], ['ec_earth3'], ['solar_photovoltaic_generation_capacity_factor'], ['60'], ['nuts_0'], ['2089', '2090'], ['ssp2_4_5', 'ssp5_8_5'])\n",
      "('sis-energy-pecd', 'pecd4_2', ['future_projections'], ['awi_cm_1_1_mr'], ['solar_photovoltaic_generation_capacity_factor'], ['60'], ['nuts_0'], ['2089', '2090'], ['ssp2_4_5', 'ssp5_8_5'])\n"
     ]
    }
   ],
   "source": [
    "requests = []\n",
    "# outer loop through variables\n",
    "\n",
    "for var in vars:\n",
    "    period = \"historical\"\n",
    "    # loop through historical years\n",
    "    for year in hist_years_list:\n",
    "        request = (\n",
    "            dataset,\n",
    "            pecd_version,\n",
    "            [period],\n",
    "            origins[period],\n",
    "            [var],\n",
    "            technology,\n",
    "            spatial_resolution,\n",
    "            year,\n",
    "        )\n",
    "        requests.append(request)\n",
    "    period = \"future_projections\"\n",
    "    # loop through projection years\n",
    "    for year in proj_years_list:\n",
    "        for origin in origins[period]:\n",
    "            request = (\n",
    "                dataset,\n",
    "                pecd_version,\n",
    "                [period],\n",
    "                [origin],\n",
    "                [var],\n",
    "                technology,\n",
    "                spatial_resolution,\n",
    "                year,\n",
    "                emissions,\n",
    "            )\n",
    "            requests.append(request)\n",
    "\n",
    "# print requests\n",
    "print(f\"total requests: {len(requests)}\")\n",
    "for request in requests:\n",
    "    print(request)"
   ]
  },
  {
   "cell_type": "markdown",
   "metadata": {},
   "source": [
    "These requests can be parallelized with multiprocessing, by initializing the Pool object with 8 processors and calling the starmap method, passing as arguments the function previously defined and the list of tuples created before."
   ]
  },
  {
   "cell_type": "code",
   "execution_count": 13,
   "metadata": {},
   "outputs": [
    {
     "name": "stderr",
     "output_type": "stream",
     "text": [
      "2025-07-14 09:59:14,483 INFO [2024-09-26T00:00:00] Watch our [Forum](https://forum.ecmwf.int/) for Announcements, news and other discussed topics.\n",
      "2025-07-14 09:59:14,485 INFO [2024-09-26T00:00:00] Watch our [Forum](https://forum.ecmwf.int/) for Announcements, news and other discussed topics.\n",
      "2025-07-14 09:59:14,486 INFO [2024-09-26T00:00:00] Watch our [Forum](https://forum.ecmwf.int/) for Announcements, news and other discussed topics.\n",
      "2025-07-14 09:59:14,486 INFO [2024-09-26T00:00:00] Watch our [Forum](https://forum.ecmwf.int/) for Announcements, news and other discussed topics.\n",
      "2025-07-14 09:59:14,489 INFO [2024-09-26T00:00:00] Watch our [Forum](https://forum.ecmwf.int/) for Announcements, news and other discussed topics.\n",
      "2025-07-14 09:59:14,507 INFO [2024-09-26T00:00:00] Watch our [Forum](https://forum.ecmwf.int/) for Announcements, news and other discussed topics.\n",
      "2025-07-14 09:59:14,541 INFO [2024-09-26T00:00:00] Watch our [Forum](https://forum.ecmwf.int/) for Announcements, news and other discussed topics.\n",
      "2025-07-14 09:59:14,567 INFO [2024-09-26T00:00:00] Watch our [Forum](https://forum.ecmwf.int/) for Announcements, news and other discussed topics.\n",
      "2025-07-14 09:59:20,988 INFO Request ID is 0c9496b5-1e69-42da-921c-55df29fb1274\n",
      "2025-07-14 09:59:21,028 INFO status has been updated to accepted\n",
      "2025-07-14 09:59:21,882 INFO Request ID is 7e3a3759-4605-4029-9b93-9c477e604ba6\n",
      "2025-07-14 09:59:21,911 INFO status has been updated to accepted\n",
      "2025-07-14 09:59:22,040 INFO Request ID is 24eec690-b5e3-47b4-90fc-ab76a9595f4e\n",
      "2025-07-14 09:59:22,091 INFO status has been updated to accepted\n",
      "2025-07-14 09:59:22,553 INFO Request ID is 41a7809e-6629-41a3-bee6-8be9b4f63dee\n",
      "2025-07-14 09:59:22,573 INFO status has been updated to accepted\n",
      "2025-07-14 09:59:22,884 INFO Request ID is 519c1041-47db-4eef-af90-0c217a50f876\n",
      "2025-07-14 09:59:22,908 INFO status has been updated to accepted\n",
      "2025-07-14 09:59:22,979 INFO Request ID is e60b703b-c2a6-4531-81b0-ab4db03719d6\n",
      "2025-07-14 09:59:23,065 INFO status has been updated to accepted\n",
      "2025-07-14 09:59:23,237 INFO Request ID is dad8169a-27a3-4466-bca8-8de98bb69cab\n",
      "2025-07-14 09:59:23,463 INFO status has been updated to accepted\n",
      "2025-07-14 09:59:23,505 INFO Request ID is 012de4ae-8638-41eb-bfd9-99fe5c6855a4\n",
      "2025-07-14 09:59:23,527 INFO status has been updated to accepted\n",
      "2025-07-14 09:59:29,328 INFO status has been updated to running\n",
      "2025-07-14 09:59:35,204 INFO status has been updated to running\n",
      "2025-07-14 09:59:36,044 INFO status has been updated to running\n",
      "2025-07-14 09:59:36,174 INFO status has been updated to running\n",
      "2025-07-14 09:59:36,220 INFO status has been updated to successful\n"
     ]
    },
    {
     "data": {
      "application/vnd.jupyter.widget-view+json": {
       "model_id": "49d2b58c86a34735a8544fc979c04c8f",
       "version_major": 2,
       "version_minor": 0
      },
      "text/plain": [
       "fb0e4412effeec518746e67415299e1c.zip:   0%|          | 0.00/1.51M [00:00<?, ?B/s]"
      ]
     },
     "metadata": {},
     "output_type": "display_data"
    },
    {
     "name": "stderr",
     "output_type": "stream",
     "text": [
      "2025-07-14 09:59:36,483 INFO [2024-09-26T00:00:00] Watch our [Forum](https://forum.ecmwf.int/) for Announcements, news and other discussed topics.\n",
      "2025-07-14 09:59:36,740 INFO status has been updated to running\n",
      "2025-07-14 09:59:36,767 INFO status has been updated to running\n",
      "2025-07-14 09:59:36,942 INFO status has been updated to running\n",
      "2025-07-14 09:59:43,902 INFO Request ID is bfe01025-4cdf-4b37-841f-4855be556fb5\n",
      "2025-07-14 09:59:44,047 INFO status has been updated to accepted\n",
      "2025-07-14 09:59:52,475 INFO status has been updated to running\n",
      "2025-07-14 10:00:05,683 INFO status has been updated to successful\n"
     ]
    },
    {
     "data": {
      "application/vnd.jupyter.widget-view+json": {
       "model_id": "92d1f722884e44299bdbd771928373b8",
       "version_major": 2,
       "version_minor": 0
      },
      "text/plain": [
       "e03736a862ad92f167058be2e2a376b5.zip:   0%|          | 0.00/1.51M [00:00<?, ?B/s]"
      ]
     },
     "metadata": {},
     "output_type": "display_data"
    },
    {
     "name": "stderr",
     "output_type": "stream",
     "text": [
      "2025-07-14 10:00:06,042 INFO [2024-09-26T00:00:00] Watch our [Forum](https://forum.ecmwf.int/) for Announcements, news and other discussed topics.\n",
      "2025-07-14 10:00:14,768 INFO Request ID is 6a3dbff0-2938-4974-b375-137e22242ac4\n",
      "2025-07-14 10:00:14,809 INFO status has been updated to accepted\n",
      "2025-07-14 10:00:23,142 INFO status has been updated to running\n",
      "2025-07-14 10:05:39,378 INFO status has been updated to successful\n"
     ]
    },
    {
     "data": {
      "application/vnd.jupyter.widget-view+json": {
       "model_id": "9be1a85c416e4c71a01637e6d839299c",
       "version_major": 2,
       "version_minor": 0
      },
      "text/plain": [
       "cc2d6303dba2ecd300c295447701f2e5.zip:   0%|          | 0.00/1.51M [00:00<?, ?B/s]"
      ]
     },
     "metadata": {},
     "output_type": "display_data"
    },
    {
     "name": "stderr",
     "output_type": "stream",
     "text": [
      "2025-07-14 10:05:39,847 INFO [2024-09-26T00:00:00] Watch our [Forum](https://forum.ecmwf.int/) for Announcements, news and other discussed topics.\n",
      "2025-07-14 10:05:39,867 INFO status has been updated to successful\n"
     ]
    },
    {
     "data": {
      "application/vnd.jupyter.widget-view+json": {
       "model_id": "d000c9549cc74829bc7e2e422dd1cf89",
       "version_major": 2,
       "version_minor": 0
      },
      "text/plain": [
       "badd9c5e1f2c7784445fbd0da70016c5.zip:   0%|          | 0.00/1.51M [00:00<?, ?B/s]"
      ]
     },
     "metadata": {},
     "output_type": "display_data"
    },
    {
     "name": "stderr",
     "output_type": "stream",
     "text": [
      "2025-07-14 10:05:40,239 INFO [2024-09-26T00:00:00] Watch our [Forum](https://forum.ecmwf.int/) for Announcements, news and other discussed topics.\n",
      "2025-07-14 10:05:40,957 INFO status has been updated to successful\n",
      "2025-07-14 10:05:41,159 INFO status has been updated to successful\n"
     ]
    },
    {
     "data": {
      "application/vnd.jupyter.widget-view+json": {
       "model_id": "afc50b569f654c51b58933f863f1870f",
       "version_major": 2,
       "version_minor": 0
      },
      "text/plain": [
       "a92a5054ad637f3d7868ad03731c9edc.zip:   0%|          | 0.00/1.51M [00:00<?, ?B/s]"
      ]
     },
     "metadata": {},
     "output_type": "display_data"
    },
    {
     "data": {
      "application/vnd.jupyter.widget-view+json": {
       "model_id": "82c9fe6c9b054573a40ac88f9d16f858",
       "version_major": 2,
       "version_minor": 0
      },
      "text/plain": [
       "fab3cf2f00a1ef7696cd488e5aac80db.zip:   0%|          | 0.00/1.51M [00:00<?, ?B/s]"
      ]
     },
     "metadata": {},
     "output_type": "display_data"
    },
    {
     "name": "stderr",
     "output_type": "stream",
     "text": [
      "2025-07-14 10:05:41,433 INFO [2024-09-26T00:00:00] Watch our [Forum](https://forum.ecmwf.int/) for Announcements, news and other discussed topics.\n",
      "2025-07-14 10:05:41,529 INFO [2024-09-26T00:00:00] Watch our [Forum](https://forum.ecmwf.int/) for Announcements, news and other discussed topics.\n",
      "2025-07-14 10:05:41,733 INFO status has been updated to successful\n",
      "2025-07-14 10:05:41,804 INFO status has been updated to successful\n"
     ]
    },
    {
     "data": {
      "application/vnd.jupyter.widget-view+json": {
       "model_id": "1d7d8260a97c400798d0600067964f31",
       "version_major": 2,
       "version_minor": 0
      },
      "text/plain": [
       "9376df354381b85f7c20f3124b026590.zip:   0%|          | 0.00/1.51M [00:00<?, ?B/s]"
      ]
     },
     "metadata": {},
     "output_type": "display_data"
    },
    {
     "data": {
      "application/vnd.jupyter.widget-view+json": {
       "model_id": "95ddf7eff20942ec974856b820dfb8c8",
       "version_major": 2,
       "version_minor": 0
      },
      "text/plain": [
       "a525f27160f5d8fadaf21ee3d7614f81.zip:   0%|          | 0.00/1.51M [00:00<?, ?B/s]"
      ]
     },
     "metadata": {},
     "output_type": "display_data"
    },
    {
     "name": "stderr",
     "output_type": "stream",
     "text": [
      "2025-07-14 10:05:41,973 INFO [2024-09-26T00:00:00] Watch our [Forum](https://forum.ecmwf.int/) for Announcements, news and other discussed topics.\n",
      "2025-07-14 10:05:42,286 INFO [2024-09-26T00:00:00] Watch our [Forum](https://forum.ecmwf.int/) for Announcements, news and other discussed topics.\n",
      "2025-07-14 10:05:42,711 INFO status has been updated to successful\n"
     ]
    },
    {
     "data": {
      "application/vnd.jupyter.widget-view+json": {
       "model_id": "163736adc2a041c59f3d4d32de039afa",
       "version_major": 2,
       "version_minor": 0
      },
      "text/plain": [
       "a33d84b11dc8ca6d946da3720f533da4.zip:   0%|          | 0.00/1.51M [00:00<?, ?B/s]"
      ]
     },
     "metadata": {},
     "output_type": "display_data"
    },
    {
     "name": "stderr",
     "output_type": "stream",
     "text": [
      "2025-07-14 10:05:43,107 INFO [2024-09-26T00:00:00] Watch our [Forum](https://forum.ecmwf.int/) for Announcements, news and other discussed topics.\n",
      "2025-07-14 10:05:47,140 INFO Request ID is ba049d00-0fca-47a5-a6a2-bc10a71bb9ef\n",
      "2025-07-14 10:05:47,156 INFO status has been updated to accepted\n",
      "2025-07-14 10:05:47,694 INFO Request ID is c7f91faa-3c9c-4ed8-9253-8c01aa1c1faf\n",
      "2025-07-14 10:05:47,713 INFO status has been updated to accepted\n",
      "2025-07-14 10:05:47,904 INFO Request ID is 954cded5-04e2-48be-91c2-b1f6590ef758\n",
      "2025-07-14 10:05:47,921 INFO status has been updated to accepted\n",
      "2025-07-14 10:05:48,772 INFO Request ID is 3d3c7334-afd1-4a47-8175-3fc2e69d6a3b\n",
      "2025-07-14 10:05:48,796 INFO status has been updated to accepted\n",
      "2025-07-14 10:05:49,257 INFO Request ID is 3576d6a7-49f0-4ca0-b407-a58f43e1486b\n",
      "2025-07-14 10:05:49,280 INFO status has been updated to accepted\n",
      "2025-07-14 10:05:50,421 INFO Request ID is 2e8bf5f5-8795-43c6-aa78-0f28895a0ecb\n",
      "2025-07-14 10:05:50,536 INFO status has been updated to accepted\n",
      "2025-07-14 10:05:50,870 INFO Request ID is e4b0f835-7395-475d-9c7e-3bfa8afb24e9\n",
      "2025-07-14 10:05:50,884 INFO status has been updated to accepted\n",
      "2025-07-14 10:05:55,424 INFO status has been updated to running\n",
      "2025-07-14 10:05:55,931 INFO status has been updated to running\n",
      "2025-07-14 10:05:56,569 INFO status has been updated to running\n",
      "2025-07-14 10:05:56,988 INFO status has been updated to running\n",
      "2025-07-14 10:05:57,548 INFO status has been updated to running\n",
      "2025-07-14 10:06:04,243 INFO status has been updated to running\n",
      "2025-07-14 10:06:04,321 INFO status has been updated to running\n",
      "2025-07-14 10:06:33,369 INFO status has been updated to successful\n"
     ]
    },
    {
     "data": {
      "application/vnd.jupyter.widget-view+json": {
       "model_id": "b7bbfaf875eb435fa432f5957e515a35",
       "version_major": 2,
       "version_minor": 0
      },
      "text/plain": [
       "9c5a60de63d8c2281429c4dedb2dc8c6.zip:   0%|          | 0.00/3.01M [00:00<?, ?B/s]"
      ]
     },
     "metadata": {},
     "output_type": "display_data"
    },
    {
     "name": "stderr",
     "output_type": "stream",
     "text": [
      "2025-07-14 10:06:33,587 INFO [2024-09-26T00:00:00] Watch our [Forum](https://forum.ecmwf.int/) for Announcements, news and other discussed topics.\n",
      "2025-07-14 10:06:42,922 INFO Request ID is c504331c-d224-43a0-9250-a60c40052ba6\n",
      "2025-07-14 10:06:43,159 INFO status has been updated to accepted\n",
      "2025-07-14 10:06:51,486 INFO status has been updated to running\n",
      "2025-07-14 10:12:05,252 INFO status has been updated to successful\n"
     ]
    },
    {
     "data": {
      "application/vnd.jupyter.widget-view+json": {
       "model_id": "8d18999929d044398efb8bb42e2b4fc3",
       "version_major": 2,
       "version_minor": 0
      },
      "text/plain": [
       "66fd8390d50b09780fca3a1b6f0c79e9.zip:   0%|          | 0.00/1.51M [00:00<?, ?B/s]"
      ]
     },
     "metadata": {},
     "output_type": "display_data"
    },
    {
     "name": "stderr",
     "output_type": "stream",
     "text": [
      "2025-07-14 10:12:05,518 INFO [2024-09-26T00:00:00] Watch our [Forum](https://forum.ecmwf.int/) for Announcements, news and other discussed topics.\n",
      "2025-07-14 10:12:06,404 INFO status has been updated to successful\n",
      "2025-07-14 10:12:06,594 INFO status has been updated to successful\n"
     ]
    },
    {
     "data": {
      "application/vnd.jupyter.widget-view+json": {
       "model_id": "561490fe497f4a35bf15eccd31b4a309",
       "version_major": 2,
       "version_minor": 0
      },
      "text/plain": [
       "e567017ce2702fbfb3ce46054dff4892.zip:   0%|          | 0.00/1.51M [00:00<?, ?B/s]"
      ]
     },
     "metadata": {},
     "output_type": "display_data"
    },
    {
     "data": {
      "application/vnd.jupyter.widget-view+json": {
       "model_id": "32896b61837541c88f26b178d7d5e9b5",
       "version_major": 2,
       "version_minor": 0
      },
      "text/plain": [
       "737ff4100a77a860680b61f6cd20396e.zip:   0%|          | 0.00/1.51M [00:00<?, ?B/s]"
      ]
     },
     "metadata": {},
     "output_type": "display_data"
    },
    {
     "name": "stderr",
     "output_type": "stream",
     "text": [
      "2025-07-14 10:12:06,832 INFO status has been updated to successful\n"
     ]
    },
    {
     "data": {
      "application/vnd.jupyter.widget-view+json": {
       "model_id": "5812039caba541a39f6fb85f3cfc5b76",
       "version_major": 2,
       "version_minor": 0
      },
      "text/plain": [
       "ac19e1bf145540f268a2445b238fe95c.zip:   0%|          | 0.00/1.51M [00:00<?, ?B/s]"
      ]
     },
     "metadata": {},
     "output_type": "display_data"
    },
    {
     "name": "stderr",
     "output_type": "stream",
     "text": [
      "2025-07-14 10:12:06,944 INFO [2024-09-26T00:00:00] Watch our [Forum](https://forum.ecmwf.int/) for Announcements, news and other discussed topics.\n",
      "2025-07-14 10:12:07,028 INFO [2024-09-26T00:00:00] Watch our [Forum](https://forum.ecmwf.int/) for Announcements, news and other discussed topics.\n",
      "2025-07-14 10:12:07,040 INFO [2024-09-26T00:00:00] Watch our [Forum](https://forum.ecmwf.int/) for Announcements, news and other discussed topics.\n",
      "2025-07-14 10:12:07,267 INFO status has been updated to successful\n"
     ]
    },
    {
     "data": {
      "application/vnd.jupyter.widget-view+json": {
       "model_id": "366ecf9c2bef44c3b97d8775ef69e503",
       "version_major": 2,
       "version_minor": 0
      },
      "text/plain": [
       "15c83f7c8ae2c4ba98dd87861f1448ed.zip:   0%|          | 0.00/1.51M [00:00<?, ?B/s]"
      ]
     },
     "metadata": {},
     "output_type": "display_data"
    },
    {
     "name": "stderr",
     "output_type": "stream",
     "text": [
      "2025-07-14 10:12:07,486 INFO [2024-09-26T00:00:00] Watch our [Forum](https://forum.ecmwf.int/) for Announcements, news and other discussed topics.\n",
      "2025-07-14 10:12:09,675 INFO status has been updated to successful\n"
     ]
    },
    {
     "data": {
      "application/vnd.jupyter.widget-view+json": {
       "model_id": "6cf36a42d9794120982308a10750b44b",
       "version_major": 2,
       "version_minor": 0
      },
      "text/plain": [
       "1ff7e377acf83dc92d8b68aba795ea4.zip:   0%|          | 0.00/1.51M [00:00<?, ?B/s]"
      ]
     },
     "metadata": {},
     "output_type": "display_data"
    },
    {
     "name": "stderr",
     "output_type": "stream",
     "text": [
      "2025-07-14 10:12:09,816 INFO [2024-09-26T00:00:00] Watch our [Forum](https://forum.ecmwf.int/) for Announcements, news and other discussed topics.\n",
      "2025-07-14 10:12:13,456 INFO Request ID is 4ebc1217-ab11-4626-8f6f-ca52ceb22623\n",
      "2025-07-14 10:12:13,475 INFO status has been updated to accepted\n",
      "2025-07-14 10:12:14,143 INFO Request ID is c31e2f4d-55b4-4827-8bca-acacfc0e47dc\n",
      "2025-07-14 10:12:14,348 INFO Request ID is b2af2cc6-3f11-44e7-a789-9762447f25f9\n",
      "2025-07-14 10:12:14,509 INFO status has been updated to accepted\n",
      "2025-07-14 10:12:14,952 INFO status has been updated to accepted\n",
      "2025-07-14 10:12:18,204 INFO Request ID is 59ea8f10-a888-4bbc-acf2-efe1262bec5f\n",
      "2025-07-14 10:12:18,226 INFO status has been updated to accepted\n",
      "2025-07-14 10:12:18,270 INFO Request ID is f29ce306-16d0-426e-ad4d-9cfc5d7ea053\n",
      "2025-07-14 10:12:18,491 INFO Request ID is 9be72046-8b7c-4d59-83c4-5059ffde9576\n",
      "2025-07-14 10:12:18,554 INFO status has been updated to accepted\n",
      "2025-07-14 10:12:18,908 INFO status has been updated to accepted\n",
      "2025-07-14 10:12:23,209 INFO status has been updated to running\n",
      "2025-07-14 10:12:23,532 INFO status has been updated to running\n",
      "2025-07-14 10:12:26,888 INFO status has been updated to running\n",
      "2025-07-14 10:12:31,601 INFO status has been updated to running\n",
      "2025-07-14 10:12:31,859 INFO status has been updated to running\n",
      "2025-07-14 10:12:32,405 INFO status has been updated to running\n",
      "2025-07-14 10:14:09,333 INFO status has been updated to successful\n"
     ]
    },
    {
     "data": {
      "application/vnd.jupyter.widget-view+json": {
       "model_id": "028ed6f3ad7a463eaff66d7a9a0ea234",
       "version_major": 2,
       "version_minor": 0
      },
      "text/plain": [
       "a92673b1d4dfa001cd7cb4fe4896253b.zip:   0%|          | 0.00/3.01M [00:00<?, ?B/s]"
      ]
     },
     "metadata": {},
     "output_type": "display_data"
    },
    {
     "name": "stderr",
     "output_type": "stream",
     "text": [
      "2025-07-14 10:14:09,685 INFO [2024-09-26T00:00:00] Watch our [Forum](https://forum.ecmwf.int/) for Announcements, news and other discussed topics.\n",
      "2025-07-14 10:14:15,549 INFO Request ID is c4255a3b-324a-452f-b705-35fd2ec4b414\n",
      "2025-07-14 10:14:15,575 INFO status has been updated to accepted\n",
      "2025-07-14 10:14:36,995 INFO status has been updated to running\n",
      "2025-07-14 10:15:01,982 INFO status has been updated to successful\n"
     ]
    },
    {
     "data": {
      "application/vnd.jupyter.widget-view+json": {
       "model_id": "97974d076ac44cb48bdf3d72454002d6",
       "version_major": 2,
       "version_minor": 0
      },
      "text/plain": [
       "9f0096a580c814e0dea3342588e50d00.zip:   0%|          | 0.00/3.02M [00:00<?, ?B/s]"
      ]
     },
     "metadata": {},
     "output_type": "display_data"
    },
    {
     "name": "stderr",
     "output_type": "stream",
     "text": [
      "2025-07-14 10:15:02,352 INFO [2024-09-26T00:00:00] Watch our [Forum](https://forum.ecmwf.int/) for Announcements, news and other discussed topics.\n",
      "2025-07-14 10:15:07,202 INFO Request ID is 74a08b55-74ea-44fb-86f4-8009e87616d6\n",
      "2025-07-14 10:15:07,286 INFO status has been updated to accepted\n",
      "2025-07-14 10:15:16,226 INFO status has been updated to running\n",
      "2025-07-14 10:18:31,894 INFO status has been updated to successful\n"
     ]
    },
    {
     "data": {
      "application/vnd.jupyter.widget-view+json": {
       "model_id": "e0595b413d7643f1a9a6403f0a113796",
       "version_major": 2,
       "version_minor": 0
      },
      "text/plain": [
       "9ad3a785dc607b91790da2d19f39b6e6.zip:   0%|          | 0.00/3.02M [00:00<?, ?B/s]"
      ]
     },
     "metadata": {},
     "output_type": "display_data"
    },
    {
     "name": "stderr",
     "output_type": "stream",
     "text": [
      "2025-07-14 10:18:32,270 INFO [2024-09-26T00:00:00] Watch our [Forum](https://forum.ecmwf.int/) for Announcements, news and other discussed topics.\n",
      "2025-07-14 10:18:33,126 INFO status has been updated to successful\n"
     ]
    },
    {
     "data": {
      "application/vnd.jupyter.widget-view+json": {
       "model_id": "3e291f217468491f8b459811f5962a93",
       "version_major": 2,
       "version_minor": 0
      },
      "text/plain": [
       "6995662313c0b88f15a553da4e20aba2.zip:   0%|          | 0.00/3.02M [00:00<?, ?B/s]"
      ]
     },
     "metadata": {},
     "output_type": "display_data"
    },
    {
     "name": "stderr",
     "output_type": "stream",
     "text": [
      "2025-07-14 10:18:33,648 INFO [2024-09-26T00:00:00] Watch our [Forum](https://forum.ecmwf.int/) for Announcements, news and other discussed topics.\n",
      "2025-07-14 10:18:34,531 INFO status has been updated to successful\n"
     ]
    },
    {
     "data": {
      "application/vnd.jupyter.widget-view+json": {
       "model_id": "88c40259437144b0920a348e9e746164",
       "version_major": 2,
       "version_minor": 0
      },
      "text/plain": [
       "b1937c3ea248f8f2bfbd2dd6ff805236.zip:   0%|          | 0.00/3.01M [00:00<?, ?B/s]"
      ]
     },
     "metadata": {},
     "output_type": "display_data"
    },
    {
     "name": "stderr",
     "output_type": "stream",
     "text": [
      "2025-07-14 10:18:34,775 INFO [2024-09-26T00:00:00] Watch our [Forum](https://forum.ecmwf.int/) for Announcements, news and other discussed topics.\n",
      "2025-07-14 10:18:36,410 INFO status has been updated to successful\n"
     ]
    },
    {
     "data": {
      "application/vnd.jupyter.widget-view+json": {
       "model_id": "054d1912ce6a443381ff2d250665beab",
       "version_major": 2,
       "version_minor": 0
      },
      "text/plain": [
       "fe2cd410d80d41dd5b47c34892badd5b.zip:   0%|          | 0.00/3.01M [00:00<?, ?B/s]"
      ]
     },
     "metadata": {},
     "output_type": "display_data"
    },
    {
     "name": "stderr",
     "output_type": "stream",
     "text": [
      "2025-07-14 10:18:36,775 INFO [2024-09-26T00:00:00] Watch our [Forum](https://forum.ecmwf.int/) for Announcements, news and other discussed topics.\n",
      "2025-07-14 10:18:36,793 INFO status has been updated to successful\n"
     ]
    },
    {
     "data": {
      "application/vnd.jupyter.widget-view+json": {
       "model_id": "c66be6f7891443d4a4fd091623bef892",
       "version_major": 2,
       "version_minor": 0
      },
      "text/plain": [
       "44ca74d172dc4189b770b3b99618ddd2.zip:   0%|          | 0.00/3.02M [00:00<?, ?B/s]"
      ]
     },
     "metadata": {},
     "output_type": "display_data"
    },
    {
     "name": "stderr",
     "output_type": "stream",
     "text": [
      "2025-07-14 10:18:37,186 INFO [2024-09-26T00:00:00] Watch our [Forum](https://forum.ecmwf.int/) for Announcements, news and other discussed topics.\n",
      "2025-07-14 10:18:38,374 INFO Request ID is 87cf7b49-e61c-402b-b4b7-c199065bc5e3\n",
      "2025-07-14 10:18:38,394 INFO status has been updated to accepted\n",
      "2025-07-14 10:18:41,258 INFO Request ID is 88179f07-64c0-4877-a927-909018d59ade\n",
      "2025-07-14 10:18:41,280 INFO status has been updated to accepted\n",
      "2025-07-14 10:18:44,236 INFO Request ID is 389594be-eb32-44ef-85f9-ef525354cef2\n",
      "2025-07-14 10:18:44,292 INFO status has been updated to accepted\n",
      "2025-07-14 10:18:45,477 INFO Request ID is bdf7f8d0-992c-4f3a-851a-864e3b8bf6ff\n",
      "2025-07-14 10:18:46,054 INFO Request ID is feab43da-4942-4f73-b375-7f676b548a28\n",
      "2025-07-14 10:18:46,075 INFO status has been updated to accepted\n",
      "2025-07-14 10:18:46,258 INFO status has been updated to accepted\n",
      "2025-07-14 10:18:47,522 INFO status has been updated to running\n",
      "2025-07-14 10:18:51,070 INFO status has been updated to running\n",
      "2025-07-14 10:18:51,096 INFO status has been updated to running\n",
      "2025-07-14 10:18:59,583 INFO status has been updated to accepted\n",
      "2025-07-14 10:19:06,701 INFO status has been updated to running\n",
      "2025-07-14 10:19:07,201 INFO status has been updated to running\n",
      "2025-07-14 10:19:13,634 INFO status has been updated to running\n",
      "2025-07-14 10:21:26,416 INFO status has been updated to successful\n"
     ]
    },
    {
     "data": {
      "application/vnd.jupyter.widget-view+json": {
       "model_id": "40c24b6b32e9471b98c98253ecaf7e9b",
       "version_major": 2,
       "version_minor": 0
      },
      "text/plain": [
       "577637da2eb31b4303209c6a00b6aa97.zip:   0%|          | 0.00/3.02M [00:00<?, ?B/s]"
      ]
     },
     "metadata": {},
     "output_type": "display_data"
    },
    {
     "name": "stderr",
     "output_type": "stream",
     "text": [
      "2025-07-14 10:21:26,666 INFO [2024-09-26T00:00:00] Watch our [Forum](https://forum.ecmwf.int/) for Announcements, news and other discussed topics.\n",
      "2025-07-14 10:21:33,689 INFO Request ID is aad77b48-972b-4c9e-8346-bbdf30746344\n",
      "2025-07-14 10:21:33,712 INFO status has been updated to accepted\n",
      "2025-07-14 10:21:43,249 INFO status has been updated to running\n",
      "2025-07-14 10:22:34,386 INFO status has been updated to successful\n"
     ]
    },
    {
     "data": {
      "application/vnd.jupyter.widget-view+json": {
       "model_id": "df97e6d669b942e0bc242d65d96029f6",
       "version_major": 2,
       "version_minor": 0
      },
      "text/plain": [
       "e4d110e7ce2ca9688f6cb5dafac878dd.zip:   0%|          | 0.00/3.02M [00:00<?, ?B/s]"
      ]
     },
     "metadata": {},
     "output_type": "display_data"
    },
    {
     "name": "stderr",
     "output_type": "stream",
     "text": [
      "2025-07-14 10:22:34,698 INFO [2024-09-26T00:00:00] Watch our [Forum](https://forum.ecmwf.int/) for Announcements, news and other discussed topics.\n",
      "2025-07-14 10:22:38,180 INFO status has been updated to successful\n"
     ]
    },
    {
     "data": {
      "application/vnd.jupyter.widget-view+json": {
       "model_id": "ee530e3b29544083a7761efdd29ef73f",
       "version_major": 2,
       "version_minor": 0
      },
      "text/plain": [
       "f1558c2481f903051b6ccb6af492f756.zip:   0%|          | 0.00/3.03M [00:00<?, ?B/s]"
      ]
     },
     "metadata": {},
     "output_type": "display_data"
    },
    {
     "name": "stderr",
     "output_type": "stream",
     "text": [
      "2025-07-14 10:22:38,519 INFO [2024-09-26T00:00:00] Watch our [Forum](https://forum.ecmwf.int/) for Announcements, news and other discussed topics.\n",
      "2025-07-14 10:22:40,432 INFO Request ID is 903d8525-3543-4695-a59c-dc62fcb5c037\n",
      "2025-07-14 10:22:40,463 INFO status has been updated to accepted\n",
      "2025-07-14 10:22:45,246 INFO Request ID is 363ccc0b-edfc-4b97-89ac-c16723b70435\n",
      "2025-07-14 10:22:45,278 INFO status has been updated to accepted\n",
      "2025-07-14 10:22:48,938 INFO status has been updated to running\n",
      "2025-07-14 10:22:53,581 INFO status has been updated to running\n",
      "2025-07-14 10:24:58,817 INFO status has been updated to successful\n"
     ]
    },
    {
     "data": {
      "application/vnd.jupyter.widget-view+json": {
       "model_id": "d7155619e4e84fb2bae1e852357a8f76",
       "version_major": 2,
       "version_minor": 0
      },
      "text/plain": [
       "7b66b5bb5c09aa4e8af99a2f17f14fe7.zip:   0%|          | 0.00/3.01M [00:00<?, ?B/s]"
      ]
     },
     "metadata": {},
     "output_type": "display_data"
    },
    {
     "name": "stderr",
     "output_type": "stream",
     "text": [
      "2025-07-14 10:24:59,416 INFO [2024-09-26T00:00:00] Watch our [Forum](https://forum.ecmwf.int/) for Announcements, news and other discussed topics.\n",
      "2025-07-14 10:25:03,767 INFO status has been updated to successful\n"
     ]
    },
    {
     "data": {
      "application/vnd.jupyter.widget-view+json": {
       "model_id": "b3c23d0a8af74aebbd0f5b1a0a78319b",
       "version_major": 2,
       "version_minor": 0
      },
      "text/plain": [
       "778595a232255c313632862d21a2f9ce.zip:   0%|          | 0.00/3.01M [00:00<?, ?B/s]"
      ]
     },
     "metadata": {},
     "output_type": "display_data"
    },
    {
     "name": "stderr",
     "output_type": "stream",
     "text": [
      "2025-07-14 10:25:04,115 INFO [2024-09-26T00:00:00] Watch our [Forum](https://forum.ecmwf.int/) for Announcements, news and other discussed topics.\n",
      "2025-07-14 10:25:04,347 INFO status has been updated to successful\n"
     ]
    },
    {
     "data": {
      "application/vnd.jupyter.widget-view+json": {
       "model_id": "1983de74343848fbb16ee70feeb3185c",
       "version_major": 2,
       "version_minor": 0
      },
      "text/plain": [
       "5e3b0e826d37d17aed513cb723ffa290.zip:   0%|          | 0.00/3.02M [00:00<?, ?B/s]"
      ]
     },
     "metadata": {},
     "output_type": "display_data"
    },
    {
     "name": "stderr",
     "output_type": "stream",
     "text": [
      "2025-07-14 10:25:04,727 INFO [2024-09-26T00:00:00] Watch our [Forum](https://forum.ecmwf.int/) for Announcements, news and other discussed topics.\n",
      "2025-07-14 10:25:05,893 INFO Request ID is a400b9dd-4ba2-4480-bdd9-ffbd5fc8c904\n",
      "2025-07-14 10:25:05,917 INFO status has been updated to accepted\n",
      "2025-07-14 10:25:11,336 INFO Request ID is 018deb10-077f-4202-bfcd-49fe06e1b991\n",
      "2025-07-14 10:25:11,482 INFO status has been updated to accepted\n",
      "2025-07-14 10:25:11,958 INFO Request ID is fc54cacc-8638-472e-84d3-af62c93aceff\n",
      "2025-07-14 10:25:11,981 INFO status has been updated to accepted\n",
      "2025-07-14 10:25:14,193 INFO status has been updated to running\n",
      "2025-07-14 10:25:20,102 INFO status has been updated to running\n",
      "2025-07-14 10:25:20,232 INFO status has been updated to running\n",
      "2025-07-14 10:26:59,352 INFO status has been updated to successful\n"
     ]
    },
    {
     "data": {
      "application/vnd.jupyter.widget-view+json": {
       "model_id": "fafe58eba5a24d168cb75b7d5c1f084b",
       "version_major": 2,
       "version_minor": 0
      },
      "text/plain": [
       "e901f1a97d9fc20ff4843ac06c856bd9.zip:   0%|          | 0.00/3.02M [00:00<?, ?B/s]"
      ]
     },
     "metadata": {},
     "output_type": "display_data"
    },
    {
     "name": "stderr",
     "output_type": "stream",
     "text": [
      "2025-07-14 10:26:59,595 INFO [2024-09-26T00:00:00] Watch our [Forum](https://forum.ecmwf.int/) for Announcements, news and other discussed topics.\n",
      "2025-07-14 10:27:06,150 INFO Request ID is c98e1ed8-a263-4d8a-ac60-2d06f46a9d36\n",
      "2025-07-14 10:27:06,188 INFO status has been updated to accepted\n",
      "2025-07-14 10:27:20,011 INFO status has been updated to running\n",
      "2025-07-14 10:28:59,546 INFO status has been updated to successful\n"
     ]
    },
    {
     "data": {
      "application/vnd.jupyter.widget-view+json": {
       "model_id": "aaa382db4e154c8fb13744223a18dc23",
       "version_major": 2,
       "version_minor": 0
      },
      "text/plain": [
       "6bba0bb0751f6998873f7055c2492051.zip:   0%|          | 0.00/3.01M [00:00<?, ?B/s]"
      ]
     },
     "metadata": {},
     "output_type": "display_data"
    },
    {
     "name": "stderr",
     "output_type": "stream",
     "text": [
      "2025-07-14 10:28:59,860 INFO [2024-09-26T00:00:00] Watch our [Forum](https://forum.ecmwf.int/) for Announcements, news and other discussed topics.\n",
      "2025-07-14 10:29:03,604 INFO status has been updated to successful\n"
     ]
    },
    {
     "data": {
      "application/vnd.jupyter.widget-view+json": {
       "model_id": "61c31206e97344fe8fe42748c53384e6",
       "version_major": 2,
       "version_minor": 0
      },
      "text/plain": [
       "e7371f8545b677bba509a9556230f1bb.zip:   0%|          | 0.00/3.02M [00:00<?, ?B/s]"
      ]
     },
     "metadata": {},
     "output_type": "display_data"
    },
    {
     "name": "stderr",
     "output_type": "stream",
     "text": [
      "2025-07-14 10:29:03,895 INFO [2024-09-26T00:00:00] Watch our [Forum](https://forum.ecmwf.int/) for Announcements, news and other discussed topics.\n",
      "2025-07-14 10:29:05,950 INFO Request ID is e936025a-12db-4b64-96d8-97bc94dace84\n",
      "2025-07-14 10:29:06,020 INFO status has been updated to accepted\n",
      "2025-07-14 10:29:17,311 INFO Request ID is 10cc4671-545f-40df-98c6-9a49653a3ef9\n",
      "2025-07-14 10:29:17,352 INFO status has been updated to accepted\n",
      "2025-07-14 10:29:19,369 INFO status has been updated to running\n",
      "2025-07-14 10:29:30,705 INFO status has been updated to running\n",
      "2025-07-14 10:31:04,586 INFO status has been updated to successful\n"
     ]
    },
    {
     "data": {
      "application/vnd.jupyter.widget-view+json": {
       "model_id": "38069d9283bb48bc8b63af984c5667cb",
       "version_major": 2,
       "version_minor": 0
      },
      "text/plain": [
       "5e354dc1f5bb718a0c481eea2ccd344a.zip:   0%|          | 0.00/3.02M [00:00<?, ?B/s]"
      ]
     },
     "metadata": {},
     "output_type": "display_data"
    },
    {
     "name": "stderr",
     "output_type": "stream",
     "text": [
      "2025-07-14 10:31:04,869 INFO [2024-09-26T00:00:00] Watch our [Forum](https://forum.ecmwf.int/) for Announcements, news and other discussed topics.\n",
      "2025-07-14 10:31:11,919 INFO Request ID is 1217effa-9a8e-4e64-aa01-4a46ee97d5cf\n",
      "2025-07-14 10:31:11,945 INFO status has been updated to accepted\n",
      "2025-07-14 10:31:24,117 INFO status has been updated to successful\n"
     ]
    },
    {
     "data": {
      "application/vnd.jupyter.widget-view+json": {
       "model_id": "1b6dc0617fe045d8a111834b542a4c9a",
       "version_major": 2,
       "version_minor": 0
      },
      "text/plain": [
       "4ede23b0886cc6dbffb4802baece9151.zip:   0%|          | 0.00/3.01M [00:00<?, ?B/s]"
      ]
     },
     "metadata": {},
     "output_type": "display_data"
    },
    {
     "name": "stderr",
     "output_type": "stream",
     "text": [
      "2025-07-14 10:31:24,341 INFO [2024-09-26T00:00:00] Watch our [Forum](https://forum.ecmwf.int/) for Announcements, news and other discussed topics.\n",
      "2025-07-14 10:31:25,468 INFO status has been updated to running\n",
      "2025-07-14 10:31:29,949 INFO status has been updated to successful\n",
      "2025-07-14 10:31:29,959 INFO status has been updated to successful\n"
     ]
    },
    {
     "data": {
      "application/vnd.jupyter.widget-view+json": {
       "model_id": "247c8426422b487fa572ce9e920ad790",
       "version_major": 2,
       "version_minor": 0
      },
      "text/plain": [
       "16d3bd7f3c84a43a8d15d83d14adf88c.zip:   0%|          | 0.00/3.02M [00:00<?, ?B/s]"
      ]
     },
     "metadata": {},
     "output_type": "display_data"
    },
    {
     "name": "stderr",
     "output_type": "stream",
     "text": [
      "2025-07-14 10:31:30,160 INFO [2024-09-26T00:00:00] Watch our [Forum](https://forum.ecmwf.int/) for Announcements, news and other discussed topics.\n"
     ]
    },
    {
     "data": {
      "application/vnd.jupyter.widget-view+json": {
       "model_id": "27d83dbf874e419c91b1dd093d03e504",
       "version_major": 2,
       "version_minor": 0
      },
      "text/plain": [
       "6fcd41167608abdf069fa8f1b1256d4a.zip:   0%|          | 0.00/3.02M [00:00<?, ?B/s]"
      ]
     },
     "metadata": {},
     "output_type": "display_data"
    },
    {
     "name": "stderr",
     "output_type": "stream",
     "text": [
      "2025-07-14 10:31:30,402 INFO [2024-09-26T00:00:00] Watch our [Forum](https://forum.ecmwf.int/) for Announcements, news and other discussed topics.\n",
      "2025-07-14 10:31:31,199 INFO Request ID is b2b77e6b-2735-4595-9e29-4389a9268f0b\n",
      "2025-07-14 10:31:31,245 INFO status has been updated to accepted\n",
      "2025-07-14 10:31:33,579 INFO Request ID is f53980a2-f696-4f61-a362-9fcc662142e5\n",
      "2025-07-14 10:31:33,615 INFO status has been updated to accepted\n",
      "2025-07-14 10:31:36,439 INFO Request ID is 3bb56644-4bc9-41d0-b676-5be97932d780\n",
      "2025-07-14 10:31:36,646 INFO status has been updated to accepted\n",
      "2025-07-14 10:31:39,506 INFO status has been updated to running\n",
      "2025-07-14 10:31:44,946 INFO status has been updated to running\n",
      "2025-07-14 10:31:46,979 INFO status has been updated to running\n",
      "2025-07-14 10:31:53,536 INFO status has been updated to successful\n"
     ]
    },
    {
     "data": {
      "application/vnd.jupyter.widget-view+json": {
       "model_id": "b194e5c1000c430ab6c21d4b6eb4f574",
       "version_major": 2,
       "version_minor": 0
      },
      "text/plain": [
       "296829354bb587ddcecd76252287226a.zip:   0%|          | 0.00/3.01M [00:00<?, ?B/s]"
      ]
     },
     "metadata": {},
     "output_type": "display_data"
    },
    {
     "name": "stderr",
     "output_type": "stream",
     "text": [
      "2025-07-14 10:31:53,809 INFO [2024-09-26T00:00:00] Watch our [Forum](https://forum.ecmwf.int/) for Announcements, news and other discussed topics.\n",
      "2025-07-14 10:31:59,951 INFO Request ID is ec00faff-b683-4d36-add0-c206851b81da\n",
      "2025-07-14 10:31:59,969 INFO status has been updated to accepted\n",
      "2025-07-14 10:32:08,340 INFO status has been updated to running\n",
      "2025-07-14 10:33:24,909 INFO status has been updated to successful\n"
     ]
    },
    {
     "data": {
      "application/vnd.jupyter.widget-view+json": {
       "model_id": "63b7ccb465444f08bbcf3f8db23d18b7",
       "version_major": 2,
       "version_minor": 0
      },
      "text/plain": [
       "c65dd0258cb06b059812ebd3a0858a1a.zip:   0%|          | 0.00/3.01M [00:00<?, ?B/s]"
      ]
     },
     "metadata": {},
     "output_type": "display_data"
    },
    {
     "name": "stderr",
     "output_type": "stream",
     "text": [
      "2025-07-14 10:33:25,165 INFO [2024-09-26T00:00:00] Watch our [Forum](https://forum.ecmwf.int/) for Announcements, news and other discussed topics.\n",
      "2025-07-14 10:33:32,896 INFO Request ID is 9132e195-e77c-4ce2-b60a-4ff53de6ac22\n",
      "2025-07-14 10:33:32,941 INFO status has been updated to accepted\n",
      "2025-07-14 10:33:46,685 INFO status has been updated to running\n",
      "2025-07-14 10:35:24,566 INFO status has been updated to successful\n"
     ]
    },
    {
     "data": {
      "application/vnd.jupyter.widget-view+json": {
       "model_id": "500a0d18b1d2453cb2bdf3b63e4d6704",
       "version_major": 2,
       "version_minor": 0
      },
      "text/plain": [
       "4565dc8e29eba44d6b4660254a501f28.zip:   0%|          | 0.00/3.02M [00:00<?, ?B/s]"
      ]
     },
     "metadata": {},
     "output_type": "display_data"
    },
    {
     "name": "stderr",
     "output_type": "stream",
     "text": [
      "2025-07-14 10:35:24,836 INFO [2024-09-26T00:00:00] Watch our [Forum](https://forum.ecmwf.int/) for Announcements, news and other discussed topics.\n",
      "2025-07-14 10:35:32,128 INFO Request ID is d89ba5e4-defe-4efc-b3e0-50d1cd70d207\n",
      "2025-07-14 10:35:32,165 INFO status has been updated to accepted\n",
      "2025-07-14 10:35:35,653 INFO status has been updated to successful\n"
     ]
    },
    {
     "data": {
      "application/vnd.jupyter.widget-view+json": {
       "model_id": "90fa41355e284e459a5fb3223e93e538",
       "version_major": 2,
       "version_minor": 0
      },
      "text/plain": [
       "9308a1e411b7690bf7cffb18e6f7e871.zip:   0%|          | 0.00/3.02M [00:00<?, ?B/s]"
      ]
     },
     "metadata": {},
     "output_type": "display_data"
    },
    {
     "name": "stderr",
     "output_type": "stream",
     "text": [
      "2025-07-14 10:35:35,894 INFO [2024-09-26T00:00:00] Watch our [Forum](https://forum.ecmwf.int/) for Announcements, news and other discussed topics.\n",
      "2025-07-14 10:35:43,292 INFO Request ID is 1ac512e2-d8b7-4b3e-9e2c-febddb3b2095\n",
      "2025-07-14 10:35:43,321 INFO status has been updated to accepted\n",
      "2025-07-14 10:35:45,651 INFO status has been updated to running\n",
      "2025-07-14 10:35:51,568 INFO status has been updated to running\n",
      "2025-07-14 10:37:30,290 INFO status has been updated to successful\n"
     ]
    },
    {
     "data": {
      "application/vnd.jupyter.widget-view+json": {
       "model_id": "65670b2f4c0d43cca6e99418ced106be",
       "version_major": 2,
       "version_minor": 0
      },
      "text/plain": [
       "e7cc3e866d8ffd5f96b7d65b2fec1787.zip:   0%|          | 0.00/3.01M [00:00<?, ?B/s]"
      ]
     },
     "metadata": {},
     "output_type": "display_data"
    },
    {
     "name": "stderr",
     "output_type": "stream",
     "text": [
      "2025-07-14 10:37:30,874 INFO [2024-09-26T00:00:00] Watch our [Forum](https://forum.ecmwf.int/) for Announcements, news and other discussed topics.\n",
      "2025-07-14 10:37:40,722 INFO Request ID is 29816c3f-87ec-4cac-ac50-6fce3b786a26\n",
      "2025-07-14 10:37:40,842 INFO status has been updated to accepted\n",
      "2025-07-14 10:37:49,897 INFO status has been updated to successful\n"
     ]
    },
    {
     "data": {
      "application/vnd.jupyter.widget-view+json": {
       "model_id": "0973b292cdd04539bc7067e199b29bf7",
       "version_major": 2,
       "version_minor": 0
      },
      "text/plain": [
       "bb19b324f9d2ce6ac4af54f2cef51312.zip:   0%|          | 0.00/3.02M [00:00<?, ?B/s]"
      ]
     },
     "metadata": {},
     "output_type": "display_data"
    },
    {
     "name": "stderr",
     "output_type": "stream",
     "text": [
      "2025-07-14 10:37:50,166 INFO [2024-09-26T00:00:00] Watch our [Forum](https://forum.ecmwf.int/) for Announcements, news and other discussed topics.\n",
      "2025-07-14 10:37:51,646 INFO status has been updated to successful\n"
     ]
    },
    {
     "data": {
      "application/vnd.jupyter.widget-view+json": {
       "model_id": "ec8754b3d9444359941e1d8e67549203",
       "version_major": 2,
       "version_minor": 0
      },
      "text/plain": [
       "a01a1b2a83bbfc5a009728f0e5fa87fa.zip:   0%|          | 0.00/3.02M [00:00<?, ?B/s]"
      ]
     },
     "metadata": {},
     "output_type": "display_data"
    },
    {
     "name": "stderr",
     "output_type": "stream",
     "text": [
      "2025-07-14 10:37:51,874 INFO [2024-09-26T00:00:00] Watch our [Forum](https://forum.ecmwf.int/) for Announcements, news and other discussed topics.\n",
      "2025-07-14 10:37:54,190 INFO status has been updated to running\n",
      "2025-07-14 10:37:54,965 INFO status has been updated to successful\n"
     ]
    },
    {
     "data": {
      "application/vnd.jupyter.widget-view+json": {
       "model_id": "74745121523e40a8ac8655c4274f7f6c",
       "version_major": 2,
       "version_minor": 0
      },
      "text/plain": [
       "c49f4345ddfb2da33b0ad57140596fd.zip:   0%|          | 0.00/3.01M [00:00<?, ?B/s]"
      ]
     },
     "metadata": {},
     "output_type": "display_data"
    },
    {
     "name": "stderr",
     "output_type": "stream",
     "text": [
      "2025-07-14 10:37:55,315 INFO [2024-09-26T00:00:00] Watch our [Forum](https://forum.ecmwf.int/) for Announcements, news and other discussed topics.\n",
      "2025-07-14 10:37:55,870 INFO Request ID is efd8c6b2-4983-4e7b-94a3-ae28d8db5f0c\n",
      "2025-07-14 10:37:55,896 INFO status has been updated to accepted\n",
      "2025-07-14 10:38:00,286 INFO Request ID is 633f44b9-8aaa-45ba-a0cb-ef0c52152753\n",
      "2025-07-14 10:38:00,359 INFO status has been updated to accepted\n",
      "2025-07-14 10:38:01,916 INFO status has been updated to accepted\n",
      "2025-07-14 10:38:04,293 INFO status has been updated to running\n",
      "2025-07-14 10:38:08,746 INFO status has been updated to running\n",
      "2025-07-14 10:38:13,329 INFO status has been updated to running\n",
      "2025-07-14 10:38:14,242 INFO Request ID is 70714c95-63d6-49b6-acab-5f701ca913f2\n",
      "2025-07-14 10:38:14,271 INFO status has been updated to accepted\n",
      "2025-07-14 10:38:28,156 INFO status has been updated to running\n",
      "2025-07-14 10:39:51,853 INFO status has been updated to successful\n"
     ]
    },
    {
     "data": {
      "application/vnd.jupyter.widget-view+json": {
       "model_id": "7e9be7ea0bf040ab802a5c968005f645",
       "version_major": 2,
       "version_minor": 0
      },
      "text/plain": [
       "f06f1fc0acb6f503fd1f20c6e1c44994.zip:   0%|          | 0.00/3.02M [00:00<?, ?B/s]"
      ]
     },
     "metadata": {},
     "output_type": "display_data"
    },
    {
     "name": "stderr",
     "output_type": "stream",
     "text": [
      "2025-07-14 10:39:52,079 INFO [2024-09-26T00:00:00] Watch our [Forum](https://forum.ecmwf.int/) for Announcements, news and other discussed topics.\n",
      "2025-07-14 10:40:01,331 INFO Request ID is 5aa4feef-753a-47ab-9236-6e0939f2599c\n",
      "2025-07-14 10:40:01,356 INFO status has been updated to accepted\n",
      "2025-07-14 10:40:09,582 INFO status has been updated to running\n",
      "2025-07-14 10:41:50,729 INFO status has been updated to successful\n"
     ]
    },
    {
     "data": {
      "application/vnd.jupyter.widget-view+json": {
       "model_id": "3e3e9f2335364b37a8a77e8f807854c3",
       "version_major": 2,
       "version_minor": 0
      },
      "text/plain": [
       "84d29933b52537b5587122486864915.zip:   0%|          | 0.00/3.01M [00:00<?, ?B/s]"
      ]
     },
     "metadata": {},
     "output_type": "display_data"
    },
    {
     "name": "stderr",
     "output_type": "stream",
     "text": [
      "2025-07-14 10:41:51,057 INFO [2024-09-26T00:00:00] Watch our [Forum](https://forum.ecmwf.int/) for Announcements, news and other discussed topics.\n",
      "2025-07-14 10:41:58,712 INFO Request ID is 65d323c2-08f9-4cf0-9c1c-4579db1139b6\n",
      "2025-07-14 10:41:58,903 INFO status has been updated to accepted\n",
      "2025-07-14 10:42:01,568 INFO status has been updated to successful\n"
     ]
    },
    {
     "data": {
      "application/vnd.jupyter.widget-view+json": {
       "model_id": "36c0ff9740b347fb8b847f3055f5451c",
       "version_major": 2,
       "version_minor": 0
      },
      "text/plain": [
       "ab212a704916570db87799df0ecea84b.zip:   0%|          | 0.00/3.01M [00:00<?, ?B/s]"
      ]
     },
     "metadata": {},
     "output_type": "display_data"
    },
    {
     "name": "stderr",
     "output_type": "stream",
     "text": [
      "2025-07-14 10:42:04,072 INFO status has been updated to running\n",
      "2025-07-14 10:43:59,276 INFO status has been updated to successful\n"
     ]
    },
    {
     "data": {
      "application/vnd.jupyter.widget-view+json": {
       "model_id": "3841a66f905b47c9a66a836be3cc4637",
       "version_major": 2,
       "version_minor": 0
      },
      "text/plain": [
       "1d232b7c772e64104550a1d801693c63.zip:   0%|          | 0.00/3.02M [00:00<?, ?B/s]"
      ]
     },
     "metadata": {},
     "output_type": "display_data"
    },
    {
     "name": "stderr",
     "output_type": "stream",
     "text": [
      "2025-07-14 10:44:14,822 INFO status has been updated to successful\n"
     ]
    },
    {
     "data": {
      "application/vnd.jupyter.widget-view+json": {
       "model_id": "9ca78a75b61748d8a2927724d9350b38",
       "version_major": 2,
       "version_minor": 0
      },
      "text/plain": [
       "7358331ff1997e0298a9d4fafc5ed00f.zip:   0%|          | 0.00/3.02M [00:00<?, ?B/s]"
      ]
     },
     "metadata": {},
     "output_type": "display_data"
    },
    {
     "name": "stderr",
     "output_type": "stream",
     "text": [
      "2025-07-14 10:44:16,169 INFO [2024-09-26T00:00:00] Watch our [Forum](https://forum.ecmwf.int/) for Announcements, news and other discussed topics.\n",
      "2025-07-14 10:44:19,300 INFO status has been updated to successful\n"
     ]
    },
    {
     "data": {
      "application/vnd.jupyter.widget-view+json": {
       "model_id": "c9cf7119ba75489397c024f41b4194c2",
       "version_major": 2,
       "version_minor": 0
      },
      "text/plain": [
       "6d78e43723b00e5892d616732c747aee.zip:   0%|          | 0.00/3.01M [00:00<?, ?B/s]"
      ]
     },
     "metadata": {},
     "output_type": "display_data"
    },
    {
     "name": "stderr",
     "output_type": "stream",
     "text": [
      "2025-07-14 10:44:19,708 INFO [2024-09-26T00:00:00] Watch our [Forum](https://forum.ecmwf.int/) for Announcements, news and other discussed topics.\n",
      "2025-07-14 10:44:23,978 INFO Request ID is a9d95a28-96ea-44a4-9fb7-bd1a3cb70d4e\n",
      "2025-07-14 10:44:24,019 INFO status has been updated to accepted\n",
      "2025-07-14 10:44:26,765 INFO Request ID is 14ba9e72-40fe-4631-8643-9ecc35b18a3b\n",
      "2025-07-14 10:44:26,780 INFO status has been updated to accepted\n",
      "2025-07-14 10:44:32,843 INFO status has been updated to successful\n"
     ]
    },
    {
     "data": {
      "application/vnd.jupyter.widget-view+json": {
       "model_id": "60287a4a54bd407dae41d84bfd5b75fe",
       "version_major": 2,
       "version_minor": 0
      },
      "text/plain": [
       "494ac2967ba6d664744d5a497a067485.zip:   0%|          | 0.00/3.02M [00:00<?, ?B/s]"
      ]
     },
     "metadata": {},
     "output_type": "display_data"
    },
    {
     "name": "stderr",
     "output_type": "stream",
     "text": [
      "2025-07-14 10:44:33,132 INFO [2024-09-26T00:00:00] Watch our [Forum](https://forum.ecmwf.int/) for Announcements, news and other discussed topics.\n",
      "2025-07-14 10:44:35,132 INFO status has been updated to running\n",
      "2025-07-14 10:44:37,374 INFO status has been updated to running\n",
      "2025-07-14 10:44:40,701 INFO Request ID is 992f06e0-2848-4e72-b0a7-ce1108bf1144\n",
      "2025-07-14 10:44:40,721 INFO status has been updated to accepted\n",
      "2025-07-14 10:44:49,331 INFO status has been updated to running\n",
      "2025-07-14 10:46:18,772 INFO status has been updated to successful\n"
     ]
    },
    {
     "data": {
      "application/vnd.jupyter.widget-view+json": {
       "model_id": "bff1f934713140c2b57e94d50591fd78",
       "version_major": 2,
       "version_minor": 0
      },
      "text/plain": [
       "170add50dd156d0d85ccc017e3b044d3.zip:   0%|          | 0.00/3.02M [00:00<?, ?B/s]"
      ]
     },
     "metadata": {},
     "output_type": "display_data"
    },
    {
     "name": "stderr",
     "output_type": "stream",
     "text": [
      "2025-07-14 10:46:19,304 INFO [2024-09-26T00:00:00] Watch our [Forum](https://forum.ecmwf.int/) for Announcements, news and other discussed topics.\n",
      "2025-07-14 10:46:19,730 INFO status has been updated to successful\n"
     ]
    },
    {
     "data": {
      "application/vnd.jupyter.widget-view+json": {
       "model_id": "fd3c806a269e49f1a1446b5be8010a2a",
       "version_major": 2,
       "version_minor": 0
      },
      "text/plain": [
       "ff98b79ca14a2a59fdbbeedf8d7cf08.zip:   0%|          | 0.00/3.02M [00:00<?, ?B/s]"
      ]
     },
     "metadata": {},
     "output_type": "display_data"
    },
    {
     "name": "stderr",
     "output_type": "stream",
     "text": [
      "2025-07-14 10:46:19,978 INFO [2024-09-26T00:00:00] Watch our [Forum](https://forum.ecmwf.int/) for Announcements, news and other discussed topics.\n",
      "2025-07-14 10:46:26,139 INFO Request ID is 65e2bc0d-efb5-4cce-95c6-e6f5c7819be8\n",
      "2025-07-14 10:46:26,289 INFO Request ID is 505fb2ba-6af1-4720-bd1d-eb7820ad02d1\n",
      "2025-07-14 10:46:26,326 INFO status has been updated to accepted\n",
      "2025-07-14 10:46:26,369 INFO status has been updated to accepted\n",
      "2025-07-14 10:46:47,375 INFO status has been updated to running\n",
      "2025-07-14 10:46:59,018 INFO status has been updated to running\n",
      "2025-07-14 10:48:17,949 INFO status has been updated to successful\n"
     ]
    },
    {
     "data": {
      "application/vnd.jupyter.widget-view+json": {
       "model_id": "e8bd523961794f2db065509cb0eeca1c",
       "version_major": 2,
       "version_minor": 0
      },
      "text/plain": [
       "2920bd4a8559e843973f59092b814637.zip:   0%|          | 0.00/3.01M [00:00<?, ?B/s]"
      ]
     },
     "metadata": {},
     "output_type": "display_data"
    },
    {
     "name": "stderr",
     "output_type": "stream",
     "text": [
      "2025-07-14 10:48:18,900 INFO [2024-09-26T00:00:00] Watch our [Forum](https://forum.ecmwf.int/) for Announcements, news and other discussed topics.\n",
      "2025-07-14 10:48:32,257 INFO Request ID is 712a2aef-8853-461b-8b76-b4c2e84c8660\n",
      "2025-07-14 10:48:32,297 INFO status has been updated to accepted\n",
      "2025-07-14 10:48:40,920 INFO status has been updated to running\n",
      "2025-07-14 10:50:44,359 INFO status has been updated to successful\n"
     ]
    },
    {
     "data": {
      "application/vnd.jupyter.widget-view+json": {
       "model_id": "64f87dba54ed4808b0b4e864e9ceb0b0",
       "version_major": 2,
       "version_minor": 0
      },
      "text/plain": [
       "c40c2f107196ac5bc8f292a48579c849.zip:   0%|          | 0.00/3.01M [00:00<?, ?B/s]"
      ]
     },
     "metadata": {},
     "output_type": "display_data"
    },
    {
     "name": "stderr",
     "output_type": "stream",
     "text": [
      "2025-07-14 10:50:45,355 INFO status has been updated to successful\n"
     ]
    },
    {
     "data": {
      "application/vnd.jupyter.widget-view+json": {
       "model_id": "f20a58480cc442c3bbb164eea4c2f535",
       "version_major": 2,
       "version_minor": 0
      },
      "text/plain": [
       "a468a60fd9c592116465b3e354790cf.zip:   0%|          | 0.00/3.02M [00:00<?, ?B/s]"
      ]
     },
     "metadata": {},
     "output_type": "display_data"
    },
    {
     "name": "stderr",
     "output_type": "stream",
     "text": [
      "2025-07-14 10:50:59,300 INFO status has been updated to successful\n"
     ]
    },
    {
     "data": {
      "application/vnd.jupyter.widget-view+json": {
       "model_id": "eca426aa533b462ab6d8262bd445c25c",
       "version_major": 2,
       "version_minor": 0
      },
      "text/plain": [
       "f78bb559c942d94fb6c6cec5238a2072.zip:   0%|          | 0.00/3.01M [00:00<?, ?B/s]"
      ]
     },
     "metadata": {},
     "output_type": "display_data"
    },
    {
     "name": "stderr",
     "output_type": "stream",
     "text": [
      "2025-07-14 10:52:44,578 INFO status has been updated to successful\n"
     ]
    },
    {
     "data": {
      "application/vnd.jupyter.widget-view+json": {
       "model_id": "1cbeacab6e994e089ddde6eccb48ee59",
       "version_major": 2,
       "version_minor": 0
      },
      "text/plain": [
       "455e6dfd4a1059cb6c8f6de304917f39.zip:   0%|          | 0.00/3.01M [00:00<?, ?B/s]"
      ]
     },
     "metadata": {},
     "output_type": "display_data"
    },
    {
     "name": "stderr",
     "output_type": "stream",
     "text": [
      "2025-07-14 10:52:44,823 INFO status has been updated to successful\n"
     ]
    },
    {
     "data": {
      "application/vnd.jupyter.widget-view+json": {
       "model_id": "6a93ef20bb3348c180148cf1a5df2c49",
       "version_major": 2,
       "version_minor": 0
      },
      "text/plain": [
       "6842fe504db3e7ca9c54230bc4babc78.zip:   0%|          | 0.00/3.01M [00:00<?, ?B/s]"
      ]
     },
     "metadata": {},
     "output_type": "display_data"
    },
    {
     "name": "stderr",
     "output_type": "stream",
     "text": [
      "2025-07-14 10:54:51,205 INFO status has been updated to successful\n"
     ]
    },
    {
     "data": {
      "application/vnd.jupyter.widget-view+json": {
       "model_id": "c65b32ce50464c81800b662c1cc696f1",
       "version_major": 2,
       "version_minor": 0
      },
      "text/plain": [
       "260e997ac920240b7a3f79f8428b5915.zip:   0%|          | 0.00/3.02M [00:00<?, ?B/s]"
      ]
     },
     "metadata": {},
     "output_type": "display_data"
    }
   ],
   "source": [
    "# parallel downloads\n",
    "with Pool(8) as p:\n",
    "    p.starmap(retrieve_cds_data, requests)"
   ]
  },
  {
   "cell_type": "markdown",
   "metadata": {},
   "source": [
    "### Unzip downloaded files"
   ]
  },
  {
   "cell_type": "markdown",
   "metadata": {},
   "source": [
    "Since our data are inside zipped files we need to unzip them. The final NetCDF file will have a name according to the naming conventions of Pan-European Climate Database. You can find the explanation of the different fields in the [production guide](https://confluence.ecmwf.int/pages/viewpage.action?pageId=439598955#ClimateandenergyrelatedvariablesfromthePanEuropeanClimateDatabasederivedfromreanalysisandclimateprojections:Productuserguide(PUG)-Filenamesconventionandcharacteristics) of the PECD."
   ]
  },
  {
   "cell_type": "code",
   "execution_count": 18,
   "metadata": {},
   "outputs": [
    {
     "name": "stdout",
     "output_type": "stream",
     "text": [
      "Archive:  cds_data/explore-csv-data/pecd4_2_future_projections_cmcc_cm2_sr5_solar_photovoltaic_generation_capacity_factor_60_nuts_0_2083_ssp2_4_5.zip\n",
      "  inflating: cds_data/explore-csv-data/P_CMI6_CMCC_CMR5_SPV_0000m_Pecd_NUT0_S208301010000_E208312312300_CFR_TIM_01h_NA-_noc_org_60_SP245_NA---_PhM03_PECD4.2_fv1.csv  \n",
      "  inflating: cds_data/explore-csv-data/P_CMI6_CMCC_CMR5_SPV_0000m_Pecd_NUT0_S208401010000_E208412312300_CFR_TIM_01h_NA-_noc_org_60_SP245_NA---_PhM03_PECD4.2_fv1.csv  \n",
      "  inflating: cds_data/explore-csv-data/P_CMI6_CMCC_CMR5_SPV_0000m_Pecd_NUT0_S208301010000_E208312312300_CFR_TIM_01h_NA-_noc_org_60_SP585_NA---_PhM03_PECD4.2_fv1.csv  \n",
      "  inflating: cds_data/explore-csv-data/P_CMI6_CMCC_CMR5_SPV_0000m_Pecd_NUT0_S208401010000_E208412312300_CFR_TIM_01h_NA-_noc_org_60_SP585_NA---_PhM03_PECD4.2_fv1.csv  \n",
      "Archive:  cds_data/explore-csv-data/pecd4_2_future_projections_awi_cm_1_1_mr_solar_photovoltaic_generation_capacity_factor_60_nuts_0_2063_ssp2_4_5.zip\n",
      "  inflating: cds_data/explore-csv-data/P_CMI6_AWI-_AWCM_SPV_0000m_Pecd_NUT0_S206301010000_E206312312300_CFR_TIM_01h_NA-_noc_org_60_SP245_NA---_PhM03_PECD4.2_fv1.csv  \n",
      "  inflating: cds_data/explore-csv-data/P_CMI6_AWI-_AWCM_SPV_0000m_Pecd_NUT0_S206401010000_E206412312300_CFR_TIM_01h_NA-_noc_org_60_SP245_NA---_PhM03_PECD4.2_fv1.csv  \n",
      "  inflating: cds_data/explore-csv-data/P_CMI6_AWI-_AWCM_SPV_0000m_Pecd_NUT0_S206301010000_E206312312300_CFR_TIM_01h_NA-_noc_org_60_SP585_NA---_PhM03_PECD4.2_fv1.csv  \n",
      "  inflating: cds_data/explore-csv-data/P_CMI6_AWI-_AWCM_SPV_0000m_Pecd_NUT0_S206401010000_E206412312300_CFR_TIM_01h_NA-_noc_org_60_SP585_NA---_PhM03_PECD4.2_fv1.csv  \n",
      "Archive:  cds_data/explore-csv-data/pecd4_2_future_projections_ec_earth3_solar_photovoltaic_generation_capacity_factor_60_nuts_0_2071_ssp2_4_5.zip\n",
      "  inflating: cds_data/explore-csv-data/P_CMI6_ECEC_ECE3_SPV_0000m_Pecd_NUT0_S207101010000_E207112312300_CFR_TIM_01h_NA-_noc_org_60_SP245_NA---_PhM03_PECD4.2_fv1.csv  \n",
      "  inflating: cds_data/explore-csv-data/P_CMI6_ECEC_ECE3_SPV_0000m_Pecd_NUT0_S207201010000_E207212312300_CFR_TIM_01h_NA-_noc_org_60_SP245_NA---_PhM03_PECD4.2_fv1.csv  \n",
      "  inflating: cds_data/explore-csv-data/P_CMI6_ECEC_ECE3_SPV_0000m_Pecd_NUT0_S207101010000_E207112312300_CFR_TIM_01h_NA-_noc_org_60_SP585_NA---_PhM03_PECD4.2_fv1.csv  \n",
      "  inflating: cds_data/explore-csv-data/P_CMI6_ECEC_ECE3_SPV_0000m_Pecd_NUT0_S207201010000_E207212312300_CFR_TIM_01h_NA-_noc_org_60_SP585_NA---_PhM03_PECD4.2_fv1.csv  \n",
      "Archive:  cds_data/explore-csv-data/pecd4_2_future_projections_ec_earth3_solar_photovoltaic_generation_capacity_factor_60_nuts_0_2067_ssp2_4_5.zip\n",
      "  inflating: cds_data/explore-csv-data/P_CMI6_ECEC_ECE3_SPV_0000m_Pecd_NUT0_S206701010000_E206712312300_CFR_TIM_01h_NA-_noc_org_60_SP245_NA---_PhM03_PECD4.2_fv1.csv  \n",
      "  inflating: cds_data/explore-csv-data/P_CMI6_ECEC_ECE3_SPV_0000m_Pecd_NUT0_S206801010000_E206812312300_CFR_TIM_01h_NA-_noc_org_60_SP245_NA---_PhM03_PECD4.2_fv1.csv  \n",
      "  inflating: cds_data/explore-csv-data/P_CMI6_ECEC_ECE3_SPV_0000m_Pecd_NUT0_S206701010000_E206712312300_CFR_TIM_01h_NA-_noc_org_60_SP585_NA---_PhM03_PECD4.2_fv1.csv  \n",
      "  inflating: cds_data/explore-csv-data/P_CMI6_ECEC_ECE3_SPV_0000m_Pecd_NUT0_S206801010000_E206812312300_CFR_TIM_01h_NA-_noc_org_60_SP585_NA---_PhM03_PECD4.2_fv1.csv  \n",
      "Archive:  cds_data/explore-csv-data/pecd4_2_future_projections_cmcc_cm2_sr5_solar_photovoltaic_generation_capacity_factor_60_nuts_0_2067_ssp2_4_5.zip\n",
      "  inflating: cds_data/explore-csv-data/P_CMI6_CMCC_CMR5_SPV_0000m_Pecd_NUT0_S206701010000_E206712312300_CFR_TIM_01h_NA-_noc_org_60_SP245_NA---_PhM03_PECD4.2_fv1.csv  \n",
      "  inflating: cds_data/explore-csv-data/P_CMI6_CMCC_CMR5_SPV_0000m_Pecd_NUT0_S206801010000_E206812312300_CFR_TIM_01h_NA-_noc_org_60_SP245_NA---_PhM03_PECD4.2_fv1.csv  \n",
      "  inflating: cds_data/explore-csv-data/P_CMI6_CMCC_CMR5_SPV_0000m_Pecd_NUT0_S206701010000_E206712312300_CFR_TIM_01h_NA-_noc_org_60_SP585_NA---_PhM03_PECD4.2_fv1.csv  \n",
      "  inflating: cds_data/explore-csv-data/P_CMI6_CMCC_CMR5_SPV_0000m_Pecd_NUT0_S206801010000_E206812312300_CFR_TIM_01h_NA-_noc_org_60_SP585_NA---_PhM03_PECD4.2_fv1.csv  \n",
      "Archive:  cds_data/explore-csv-data/pecd4_2_historical_era5_reanalysis_solar_photovoltaic_generation_capacity_factor_60_nuts_0_1995.zip\n",
      "  inflating: cds_data/explore-csv-data/H_ERA5_ECMW_T639_SPV_0000m_Pecd_NUT0_S199501010000_E199512312300_CFR_TIM_01h_COM_noc_org_60_NA---_NA---_PhM03_PECD4.2_fv1.csv  \n",
      "  inflating: cds_data/explore-csv-data/H_ERA5_ECMW_T639_SPV_0000m_Pecd_NUT0_S199601010000_E199612312300_CFR_TIM_01h_COM_noc_org_60_NA---_NA---_PhM03_PECD4.2_fv1.csv  \n",
      "Archive:  cds_data/explore-csv-data/pecd4_2_historical_era5_reanalysis_solar_photovoltaic_generation_capacity_factor_60_nuts_0_1997.zip\n",
      "  inflating: cds_data/explore-csv-data/H_ERA5_ECMW_T639_SPV_0000m_Pecd_NUT0_S199701010000_E199712312300_CFR_TIM_01h_COM_noc_org_60_NA---_NA---_PhM03_PECD4.2_fv1.csv  \n",
      "  inflating: cds_data/explore-csv-data/H_ERA5_ECMW_T639_SPV_0000m_Pecd_NUT0_S199801010000_E199812312300_CFR_TIM_01h_COM_noc_org_60_NA---_NA---_PhM03_PECD4.2_fv1.csv  \n",
      "Archive:  cds_data/explore-csv-data/pecd4_2_historical_era5_reanalysis_solar_photovoltaic_generation_capacity_factor_60_nuts_0_2009.zip\n",
      "  inflating: cds_data/explore-csv-data/H_ERA5_ECMW_T639_SPV_0000m_Pecd_NUT0_S200901010000_E200912312300_CFR_TIM_01h_COM_noc_org_60_NA---_NA---_PhM03_PECD4.2_fv1.csv  \n",
      "  inflating: cds_data/explore-csv-data/H_ERA5_ECMW_T639_SPV_0000m_Pecd_NUT0_S201001010000_E201012312300_CFR_TIM_01h_COM_noc_org_60_NA---_NA---_PhM03_PECD4.2_fv1.csv  \n",
      "Archive:  cds_data/explore-csv-data/pecd4_2_future_projections_ec_earth3_solar_photovoltaic_generation_capacity_factor_60_nuts_0_2087_ssp2_4_5.zip\n",
      "  inflating: cds_data/explore-csv-data/P_CMI6_ECEC_ECE3_SPV_0000m_Pecd_NUT0_S208701010000_E208712312300_CFR_TIM_01h_NA-_noc_org_60_SP245_NA---_PhM03_PECD4.2_fv1.csv  \n",
      "  inflating: cds_data/explore-csv-data/P_CMI6_ECEC_ECE3_SPV_0000m_Pecd_NUT0_S208801010000_E208812312300_CFR_TIM_01h_NA-_noc_org_60_SP245_NA---_PhM03_PECD4.2_fv1.csv  \n",
      "  inflating: cds_data/explore-csv-data/P_CMI6_ECEC_ECE3_SPV_0000m_Pecd_NUT0_S208701010000_E208712312300_CFR_TIM_01h_NA-_noc_org_60_SP585_NA---_PhM03_PECD4.2_fv1.csv  \n",
      "  inflating: cds_data/explore-csv-data/P_CMI6_ECEC_ECE3_SPV_0000m_Pecd_NUT0_S208801010000_E208812312300_CFR_TIM_01h_NA-_noc_org_60_SP585_NA---_PhM03_PECD4.2_fv1.csv  \n",
      "Archive:  cds_data/explore-csv-data/pecd4_2_future_projections_ec_earth3_solar_photovoltaic_generation_capacity_factor_60_nuts_0_2077_ssp2_4_5.zip\n",
      "  inflating: cds_data/explore-csv-data/P_CMI6_ECEC_ECE3_SPV_0000m_Pecd_NUT0_S207701010000_E207712312300_CFR_TIM_01h_NA-_noc_org_60_SP245_NA---_PhM03_PECD4.2_fv1.csv  \n",
      "  inflating: cds_data/explore-csv-data/P_CMI6_ECEC_ECE3_SPV_0000m_Pecd_NUT0_S207801010000_E207812312300_CFR_TIM_01h_NA-_noc_org_60_SP245_NA---_PhM03_PECD4.2_fv1.csv  \n",
      "  inflating: cds_data/explore-csv-data/P_CMI6_ECEC_ECE3_SPV_0000m_Pecd_NUT0_S207701010000_E207712312300_CFR_TIM_01h_NA-_noc_org_60_SP585_NA---_PhM03_PECD4.2_fv1.csv  \n",
      "  inflating: cds_data/explore-csv-data/P_CMI6_ECEC_ECE3_SPV_0000m_Pecd_NUT0_S207801010000_E207812312300_CFR_TIM_01h_NA-_noc_org_60_SP585_NA---_PhM03_PECD4.2_fv1.csv  \n",
      "Archive:  cds_data/explore-csv-data/pecd4_2_future_projections_ec_earth3_solar_photovoltaic_generation_capacity_factor_60_nuts_0_2083_ssp2_4_5.zip\n",
      "  inflating: cds_data/explore-csv-data/P_CMI6_ECEC_ECE3_SPV_0000m_Pecd_NUT0_S208301010000_E208312312300_CFR_TIM_01h_NA-_noc_org_60_SP245_NA---_PhM03_PECD4.2_fv1.csv  \n",
      "  inflating: cds_data/explore-csv-data/P_CMI6_ECEC_ECE3_SPV_0000m_Pecd_NUT0_S208401010000_E208412312300_CFR_TIM_01h_NA-_noc_org_60_SP245_NA---_PhM03_PECD4.2_fv1.csv  \n",
      "  inflating: cds_data/explore-csv-data/P_CMI6_ECEC_ECE3_SPV_0000m_Pecd_NUT0_S208301010000_E208312312300_CFR_TIM_01h_NA-_noc_org_60_SP585_NA---_PhM03_PECD4.2_fv1.csv  \n",
      "  inflating: cds_data/explore-csv-data/P_CMI6_ECEC_ECE3_SPV_0000m_Pecd_NUT0_S208401010000_E208412312300_CFR_TIM_01h_NA-_noc_org_60_SP585_NA---_PhM03_PECD4.2_fv1.csv  \n",
      "Archive:  cds_data/explore-csv-data/pecd4_2_future_projections_awi_cm_1_1_mr_solar_photovoltaic_generation_capacity_factor_60_nuts_0_2087_ssp2_4_5.zip\n",
      "  inflating: cds_data/explore-csv-data/P_CMI6_AWI-_AWCM_SPV_0000m_Pecd_NUT0_S208701010000_E208712312300_CFR_TIM_01h_NA-_noc_org_60_SP245_NA---_PhM03_PECD4.2_fv1.csv  \n",
      "  inflating: cds_data/explore-csv-data/P_CMI6_AWI-_AWCM_SPV_0000m_Pecd_NUT0_S208801010000_E208812312300_CFR_TIM_01h_NA-_noc_org_60_SP245_NA---_PhM03_PECD4.2_fv1.csv  \n",
      "  inflating: cds_data/explore-csv-data/P_CMI6_AWI-_AWCM_SPV_0000m_Pecd_NUT0_S208701010000_E208712312300_CFR_TIM_01h_NA-_noc_org_60_SP585_NA---_PhM03_PECD4.2_fv1.csv  \n",
      "  inflating: cds_data/explore-csv-data/P_CMI6_AWI-_AWCM_SPV_0000m_Pecd_NUT0_S208801010000_E208812312300_CFR_TIM_01h_NA-_noc_org_60_SP585_NA---_PhM03_PECD4.2_fv1.csv  \n",
      "Archive:  cds_data/explore-csv-data/pecd4_2_future_projections_awi_cm_1_1_mr_solar_photovoltaic_generation_capacity_factor_60_nuts_0_2067_ssp2_4_5.zip\n",
      "  inflating: cds_data/explore-csv-data/P_CMI6_AWI-_AWCM_SPV_0000m_Pecd_NUT0_S206701010000_E206712312300_CFR_TIM_01h_NA-_noc_org_60_SP245_NA---_PhM03_PECD4.2_fv1.csv  \n",
      "  inflating: cds_data/explore-csv-data/P_CMI6_AWI-_AWCM_SPV_0000m_Pecd_NUT0_S206801010000_E206812312300_CFR_TIM_01h_NA-_noc_org_60_SP245_NA---_PhM03_PECD4.2_fv1.csv  \n",
      "  inflating: cds_data/explore-csv-data/P_CMI6_AWI-_AWCM_SPV_0000m_Pecd_NUT0_S206701010000_E206712312300_CFR_TIM_01h_NA-_noc_org_60_SP585_NA---_PhM03_PECD4.2_fv1.csv  \n",
      "  inflating: cds_data/explore-csv-data/P_CMI6_AWI-_AWCM_SPV_0000m_Pecd_NUT0_S206801010000_E206812312300_CFR_TIM_01h_NA-_noc_org_60_SP585_NA---_PhM03_PECD4.2_fv1.csv  \n",
      "Archive:  cds_data/explore-csv-data/pecd4_2_historical_era5_reanalysis_solar_photovoltaic_generation_capacity_factor_60_nuts_0_1999.zip\n",
      "  inflating: cds_data/explore-csv-data/H_ERA5_ECMW_T639_SPV_0000m_Pecd_NUT0_S199901010000_E199912312300_CFR_TIM_01h_COM_noc_org_60_NA---_NA---_PhM03_PECD4.2_fv1.csv  \n",
      "  inflating: cds_data/explore-csv-data/H_ERA5_ECMW_T639_SPV_0000m_Pecd_NUT0_S200001010000_E200012312300_CFR_TIM_01h_COM_noc_org_60_NA---_NA---_PhM03_PECD4.2_fv1.csv  \n",
      "Archive:  cds_data/explore-csv-data/pecd4_2_future_projections_cmcc_cm2_sr5_solar_photovoltaic_generation_capacity_factor_60_nuts_0_2077_ssp2_4_5.zip\n",
      "  inflating: cds_data/explore-csv-data/P_CMI6_CMCC_CMR5_SPV_0000m_Pecd_NUT0_S207701010000_E207712312300_CFR_TIM_01h_NA-_noc_org_60_SP245_NA---_PhM03_PECD4.2_fv1.csv  \n",
      "  inflating: cds_data/explore-csv-data/P_CMI6_CMCC_CMR5_SPV_0000m_Pecd_NUT0_S207801010000_E207812312300_CFR_TIM_01h_NA-_noc_org_60_SP245_NA---_PhM03_PECD4.2_fv1.csv  \n",
      "  inflating: cds_data/explore-csv-data/P_CMI6_CMCC_CMR5_SPV_0000m_Pecd_NUT0_S207701010000_E207712312300_CFR_TIM_01h_NA-_noc_org_60_SP585_NA---_PhM03_PECD4.2_fv1.csv  \n",
      "  inflating: cds_data/explore-csv-data/P_CMI6_CMCC_CMR5_SPV_0000m_Pecd_NUT0_S207801010000_E207812312300_CFR_TIM_01h_NA-_noc_org_60_SP585_NA---_PhM03_PECD4.2_fv1.csv  \n",
      "Archive:  cds_data/explore-csv-data/pecd4_2_historical_era5_reanalysis_solar_photovoltaic_generation_capacity_factor_60_nuts_0_2005.zip\n",
      "  inflating: cds_data/explore-csv-data/H_ERA5_ECMW_T639_SPV_0000m_Pecd_NUT0_S200501010000_E200512312300_CFR_TIM_01h_COM_noc_org_60_NA---_NA---_PhM03_PECD4.2_fv1.csv  \n",
      "  inflating: cds_data/explore-csv-data/H_ERA5_ECMW_T639_SPV_0000m_Pecd_NUT0_S200601010000_E200612312300_CFR_TIM_01h_COM_noc_org_60_NA---_NA---_PhM03_PECD4.2_fv1.csv  \n",
      "Archive:  cds_data/explore-csv-data/pecd4_2_future_projections_awi_cm_1_1_mr_solar_photovoltaic_generation_capacity_factor_60_nuts_0_2077_ssp2_4_5.zip\n",
      "  inflating: cds_data/explore-csv-data/P_CMI6_AWI-_AWCM_SPV_0000m_Pecd_NUT0_S207701010000_E207712312300_CFR_TIM_01h_NA-_noc_org_60_SP245_NA---_PhM03_PECD4.2_fv1.csv  \n",
      "  inflating: cds_data/explore-csv-data/P_CMI6_AWI-_AWCM_SPV_0000m_Pecd_NUT0_S207801010000_E207812312300_CFR_TIM_01h_NA-_noc_org_60_SP245_NA---_PhM03_PECD4.2_fv1.csv  \n",
      "  inflating: cds_data/explore-csv-data/P_CMI6_AWI-_AWCM_SPV_0000m_Pecd_NUT0_S207701010000_E207712312300_CFR_TIM_01h_NA-_noc_org_60_SP585_NA---_PhM03_PECD4.2_fv1.csv  \n",
      "  inflating: cds_data/explore-csv-data/P_CMI6_AWI-_AWCM_SPV_0000m_Pecd_NUT0_S207801010000_E207812312300_CFR_TIM_01h_NA-_noc_org_60_SP585_NA---_PhM03_PECD4.2_fv1.csv  \n",
      "Archive:  cds_data/explore-csv-data/pecd4_2_historical_era5_reanalysis_solar_photovoltaic_generation_capacity_factor_60_nuts_0_2001.zip\n",
      "  inflating: cds_data/explore-csv-data/H_ERA5_ECMW_T639_SPV_0000m_Pecd_NUT0_S200101010000_E200112312300_CFR_TIM_01h_COM_noc_org_60_NA---_NA---_PhM03_PECD4.2_fv1.csv  \n",
      "  inflating: cds_data/explore-csv-data/H_ERA5_ECMW_T639_SPV_0000m_Pecd_NUT0_S200201010000_E200212312300_CFR_TIM_01h_COM_noc_org_60_NA---_NA---_PhM03_PECD4.2_fv1.csv  \n",
      "Archive:  cds_data/explore-csv-data/pecd4_2_historical_era5_reanalysis_solar_photovoltaic_generation_capacity_factor_60_nuts_0_2013.zip\n",
      "  inflating: cds_data/explore-csv-data/H_ERA5_ECMW_T639_SPV_0000m_Pecd_NUT0_S201301010000_E201312312300_CFR_TIM_01h_COM_noc_org_60_NA---_NA---_PhM03_PECD4.2_fv1.csv  \n",
      "  inflating: cds_data/explore-csv-data/H_ERA5_ECMW_T639_SPV_0000m_Pecd_NUT0_S201401010000_E201412312300_CFR_TIM_01h_COM_noc_org_60_NA---_NA---_PhM03_PECD4.2_fv1.csv  \n",
      "Archive:  cds_data/explore-csv-data/pecd4_2_future_projections_cmcc_cm2_sr5_solar_photovoltaic_generation_capacity_factor_60_nuts_0_2085_ssp2_4_5.zip\n",
      "  inflating: cds_data/explore-csv-data/P_CMI6_CMCC_CMR5_SPV_0000m_Pecd_NUT0_S208501010000_E208512312300_CFR_TIM_01h_NA-_noc_org_60_SP245_NA---_PhM03_PECD4.2_fv1.csv  \n",
      "  inflating: cds_data/explore-csv-data/P_CMI6_CMCC_CMR5_SPV_0000m_Pecd_NUT0_S208601010000_E208612312300_CFR_TIM_01h_NA-_noc_org_60_SP245_NA---_PhM03_PECD4.2_fv1.csv  \n",
      "  inflating: cds_data/explore-csv-data/P_CMI6_CMCC_CMR5_SPV_0000m_Pecd_NUT0_S208501010000_E208512312300_CFR_TIM_01h_NA-_noc_org_60_SP585_NA---_PhM03_PECD4.2_fv1.csv  \n",
      "  inflating: cds_data/explore-csv-data/P_CMI6_CMCC_CMR5_SPV_0000m_Pecd_NUT0_S208601010000_E208612312300_CFR_TIM_01h_NA-_noc_org_60_SP585_NA---_PhM03_PECD4.2_fv1.csv  \n",
      "Archive:  cds_data/explore-csv-data/pecd4_2_future_projections_cmcc_cm2_sr5_solar_photovoltaic_generation_capacity_factor_60_nuts_0_2065_ssp2_4_5.zip\n",
      "  inflating: cds_data/explore-csv-data/P_CMI6_CMCC_CMR5_SPV_0000m_Pecd_NUT0_S206501010000_E206512312300_CFR_TIM_01h_NA-_noc_org_60_SP245_NA---_PhM03_PECD4.2_fv1.csv  \n",
      "  inflating: cds_data/explore-csv-data/P_CMI6_CMCC_CMR5_SPV_0000m_Pecd_NUT0_S206601010000_E206612312300_CFR_TIM_01h_NA-_noc_org_60_SP245_NA---_PhM03_PECD4.2_fv1.csv  \n",
      "  inflating: cds_data/explore-csv-data/P_CMI6_CMCC_CMR5_SPV_0000m_Pecd_NUT0_S206501010000_E206512312300_CFR_TIM_01h_NA-_noc_org_60_SP585_NA---_PhM03_PECD4.2_fv1.csv  \n",
      "  inflating: cds_data/explore-csv-data/P_CMI6_CMCC_CMR5_SPV_0000m_Pecd_NUT0_S206601010000_E206612312300_CFR_TIM_01h_NA-_noc_org_60_SP585_NA---_PhM03_PECD4.2_fv1.csv  \n",
      "Archive:  cds_data/explore-csv-data/pecd4_2_historical_era5_reanalysis_solar_photovoltaic_generation_capacity_factor_60_nuts_0_2019.zip\n",
      "  inflating: cds_data/explore-csv-data/H_ERA5_ECMW_T639_SPV_0000m_Pecd_NUT0_S201901010000_E201912312300_CFR_TIM_01h_COM_noc_org_60_NA---_NA---_PhM03_PECD4.2_fv1.csv  \n",
      "  inflating: cds_data/explore-csv-data/H_ERA5_ECMW_T639_SPV_0000m_Pecd_NUT0_S202001010000_E202012312300_CFR_TIM_01h_COM_noc_org_60_NA---_NA---_PhM03_PECD4.2_fv1.csv  \n",
      "Archive:  cds_data/explore-csv-data/pecd4_2_future_projections_awi_cm_1_1_mr_solar_photovoltaic_generation_capacity_factor_60_nuts_0_2065_ssp2_4_5.zip\n",
      "  inflating: cds_data/explore-csv-data/P_CMI6_AWI-_AWCM_SPV_0000m_Pecd_NUT0_S206501010000_E206512312300_CFR_TIM_01h_NA-_noc_org_60_SP245_NA---_PhM03_PECD4.2_fv1.csv  \n",
      "  inflating: cds_data/explore-csv-data/P_CMI6_AWI-_AWCM_SPV_0000m_Pecd_NUT0_S206601010000_E206612312300_CFR_TIM_01h_NA-_noc_org_60_SP245_NA---_PhM03_PECD4.2_fv1.csv  \n",
      "  inflating: cds_data/explore-csv-data/P_CMI6_AWI-_AWCM_SPV_0000m_Pecd_NUT0_S206501010000_E206512312300_CFR_TIM_01h_NA-_noc_org_60_SP585_NA---_PhM03_PECD4.2_fv1.csv  \n",
      "  inflating: cds_data/explore-csv-data/P_CMI6_AWI-_AWCM_SPV_0000m_Pecd_NUT0_S206601010000_E206612312300_CFR_TIM_01h_NA-_noc_org_60_SP585_NA---_PhM03_PECD4.2_fv1.csv  \n",
      "Archive:  cds_data/explore-csv-data/pecd4_2_future_projections_cmcc_cm2_sr5_solar_photovoltaic_generation_capacity_factor_60_nuts_0_2087_ssp2_4_5.zip\n",
      "  inflating: cds_data/explore-csv-data/P_CMI6_CMCC_CMR5_SPV_0000m_Pecd_NUT0_S208701010000_E208712312300_CFR_TIM_01h_NA-_noc_org_60_SP245_NA---_PhM03_PECD4.2_fv1.csv  \n",
      "  inflating: cds_data/explore-csv-data/P_CMI6_CMCC_CMR5_SPV_0000m_Pecd_NUT0_S208801010000_E208812312300_CFR_TIM_01h_NA-_noc_org_60_SP245_NA---_PhM03_PECD4.2_fv1.csv  \n",
      "  inflating: cds_data/explore-csv-data/P_CMI6_CMCC_CMR5_SPV_0000m_Pecd_NUT0_S208701010000_E208712312300_CFR_TIM_01h_NA-_noc_org_60_SP585_NA---_PhM03_PECD4.2_fv1.csv  \n",
      "  inflating: cds_data/explore-csv-data/P_CMI6_CMCC_CMR5_SPV_0000m_Pecd_NUT0_S208801010000_E208812312300_CFR_TIM_01h_NA-_noc_org_60_SP585_NA---_PhM03_PECD4.2_fv1.csv  \n",
      "Archive:  cds_data/explore-csv-data/pecd4_2_future_projections_awi_cm_1_1_mr_solar_photovoltaic_generation_capacity_factor_60_nuts_0_2085_ssp2_4_5.zip\n",
      "  inflating: cds_data/explore-csv-data/P_CMI6_AWI-_AWCM_SPV_0000m_Pecd_NUT0_S208501010000_E208512312300_CFR_TIM_01h_NA-_noc_org_60_SP245_NA---_PhM03_PECD4.2_fv1.csv  \n",
      "  inflating: cds_data/explore-csv-data/P_CMI6_AWI-_AWCM_SPV_0000m_Pecd_NUT0_S208601010000_E208612312300_CFR_TIM_01h_NA-_noc_org_60_SP245_NA---_PhM03_PECD4.2_fv1.csv  \n",
      "  inflating: cds_data/explore-csv-data/P_CMI6_AWI-_AWCM_SPV_0000m_Pecd_NUT0_S208501010000_E208512312300_CFR_TIM_01h_NA-_noc_org_60_SP585_NA---_PhM03_PECD4.2_fv1.csv  \n",
      "  inflating: cds_data/explore-csv-data/P_CMI6_AWI-_AWCM_SPV_0000m_Pecd_NUT0_S208601010000_E208612312300_CFR_TIM_01h_NA-_noc_org_60_SP585_NA---_PhM03_PECD4.2_fv1.csv  \n",
      "Archive:  cds_data/explore-csv-data/pecd4_2_historical_era5_reanalysis_solar_photovoltaic_generation_capacity_factor_60_nuts_0_2017.zip\n",
      "  inflating: cds_data/explore-csv-data/H_ERA5_ECMW_T639_SPV_0000m_Pecd_NUT0_S201701010000_E201712312300_CFR_TIM_01h_COM_noc_org_60_NA---_NA---_PhM03_PECD4.2_fv1.csv  \n",
      "  inflating: cds_data/explore-csv-data/H_ERA5_ECMW_T639_SPV_0000m_Pecd_NUT0_S201801010000_E201812312300_CFR_TIM_01h_COM_noc_org_60_NA---_NA---_PhM03_PECD4.2_fv1.csv  \n",
      "Archive:  cds_data/explore-csv-data/pecd4_2_future_projections_ec_earth3_solar_photovoltaic_generation_capacity_factor_60_nuts_0_2069_ssp2_4_5.zip\n",
      "  inflating: cds_data/explore-csv-data/P_CMI6_ECEC_ECE3_SPV_0000m_Pecd_NUT0_S206901010000_E206912312300_CFR_TIM_01h_NA-_noc_org_60_SP245_NA---_PhM03_PECD4.2_fv1.csv  \n",
      "  inflating: cds_data/explore-csv-data/P_CMI6_ECEC_ECE3_SPV_0000m_Pecd_NUT0_S207001010000_E207012312300_CFR_TIM_01h_NA-_noc_org_60_SP245_NA---_PhM03_PECD4.2_fv1.csv  \n",
      "  inflating: cds_data/explore-csv-data/P_CMI6_ECEC_ECE3_SPV_0000m_Pecd_NUT0_S206901010000_E206912312300_CFR_TIM_01h_NA-_noc_org_60_SP585_NA---_PhM03_PECD4.2_fv1.csv  \n",
      "  inflating: cds_data/explore-csv-data/P_CMI6_ECEC_ECE3_SPV_0000m_Pecd_NUT0_S207001010000_E207012312300_CFR_TIM_01h_NA-_noc_org_60_SP585_NA---_PhM03_PECD4.2_fv1.csv  \n",
      "Archive:  cds_data/explore-csv-data/pecd4_2_future_projections_awi_cm_1_1_mr_solar_photovoltaic_generation_capacity_factor_60_nuts_0_2073_ssp2_4_5.zip\n",
      "  inflating: cds_data/explore-csv-data/P_CMI6_AWI-_AWCM_SPV_0000m_Pecd_NUT0_S207301010000_E207312312300_CFR_TIM_01h_NA-_noc_org_60_SP245_NA---_PhM03_PECD4.2_fv1.csv  \n",
      "  inflating: cds_data/explore-csv-data/P_CMI6_AWI-_AWCM_SPV_0000m_Pecd_NUT0_S207401010000_E207412312300_CFR_TIM_01h_NA-_noc_org_60_SP245_NA---_PhM03_PECD4.2_fv1.csv  \n",
      "  inflating: cds_data/explore-csv-data/P_CMI6_AWI-_AWCM_SPV_0000m_Pecd_NUT0_S207301010000_E207312312300_CFR_TIM_01h_NA-_noc_org_60_SP585_NA---_PhM03_PECD4.2_fv1.csv  \n",
      "  inflating: cds_data/explore-csv-data/P_CMI6_AWI-_AWCM_SPV_0000m_Pecd_NUT0_S207401010000_E207412312300_CFR_TIM_01h_NA-_noc_org_60_SP585_NA---_PhM03_PECD4.2_fv1.csv  \n",
      "Archive:  cds_data/explore-csv-data/pecd4_2_historical_era5_reanalysis_solar_photovoltaic_generation_capacity_factor_60_nuts_0_1993.zip\n",
      "  inflating: cds_data/explore-csv-data/H_ERA5_ECMW_T639_SPV_0000m_Pecd_NUT0_S199301010000_E199312312300_CFR_TIM_01h_COM_noc_org_60_NA---_NA---_PhM03_PECD4.2_fv1.csv  \n",
      "  inflating: cds_data/explore-csv-data/H_ERA5_ECMW_T639_SPV_0000m_Pecd_NUT0_S199401010000_E199412312300_CFR_TIM_01h_COM_noc_org_60_NA---_NA---_PhM03_PECD4.2_fv1.csv  \n",
      "Archive:  cds_data/explore-csv-data/pecd4_2_future_projections_awi_cm_1_1_mr_solar_photovoltaic_generation_capacity_factor_60_nuts_0_2069_ssp2_4_5.zip\n",
      "  inflating: cds_data/explore-csv-data/P_CMI6_AWI-_AWCM_SPV_0000m_Pecd_NUT0_S206901010000_E206912312300_CFR_TIM_01h_NA-_noc_org_60_SP245_NA---_PhM03_PECD4.2_fv1.csv  \n",
      "  inflating: cds_data/explore-csv-data/P_CMI6_AWI-_AWCM_SPV_0000m_Pecd_NUT0_S207001010000_E207012312300_CFR_TIM_01h_NA-_noc_org_60_SP245_NA---_PhM03_PECD4.2_fv1.csv  \n",
      "  inflating: cds_data/explore-csv-data/P_CMI6_AWI-_AWCM_SPV_0000m_Pecd_NUT0_S206901010000_E206912312300_CFR_TIM_01h_NA-_noc_org_60_SP585_NA---_PhM03_PECD4.2_fv1.csv  \n",
      "  inflating: cds_data/explore-csv-data/P_CMI6_AWI-_AWCM_SPV_0000m_Pecd_NUT0_S207001010000_E207012312300_CFR_TIM_01h_NA-_noc_org_60_SP585_NA---_PhM03_PECD4.2_fv1.csv  \n",
      "Archive:  cds_data/explore-csv-data/pecd4_2_historical_era5_reanalysis_solar_photovoltaic_generation_capacity_factor_60_nuts_0_1991.zip\n",
      "  inflating: cds_data/explore-csv-data/H_ERA5_ECMW_T639_SPV_0000m_Pecd_NUT0_S199101010000_E199112312300_CFR_TIM_01h_COM_noc_org_60_NA---_NA---_PhM03_PECD4.2_fv1.csv  \n",
      "  inflating: cds_data/explore-csv-data/H_ERA5_ECMW_T639_SPV_0000m_Pecd_NUT0_S199201010000_E199212312300_CFR_TIM_01h_COM_noc_org_60_NA---_NA---_PhM03_PECD4.2_fv1.csv  \n",
      "Archive:  cds_data/explore-csv-data/pecd4_2_future_projections_ec_earth3_solar_photovoltaic_generation_capacity_factor_60_nuts_0_2089_ssp2_4_5.zip\n",
      "  inflating: cds_data/explore-csv-data/P_CMI6_ECEC_ECE3_SPV_0000m_Pecd_NUT0_S208901010000_E208912312300_CFR_TIM_01h_NA-_noc_org_60_SP245_NA---_PhM03_PECD4.2_fv1.csv  \n",
      "  inflating: cds_data/explore-csv-data/P_CMI6_ECEC_ECE3_SPV_0000m_Pecd_NUT0_S209001010000_E209012312300_CFR_TIM_01h_NA-_noc_org_60_SP245_NA---_PhM03_PECD4.2_fv1.csv  \n",
      "  inflating: cds_data/explore-csv-data/P_CMI6_ECEC_ECE3_SPV_0000m_Pecd_NUT0_S208901010000_E208912312300_CFR_TIM_01h_NA-_noc_org_60_SP585_NA---_PhM03_PECD4.2_fv1.csv  \n",
      "  inflating: cds_data/explore-csv-data/P_CMI6_ECEC_ECE3_SPV_0000m_Pecd_NUT0_S209001010000_E209012312300_CFR_TIM_01h_NA-_noc_org_60_SP585_NA---_PhM03_PECD4.2_fv1.csv  \n",
      "Archive:  cds_data/explore-csv-data/pecd4_2_future_projections_cmcc_cm2_sr5_solar_photovoltaic_generation_capacity_factor_60_nuts_0_2061_ssp2_4_5.zip\n",
      "  inflating: cds_data/explore-csv-data/P_CMI6_CMCC_CMR5_SPV_0000m_Pecd_NUT0_S206101010000_E206112312300_CFR_TIM_01h_NA-_noc_org_60_SP245_NA---_PhM03_PECD4.2_fv1.csv  \n",
      "  inflating: cds_data/explore-csv-data/P_CMI6_CMCC_CMR5_SPV_0000m_Pecd_NUT0_S206201010000_E206212312300_CFR_TIM_01h_NA-_noc_org_60_SP245_NA---_PhM03_PECD4.2_fv1.csv  \n",
      "  inflating: cds_data/explore-csv-data/P_CMI6_CMCC_CMR5_SPV_0000m_Pecd_NUT0_S206101010000_E206112312300_CFR_TIM_01h_NA-_noc_org_60_SP585_NA---_PhM03_PECD4.2_fv1.csv  \n",
      "  inflating: cds_data/explore-csv-data/P_CMI6_CMCC_CMR5_SPV_0000m_Pecd_NUT0_S206201010000_E206212312300_CFR_TIM_01h_NA-_noc_org_60_SP585_NA---_PhM03_PECD4.2_fv1.csv  \n",
      "Archive:  cds_data/explore-csv-data/pecd4_2_historical_era5_reanalysis_solar_photovoltaic_generation_capacity_factor_60_nuts_0_2011.zip\n",
      "  inflating: cds_data/explore-csv-data/H_ERA5_ECMW_T639_SPV_0000m_Pecd_NUT0_S201101010000_E201112312300_CFR_TIM_01h_COM_noc_org_60_NA---_NA---_PhM03_PECD4.2_fv1.csv  \n",
      "  inflating: cds_data/explore-csv-data/H_ERA5_ECMW_T639_SPV_0000m_Pecd_NUT0_S201201010000_E201212312300_CFR_TIM_01h_COM_noc_org_60_NA---_NA---_PhM03_PECD4.2_fv1.csv  \n",
      "Archive:  cds_data/explore-csv-data/pecd4_2_future_projections_awi_cm_1_1_mr_solar_photovoltaic_generation_capacity_factor_60_nuts_0_2061_ssp2_4_5.zip\n",
      "  inflating: cds_data/explore-csv-data/P_CMI6_AWI-_AWCM_SPV_0000m_Pecd_NUT0_S206101010000_E206112312300_CFR_TIM_01h_NA-_noc_org_60_SP245_NA---_PhM03_PECD4.2_fv1.csv  \n",
      "  inflating: cds_data/explore-csv-data/P_CMI6_AWI-_AWCM_SPV_0000m_Pecd_NUT0_S206201010000_E206212312300_CFR_TIM_01h_NA-_noc_org_60_SP245_NA---_PhM03_PECD4.2_fv1.csv  \n",
      "  inflating: cds_data/explore-csv-data/P_CMI6_AWI-_AWCM_SPV_0000m_Pecd_NUT0_S206101010000_E206112312300_CFR_TIM_01h_NA-_noc_org_60_SP585_NA---_PhM03_PECD4.2_fv1.csv  \n",
      "  inflating: cds_data/explore-csv-data/P_CMI6_AWI-_AWCM_SPV_0000m_Pecd_NUT0_S206201010000_E206212312300_CFR_TIM_01h_NA-_noc_org_60_SP585_NA---_PhM03_PECD4.2_fv1.csv  \n",
      "Archive:  cds_data/explore-csv-data/pecd4_2_future_projections_cmcc_cm2_sr5_solar_photovoltaic_generation_capacity_factor_60_nuts_0_2071_ssp2_4_5.zip\n",
      "  inflating: cds_data/explore-csv-data/P_CMI6_CMCC_CMR5_SPV_0000m_Pecd_NUT0_S207101010000_E207112312300_CFR_TIM_01h_NA-_noc_org_60_SP245_NA---_PhM03_PECD4.2_fv1.csv  \n",
      "  inflating: cds_data/explore-csv-data/P_CMI6_CMCC_CMR5_SPV_0000m_Pecd_NUT0_S207201010000_E207212312300_CFR_TIM_01h_NA-_noc_org_60_SP245_NA---_PhM03_PECD4.2_fv1.csv  \n",
      "  inflating: cds_data/explore-csv-data/P_CMI6_CMCC_CMR5_SPV_0000m_Pecd_NUT0_S207101010000_E207112312300_CFR_TIM_01h_NA-_noc_org_60_SP585_NA---_PhM03_PECD4.2_fv1.csv  \n",
      "  inflating: cds_data/explore-csv-data/P_CMI6_CMCC_CMR5_SPV_0000m_Pecd_NUT0_S207201010000_E207212312300_CFR_TIM_01h_NA-_noc_org_60_SP585_NA---_PhM03_PECD4.2_fv1.csv  \n",
      "Archive:  cds_data/explore-csv-data/pecd4_2_future_projections_ec_earth3_solar_photovoltaic_generation_capacity_factor_60_nuts_0_2061_ssp2_4_5.zip\n",
      "  inflating: cds_data/explore-csv-data/P_CMI6_ECEC_ECE3_SPV_0000m_Pecd_NUT0_S206101010000_E206112312300_CFR_TIM_01h_NA-_noc_org_60_SP245_NA---_PhM03_PECD4.2_fv1.csv  \n",
      "  inflating: cds_data/explore-csv-data/P_CMI6_ECEC_ECE3_SPV_0000m_Pecd_NUT0_S206201010000_E206212312300_CFR_TIM_01h_NA-_noc_org_60_SP245_NA---_PhM03_PECD4.2_fv1.csv  \n",
      "  inflating: cds_data/explore-csv-data/P_CMI6_ECEC_ECE3_SPV_0000m_Pecd_NUT0_S206101010000_E206112312300_CFR_TIM_01h_NA-_noc_org_60_SP585_NA---_PhM03_PECD4.2_fv1.csv  \n",
      "  inflating: cds_data/explore-csv-data/P_CMI6_ECEC_ECE3_SPV_0000m_Pecd_NUT0_S206201010000_E206212312300_CFR_TIM_01h_NA-_noc_org_60_SP585_NA---_PhM03_PECD4.2_fv1.csv  \n",
      "Archive:  cds_data/explore-csv-data/pecd4_2_historical_era5_reanalysis_solar_photovoltaic_generation_capacity_factor_60_nuts_0_2015.zip\n",
      "  inflating: cds_data/explore-csv-data/H_ERA5_ECMW_T639_SPV_0000m_Pecd_NUT0_S201501010000_E201512312300_CFR_TIM_01h_COM_noc_org_60_NA---_NA---_PhM03_PECD4.2_fv1.csv  \n",
      "  inflating: cds_data/explore-csv-data/H_ERA5_ECMW_T639_SPV_0000m_Pecd_NUT0_S201601010000_E201612312300_CFR_TIM_01h_COM_noc_org_60_NA---_NA---_PhM03_PECD4.2_fv1.csv  \n",
      "Archive:  cds_data/explore-csv-data/pecd4_2_future_projections_ec_earth3_solar_photovoltaic_generation_capacity_factor_60_nuts_0_2085_ssp2_4_5.zip\n",
      "  inflating: cds_data/explore-csv-data/P_CMI6_ECEC_ECE3_SPV_0000m_Pecd_NUT0_S208501010000_E208512312300_CFR_TIM_01h_NA-_noc_org_60_SP245_NA---_PhM03_PECD4.2_fv1.csv  \n",
      "  inflating: cds_data/explore-csv-data/P_CMI6_ECEC_ECE3_SPV_0000m_Pecd_NUT0_S208601010000_E208612312300_CFR_TIM_01h_NA-_noc_org_60_SP245_NA---_PhM03_PECD4.2_fv1.csv  \n",
      "  inflating: cds_data/explore-csv-data/P_CMI6_ECEC_ECE3_SPV_0000m_Pecd_NUT0_S208501010000_E208512312300_CFR_TIM_01h_NA-_noc_org_60_SP585_NA---_PhM03_PECD4.2_fv1.csv  \n",
      "  inflating: cds_data/explore-csv-data/P_CMI6_ECEC_ECE3_SPV_0000m_Pecd_NUT0_S208601010000_E208612312300_CFR_TIM_01h_NA-_noc_org_60_SP585_NA---_PhM03_PECD4.2_fv1.csv  \n",
      "Archive:  cds_data/explore-csv-data/pecd4_2_future_projections_awi_cm_1_1_mr_solar_photovoltaic_generation_capacity_factor_60_nuts_0_2079_ssp2_4_5.zip\n",
      "  inflating: cds_data/explore-csv-data/P_CMI6_AWI-_AWCM_SPV_0000m_Pecd_NUT0_S207901010000_E207912312300_CFR_TIM_01h_NA-_noc_org_60_SP245_NA---_PhM03_PECD4.2_fv1.csv  \n",
      "  inflating: cds_data/explore-csv-data/P_CMI6_AWI-_AWCM_SPV_0000m_Pecd_NUT0_S208001010000_E208012312300_CFR_TIM_01h_NA-_noc_org_60_SP245_NA---_PhM03_PECD4.2_fv1.csv  \n",
      "  inflating: cds_data/explore-csv-data/P_CMI6_AWI-_AWCM_SPV_0000m_Pecd_NUT0_S207901010000_E207912312300_CFR_TIM_01h_NA-_noc_org_60_SP585_NA---_PhM03_PECD4.2_fv1.csv  \n",
      "  inflating: cds_data/explore-csv-data/P_CMI6_AWI-_AWCM_SPV_0000m_Pecd_NUT0_S208001010000_E208012312300_CFR_TIM_01h_NA-_noc_org_60_SP585_NA---_PhM03_PECD4.2_fv1.csv  \n",
      "Archive:  cds_data/explore-csv-data/pecd4_2_future_projections_ec_earth3_solar_photovoltaic_generation_capacity_factor_60_nuts_0_2073_ssp2_4_5.zip\n",
      "  inflating: cds_data/explore-csv-data/P_CMI6_ECEC_ECE3_SPV_0000m_Pecd_NUT0_S207301010000_E207312312300_CFR_TIM_01h_NA-_noc_org_60_SP245_NA---_PhM03_PECD4.2_fv1.csv  \n",
      "  inflating: cds_data/explore-csv-data/P_CMI6_ECEC_ECE3_SPV_0000m_Pecd_NUT0_S207401010000_E207412312300_CFR_TIM_01h_NA-_noc_org_60_SP245_NA---_PhM03_PECD4.2_fv1.csv  \n",
      "  inflating: cds_data/explore-csv-data/P_CMI6_ECEC_ECE3_SPV_0000m_Pecd_NUT0_S207301010000_E207312312300_CFR_TIM_01h_NA-_noc_org_60_SP585_NA---_PhM03_PECD4.2_fv1.csv  \n",
      "  inflating: cds_data/explore-csv-data/P_CMI6_ECEC_ECE3_SPV_0000m_Pecd_NUT0_S207401010000_E207412312300_CFR_TIM_01h_NA-_noc_org_60_SP585_NA---_PhM03_PECD4.2_fv1.csv  \n",
      "Archive:  cds_data/explore-csv-data/pecd4_2_future_projections_awi_cm_1_1_mr_solar_photovoltaic_generation_capacity_factor_60_nuts_0_2075_ssp2_4_5.zip\n",
      "  inflating: cds_data/explore-csv-data/P_CMI6_AWI-_AWCM_SPV_0000m_Pecd_NUT0_S207501010000_E207512312300_CFR_TIM_01h_NA-_noc_org_60_SP245_NA---_PhM03_PECD4.2_fv1.csv  \n",
      "  inflating: cds_data/explore-csv-data/P_CMI6_AWI-_AWCM_SPV_0000m_Pecd_NUT0_S207601010000_E207612312300_CFR_TIM_01h_NA-_noc_org_60_SP245_NA---_PhM03_PECD4.2_fv1.csv  \n",
      "  inflating: cds_data/explore-csv-data/P_CMI6_AWI-_AWCM_SPV_0000m_Pecd_NUT0_S207501010000_E207512312300_CFR_TIM_01h_NA-_noc_org_60_SP585_NA---_PhM03_PECD4.2_fv1.csv  \n",
      "  inflating: cds_data/explore-csv-data/P_CMI6_AWI-_AWCM_SPV_0000m_Pecd_NUT0_S207601010000_E207612312300_CFR_TIM_01h_NA-_noc_org_60_SP585_NA---_PhM03_PECD4.2_fv1.csv  \n",
      "Archive:  cds_data/explore-csv-data/pecd4_2_future_projections_cmcc_cm2_sr5_solar_photovoltaic_generation_capacity_factor_60_nuts_0_2079_ssp2_4_5.zip\n",
      "  inflating: cds_data/explore-csv-data/P_CMI6_CMCC_CMR5_SPV_0000m_Pecd_NUT0_S207901010000_E207912312300_CFR_TIM_01h_NA-_noc_org_60_SP245_NA---_PhM03_PECD4.2_fv1.csv  \n",
      "  inflating: cds_data/explore-csv-data/P_CMI6_CMCC_CMR5_SPV_0000m_Pecd_NUT0_S208001010000_E208012312300_CFR_TIM_01h_NA-_noc_org_60_SP245_NA---_PhM03_PECD4.2_fv1.csv  \n",
      "  inflating: cds_data/explore-csv-data/P_CMI6_CMCC_CMR5_SPV_0000m_Pecd_NUT0_S207901010000_E207912312300_CFR_TIM_01h_NA-_noc_org_60_SP585_NA---_PhM03_PECD4.2_fv1.csv  \n",
      "  inflating: cds_data/explore-csv-data/P_CMI6_CMCC_CMR5_SPV_0000m_Pecd_NUT0_S208001010000_E208012312300_CFR_TIM_01h_NA-_noc_org_60_SP585_NA---_PhM03_PECD4.2_fv1.csv  \n",
      "Archive:  cds_data/explore-csv-data/pecd4_2_historical_era5_reanalysis_solar_photovoltaic_generation_capacity_factor_60_nuts_0_2003.zip\n",
      "  inflating: cds_data/explore-csv-data/H_ERA5_ECMW_T639_SPV_0000m_Pecd_NUT0_S200301010000_E200312312300_CFR_TIM_01h_COM_noc_org_60_NA---_NA---_PhM03_PECD4.2_fv1.csv  \n",
      "  inflating: cds_data/explore-csv-data/H_ERA5_ECMW_T639_SPV_0000m_Pecd_NUT0_S200401010000_E200412312300_CFR_TIM_01h_COM_noc_org_60_NA---_NA---_PhM03_PECD4.2_fv1.csv  \n",
      "Archive:  cds_data/explore-csv-data/pecd4_2_future_projections_ec_earth3_solar_photovoltaic_generation_capacity_factor_60_nuts_0_2081_ssp2_4_5.zip\n",
      "  inflating: cds_data/explore-csv-data/P_CMI6_ECEC_ECE3_SPV_0000m_Pecd_NUT0_S208101010000_E208112312300_CFR_TIM_01h_NA-_noc_org_60_SP245_NA---_PhM03_PECD4.2_fv1.csv  \n",
      "  inflating: cds_data/explore-csv-data/P_CMI6_ECEC_ECE3_SPV_0000m_Pecd_NUT0_S208201010000_E208212312300_CFR_TIM_01h_NA-_noc_org_60_SP245_NA---_PhM03_PECD4.2_fv1.csv  \n",
      "  inflating: cds_data/explore-csv-data/P_CMI6_ECEC_ECE3_SPV_0000m_Pecd_NUT0_S208101010000_E208112312300_CFR_TIM_01h_NA-_noc_org_60_SP585_NA---_PhM03_PECD4.2_fv1.csv  \n",
      "  inflating: cds_data/explore-csv-data/P_CMI6_ECEC_ECE3_SPV_0000m_Pecd_NUT0_S208201010000_E208212312300_CFR_TIM_01h_NA-_noc_org_60_SP585_NA---_PhM03_PECD4.2_fv1.csv  \n",
      "Archive:  cds_data/explore-csv-data/pecd4_2_future_projections_awi_cm_1_1_mr_solar_photovoltaic_generation_capacity_factor_60_nuts_0_2081_ssp2_4_5.zip\n",
      "  inflating: cds_data/explore-csv-data/P_CMI6_AWI-_AWCM_SPV_0000m_Pecd_NUT0_S208101010000_E208112312300_CFR_TIM_01h_NA-_noc_org_60_SP245_NA---_PhM03_PECD4.2_fv1.csv  \n",
      "  inflating: cds_data/explore-csv-data/P_CMI6_AWI-_AWCM_SPV_0000m_Pecd_NUT0_S208201010000_E208212312300_CFR_TIM_01h_NA-_noc_org_60_SP245_NA---_PhM03_PECD4.2_fv1.csv  \n",
      "  inflating: cds_data/explore-csv-data/P_CMI6_AWI-_AWCM_SPV_0000m_Pecd_NUT0_S208101010000_E208112312300_CFR_TIM_01h_NA-_noc_org_60_SP585_NA---_PhM03_PECD4.2_fv1.csv  \n",
      "  inflating: cds_data/explore-csv-data/P_CMI6_AWI-_AWCM_SPV_0000m_Pecd_NUT0_S208201010000_E208212312300_CFR_TIM_01h_NA-_noc_org_60_SP585_NA---_PhM03_PECD4.2_fv1.csv  \n",
      "Archive:  cds_data/explore-csv-data/pecd4_2_future_projections_awi_cm_1_1_mr_solar_photovoltaic_generation_capacity_factor_60_nuts_0_2089_ssp2_4_5.zip\n",
      "  inflating: cds_data/explore-csv-data/P_CMI6_AWI-_AWCM_SPV_0000m_Pecd_NUT0_S208901010000_E208912312300_CFR_TIM_01h_NA-_noc_org_60_SP245_NA---_PhM03_PECD4.2_fv1.csv  \n",
      "  inflating: cds_data/explore-csv-data/P_CMI6_AWI-_AWCM_SPV_0000m_Pecd_NUT0_S209001010000_E209012312300_CFR_TIM_01h_NA-_noc_org_60_SP245_NA---_PhM03_PECD4.2_fv1.csv  \n",
      "  inflating: cds_data/explore-csv-data/P_CMI6_AWI-_AWCM_SPV_0000m_Pecd_NUT0_S208901010000_E208912312300_CFR_TIM_01h_NA-_noc_org_60_SP585_NA---_PhM03_PECD4.2_fv1.csv  \n",
      "  inflating: cds_data/explore-csv-data/P_CMI6_AWI-_AWCM_SPV_0000m_Pecd_NUT0_S209001010000_E209012312300_CFR_TIM_01h_NA-_noc_org_60_SP585_NA---_PhM03_PECD4.2_fv1.csv  \n",
      "Archive:  cds_data/explore-csv-data/pecd4_2_future_projections_ec_earth3_solar_photovoltaic_generation_capacity_factor_60_nuts_0_2075_ssp2_4_5.zip\n",
      "  inflating: cds_data/explore-csv-data/P_CMI6_ECEC_ECE3_SPV_0000m_Pecd_NUT0_S207501010000_E207512312300_CFR_TIM_01h_NA-_noc_org_60_SP245_NA---_PhM03_PECD4.2_fv1.csv  \n",
      "  inflating: cds_data/explore-csv-data/P_CMI6_ECEC_ECE3_SPV_0000m_Pecd_NUT0_S207601010000_E207612312300_CFR_TIM_01h_NA-_noc_org_60_SP245_NA---_PhM03_PECD4.2_fv1.csv  \n",
      "  inflating: cds_data/explore-csv-data/P_CMI6_ECEC_ECE3_SPV_0000m_Pecd_NUT0_S207501010000_E207512312300_CFR_TIM_01h_NA-_noc_org_60_SP585_NA---_PhM03_PECD4.2_fv1.csv  \n",
      "  inflating: cds_data/explore-csv-data/P_CMI6_ECEC_ECE3_SPV_0000m_Pecd_NUT0_S207601010000_E207612312300_CFR_TIM_01h_NA-_noc_org_60_SP585_NA---_PhM03_PECD4.2_fv1.csv  \n",
      "Archive:  cds_data/explore-csv-data/pecd4_2_future_projections_cmcc_cm2_sr5_solar_photovoltaic_generation_capacity_factor_60_nuts_0_2063_ssp2_4_5.zip\n",
      "  inflating: cds_data/explore-csv-data/P_CMI6_CMCC_CMR5_SPV_0000m_Pecd_NUT0_S206301010000_E206312312300_CFR_TIM_01h_NA-_noc_org_60_SP245_NA---_PhM03_PECD4.2_fv1.csv  \n",
      "  inflating: cds_data/explore-csv-data/P_CMI6_CMCC_CMR5_SPV_0000m_Pecd_NUT0_S206401010000_E206412312300_CFR_TIM_01h_NA-_noc_org_60_SP245_NA---_PhM03_PECD4.2_fv1.csv  \n",
      "  inflating: cds_data/explore-csv-data/P_CMI6_CMCC_CMR5_SPV_0000m_Pecd_NUT0_S206301010000_E206312312300_CFR_TIM_01h_NA-_noc_org_60_SP585_NA---_PhM03_PECD4.2_fv1.csv  \n",
      "  inflating: cds_data/explore-csv-data/P_CMI6_CMCC_CMR5_SPV_0000m_Pecd_NUT0_S206401010000_E206412312300_CFR_TIM_01h_NA-_noc_org_60_SP585_NA---_PhM03_PECD4.2_fv1.csv  \n",
      "Archive:  cds_data/explore-csv-data/pecd4_2_future_projections_ec_earth3_solar_photovoltaic_generation_capacity_factor_60_nuts_0_2063_ssp2_4_5.zip\n",
      "  inflating: cds_data/explore-csv-data/P_CMI6_ECEC_ECE3_SPV_0000m_Pecd_NUT0_S206301010000_E206312312300_CFR_TIM_01h_NA-_noc_org_60_SP245_NA---_PhM03_PECD4.2_fv1.csv  \n",
      "  inflating: cds_data/explore-csv-data/P_CMI6_ECEC_ECE3_SPV_0000m_Pecd_NUT0_S206401010000_E206412312300_CFR_TIM_01h_NA-_noc_org_60_SP245_NA---_PhM03_PECD4.2_fv1.csv  \n",
      "  inflating: cds_data/explore-csv-data/P_CMI6_ECEC_ECE3_SPV_0000m_Pecd_NUT0_S206301010000_E206312312300_CFR_TIM_01h_NA-_noc_org_60_SP585_NA---_PhM03_PECD4.2_fv1.csv  \n",
      "  inflating: cds_data/explore-csv-data/P_CMI6_ECEC_ECE3_SPV_0000m_Pecd_NUT0_S206401010000_E206412312300_CFR_TIM_01h_NA-_noc_org_60_SP585_NA---_PhM03_PECD4.2_fv1.csv  \n",
      "Archive:  cds_data/explore-csv-data/pecd4_2_future_projections_awi_cm_1_1_mr_solar_photovoltaic_generation_capacity_factor_60_nuts_0_2071_ssp2_4_5.zip\n",
      "  inflating: cds_data/explore-csv-data/P_CMI6_AWI-_AWCM_SPV_0000m_Pecd_NUT0_S207101010000_E207112312300_CFR_TIM_01h_NA-_noc_org_60_SP245_NA---_PhM03_PECD4.2_fv1.csv  \n",
      "  inflating: cds_data/explore-csv-data/P_CMI6_AWI-_AWCM_SPV_0000m_Pecd_NUT0_S207201010000_E207212312300_CFR_TIM_01h_NA-_noc_org_60_SP245_NA---_PhM03_PECD4.2_fv1.csv  \n",
      "  inflating: cds_data/explore-csv-data/P_CMI6_AWI-_AWCM_SPV_0000m_Pecd_NUT0_S207101010000_E207112312300_CFR_TIM_01h_NA-_noc_org_60_SP585_NA---_PhM03_PECD4.2_fv1.csv  \n",
      "  inflating: cds_data/explore-csv-data/P_CMI6_AWI-_AWCM_SPV_0000m_Pecd_NUT0_S207201010000_E207212312300_CFR_TIM_01h_NA-_noc_org_60_SP585_NA---_PhM03_PECD4.2_fv1.csv  \n",
      "Archive:  cds_data/explore-csv-data/pecd4_2_future_projections_cmcc_cm2_sr5_solar_photovoltaic_generation_capacity_factor_60_nuts_0_2089_ssp2_4_5.zip\n",
      "  inflating: cds_data/explore-csv-data/P_CMI6_CMCC_CMR5_SPV_0000m_Pecd_NUT0_S208901010000_E208912312300_CFR_TIM_01h_NA-_noc_org_60_SP245_NA---_PhM03_PECD4.2_fv1.csv  \n",
      "  inflating: cds_data/explore-csv-data/P_CMI6_CMCC_CMR5_SPV_0000m_Pecd_NUT0_S209001010000_E209012312300_CFR_TIM_01h_NA-_noc_org_60_SP245_NA---_PhM03_PECD4.2_fv1.csv  \n",
      "  inflating: cds_data/explore-csv-data/P_CMI6_CMCC_CMR5_SPV_0000m_Pecd_NUT0_S208901010000_E208912312300_CFR_TIM_01h_NA-_noc_org_60_SP585_NA---_PhM03_PECD4.2_fv1.csv  \n",
      "  inflating: cds_data/explore-csv-data/P_CMI6_CMCC_CMR5_SPV_0000m_Pecd_NUT0_S209001010000_E209012312300_CFR_TIM_01h_NA-_noc_org_60_SP585_NA---_PhM03_PECD4.2_fv1.csv  \n",
      "Archive:  cds_data/explore-csv-data/pecd4_2_future_projections_cmcc_cm2_sr5_solar_photovoltaic_generation_capacity_factor_60_nuts_0_2073_ssp2_4_5.zip\n",
      "  inflating: cds_data/explore-csv-data/P_CMI6_CMCC_CMR5_SPV_0000m_Pecd_NUT0_S207301010000_E207312312300_CFR_TIM_01h_NA-_noc_org_60_SP245_NA---_PhM03_PECD4.2_fv1.csv  \n",
      "  inflating: cds_data/explore-csv-data/P_CMI6_CMCC_CMR5_SPV_0000m_Pecd_NUT0_S207401010000_E207412312300_CFR_TIM_01h_NA-_noc_org_60_SP245_NA---_PhM03_PECD4.2_fv1.csv  \n",
      "  inflating: cds_data/explore-csv-data/P_CMI6_CMCC_CMR5_SPV_0000m_Pecd_NUT0_S207301010000_E207312312300_CFR_TIM_01h_NA-_noc_org_60_SP585_NA---_PhM03_PECD4.2_fv1.csv  \n",
      "  inflating: cds_data/explore-csv-data/P_CMI6_CMCC_CMR5_SPV_0000m_Pecd_NUT0_S207401010000_E207412312300_CFR_TIM_01h_NA-_noc_org_60_SP585_NA---_PhM03_PECD4.2_fv1.csv  \n",
      "Archive:  cds_data/explore-csv-data/pecd4_2_future_projections_cmcc_cm2_sr5_solar_photovoltaic_generation_capacity_factor_60_nuts_0_2081_ssp2_4_5.zip\n",
      "  inflating: cds_data/explore-csv-data/P_CMI6_CMCC_CMR5_SPV_0000m_Pecd_NUT0_S208101010000_E208112312300_CFR_TIM_01h_NA-_noc_org_60_SP245_NA---_PhM03_PECD4.2_fv1.csv  \n",
      "  inflating: cds_data/explore-csv-data/P_CMI6_CMCC_CMR5_SPV_0000m_Pecd_NUT0_S208201010000_E208212312300_CFR_TIM_01h_NA-_noc_org_60_SP245_NA---_PhM03_PECD4.2_fv1.csv  \n",
      "  inflating: cds_data/explore-csv-data/P_CMI6_CMCC_CMR5_SPV_0000m_Pecd_NUT0_S208101010000_E208112312300_CFR_TIM_01h_NA-_noc_org_60_SP585_NA---_PhM03_PECD4.2_fv1.csv  \n",
      "  inflating: cds_data/explore-csv-data/P_CMI6_CMCC_CMR5_SPV_0000m_Pecd_NUT0_S208201010000_E208212312300_CFR_TIM_01h_NA-_noc_org_60_SP585_NA---_PhM03_PECD4.2_fv1.csv  \n",
      "Archive:  cds_data/explore-csv-data/pecd4_2_historical_era5_reanalysis_solar_photovoltaic_generation_capacity_factor_60_nuts_0_2007.zip\n",
      "  inflating: cds_data/explore-csv-data/H_ERA5_ECMW_T639_SPV_0000m_Pecd_NUT0_S200701010000_E200712312300_CFR_TIM_01h_COM_noc_org_60_NA---_NA---_PhM03_PECD4.2_fv1.csv  \n",
      "  inflating: cds_data/explore-csv-data/H_ERA5_ECMW_T639_SPV_0000m_Pecd_NUT0_S200801010000_E200812312300_CFR_TIM_01h_COM_noc_org_60_NA---_NA---_PhM03_PECD4.2_fv1.csv  \n",
      "Archive:  cds_data/explore-csv-data/pecd4_2_future_projections_cmcc_cm2_sr5_solar_photovoltaic_generation_capacity_factor_60_nuts_0_2069_ssp2_4_5.zip\n",
      "  inflating: cds_data/explore-csv-data/P_CMI6_CMCC_CMR5_SPV_0000m_Pecd_NUT0_S206901010000_E206912312300_CFR_TIM_01h_NA-_noc_org_60_SP245_NA---_PhM03_PECD4.2_fv1.csv  \n",
      "  inflating: cds_data/explore-csv-data/P_CMI6_CMCC_CMR5_SPV_0000m_Pecd_NUT0_S207001010000_E207012312300_CFR_TIM_01h_NA-_noc_org_60_SP245_NA---_PhM03_PECD4.2_fv1.csv  \n",
      "  inflating: cds_data/explore-csv-data/P_CMI6_CMCC_CMR5_SPV_0000m_Pecd_NUT0_S206901010000_E206912312300_CFR_TIM_01h_NA-_noc_org_60_SP585_NA---_PhM03_PECD4.2_fv1.csv  \n",
      "  inflating: cds_data/explore-csv-data/P_CMI6_CMCC_CMR5_SPV_0000m_Pecd_NUT0_S207001010000_E207012312300_CFR_TIM_01h_NA-_noc_org_60_SP585_NA---_PhM03_PECD4.2_fv1.csv  \n",
      "Archive:  cds_data/explore-csv-data/pecd4_2_future_projections_ec_earth3_solar_photovoltaic_generation_capacity_factor_60_nuts_0_2079_ssp2_4_5.zip\n",
      "  inflating: cds_data/explore-csv-data/P_CMI6_ECEC_ECE3_SPV_0000m_Pecd_NUT0_S207901010000_E207912312300_CFR_TIM_01h_NA-_noc_org_60_SP245_NA---_PhM03_PECD4.2_fv1.csv  \n",
      "  inflating: cds_data/explore-csv-data/P_CMI6_ECEC_ECE3_SPV_0000m_Pecd_NUT0_S208001010000_E208012312300_CFR_TIM_01h_NA-_noc_org_60_SP245_NA---_PhM03_PECD4.2_fv1.csv  \n",
      "  inflating: cds_data/explore-csv-data/P_CMI6_ECEC_ECE3_SPV_0000m_Pecd_NUT0_S207901010000_E207912312300_CFR_TIM_01h_NA-_noc_org_60_SP585_NA---_PhM03_PECD4.2_fv1.csv  \n",
      "  inflating: cds_data/explore-csv-data/P_CMI6_ECEC_ECE3_SPV_0000m_Pecd_NUT0_S208001010000_E208012312300_CFR_TIM_01h_NA-_noc_org_60_SP585_NA---_PhM03_PECD4.2_fv1.csv  \n",
      "Archive:  cds_data/explore-csv-data/pecd4_2_future_projections_ec_earth3_solar_photovoltaic_generation_capacity_factor_60_nuts_0_2065_ssp2_4_5.zip\n",
      "  inflating: cds_data/explore-csv-data/P_CMI6_ECEC_ECE3_SPV_0000m_Pecd_NUT0_S206501010000_E206512312300_CFR_TIM_01h_NA-_noc_org_60_SP245_NA---_PhM03_PECD4.2_fv1.csv  \n",
      "  inflating: cds_data/explore-csv-data/P_CMI6_ECEC_ECE3_SPV_0000m_Pecd_NUT0_S206601010000_E206612312300_CFR_TIM_01h_NA-_noc_org_60_SP245_NA---_PhM03_PECD4.2_fv1.csv  \n",
      "  inflating: cds_data/explore-csv-data/P_CMI6_ECEC_ECE3_SPV_0000m_Pecd_NUT0_S206501010000_E206512312300_CFR_TIM_01h_NA-_noc_org_60_SP585_NA---_PhM03_PECD4.2_fv1.csv  \n",
      "  inflating: cds_data/explore-csv-data/P_CMI6_ECEC_ECE3_SPV_0000m_Pecd_NUT0_S206601010000_E206612312300_CFR_TIM_01h_NA-_noc_org_60_SP585_NA---_PhM03_PECD4.2_fv1.csv  \n",
      "Archive:  cds_data/explore-csv-data/pecd4_2_future_projections_cmcc_cm2_sr5_solar_photovoltaic_generation_capacity_factor_60_nuts_0_2075_ssp2_4_5.zip\n",
      "  inflating: cds_data/explore-csv-data/P_CMI6_CMCC_CMR5_SPV_0000m_Pecd_NUT0_S207501010000_E207512312300_CFR_TIM_01h_NA-_noc_org_60_SP245_NA---_PhM03_PECD4.2_fv1.csv  \n",
      "  inflating: cds_data/explore-csv-data/P_CMI6_CMCC_CMR5_SPV_0000m_Pecd_NUT0_S207601010000_E207612312300_CFR_TIM_01h_NA-_noc_org_60_SP245_NA---_PhM03_PECD4.2_fv1.csv  \n",
      "  inflating: cds_data/explore-csv-data/P_CMI6_CMCC_CMR5_SPV_0000m_Pecd_NUT0_S207501010000_E207512312300_CFR_TIM_01h_NA-_noc_org_60_SP585_NA---_PhM03_PECD4.2_fv1.csv  \n",
      "  inflating: cds_data/explore-csv-data/P_CMI6_CMCC_CMR5_SPV_0000m_Pecd_NUT0_S207601010000_E207612312300_CFR_TIM_01h_NA-_noc_org_60_SP585_NA---_PhM03_PECD4.2_fv1.csv  \n",
      "Archive:  cds_data/explore-csv-data/pecd4_2_future_projections_awi_cm_1_1_mr_solar_photovoltaic_generation_capacity_factor_60_nuts_0_2083_ssp2_4_5.zip\n",
      "  inflating: cds_data/explore-csv-data/P_CMI6_AWI-_AWCM_SPV_0000m_Pecd_NUT0_S208301010000_E208312312300_CFR_TIM_01h_NA-_noc_org_60_SP245_NA---_PhM03_PECD4.2_fv1.csv  \n",
      "  inflating: cds_data/explore-csv-data/P_CMI6_AWI-_AWCM_SPV_0000m_Pecd_NUT0_S208401010000_E208412312300_CFR_TIM_01h_NA-_noc_org_60_SP245_NA---_PhM03_PECD4.2_fv1.csv  \n",
      "  inflating: cds_data/explore-csv-data/P_CMI6_AWI-_AWCM_SPV_0000m_Pecd_NUT0_S208301010000_E208312312300_CFR_TIM_01h_NA-_noc_org_60_SP585_NA---_PhM03_PECD4.2_fv1.csv  \n",
      "  inflating: cds_data/explore-csv-data/P_CMI6_AWI-_AWCM_SPV_0000m_Pecd_NUT0_S208401010000_E208412312300_CFR_TIM_01h_NA-_noc_org_60_SP585_NA---_PhM03_PECD4.2_fv1.csv  \n"
     ]
    }
   ],
   "source": [
    "# Unzipping every file in our folder\n",
    "for fname in os.listdir(download_dir):\n",
    "    if fname.endswith(\".zip\"):\n",
    "        os.system(f\"unzip {download_dir}/{fname} -d {download_dir}\")"
   ]
  },
  {
   "cell_type": "markdown",
   "metadata": {
    "id": "TdWgS9I3ZT2d"
   },
   "source": [
    "## Put data together"
   ]
  },
  {
   "cell_type": "markdown",
   "metadata": {},
   "source": [
    "Now that all the needed data is downloaded and unzipped, we can load them, select the countries we are interested in, and put together different datasets under the same table (DataFrame)."
   ]
  },
  {
   "cell_type": "markdown",
   "metadata": {
    "id": "B8_aRFQnMawp"
   },
   "source": [
    "### Load the data"
   ]
  },
  {
   "cell_type": "markdown",
   "metadata": {
    "id": "vI2s0QKRMhyx"
   },
   "source": [
    "We've come now to the actual coding part.\n",
    "\n",
    "1) Let's first search our input directory for the files we need, taking advantage of the file naming (see Notebook 1 for convention). We can use the glob library to do so, making sure to sort our results so that the files in the list will be ordered by date."
   ]
  },
  {
   "cell_type": "code",
   "execution_count": 47,
   "metadata": {
    "id": "iM6KCKPhRb11",
    "outputId": "35f73d17-ad2e-4086-e012-a80716ba0e0e"
   },
   "outputs": [
    {
     "name": "stdout",
     "output_type": "stream",
     "text": [
      "30 ['cds_data/explore-csv-data/H_ERA5_ECMW_T639_SPV_0000m_Pecd_NUT0_S199101010000_E199112312300_CFR_TIM_01h_COM_noc_org_60_NA---_NA---_PhM03_PECD4.2_fv1.csv', 'cds_data/explore-csv-data/H_ERA5_ECMW_T639_SPV_0000m_Pecd_NUT0_S199201010000_E199212312300_CFR_TIM_01h_COM_noc_org_60_NA---_NA---_PhM03_PECD4.2_fv1.csv', 'cds_data/explore-csv-data/H_ERA5_ECMW_T639_SPV_0000m_Pecd_NUT0_S199301010000_E199312312300_CFR_TIM_01h_COM_noc_org_60_NA---_NA---_PhM03_PECD4.2_fv1.csv', 'cds_data/explore-csv-data/H_ERA5_ECMW_T639_SPV_0000m_Pecd_NUT0_S199401010000_E199412312300_CFR_TIM_01h_COM_noc_org_60_NA---_NA---_PhM03_PECD4.2_fv1.csv', 'cds_data/explore-csv-data/H_ERA5_ECMW_T639_SPV_0000m_Pecd_NUT0_S199501010000_E199512312300_CFR_TIM_01h_COM_noc_org_60_NA---_NA---_PhM03_PECD4.2_fv1.csv', 'cds_data/explore-csv-data/H_ERA5_ECMW_T639_SPV_0000m_Pecd_NUT0_S199601010000_E199612312300_CFR_TIM_01h_COM_noc_org_60_NA---_NA---_PhM03_PECD4.2_fv1.csv', 'cds_data/explore-csv-data/H_ERA5_ECMW_T639_SPV_0000m_Pecd_NUT0_S199701010000_E199712312300_CFR_TIM_01h_COM_noc_org_60_NA---_NA---_PhM03_PECD4.2_fv1.csv', 'cds_data/explore-csv-data/H_ERA5_ECMW_T639_SPV_0000m_Pecd_NUT0_S199801010000_E199812312300_CFR_TIM_01h_COM_noc_org_60_NA---_NA---_PhM03_PECD4.2_fv1.csv', 'cds_data/explore-csv-data/H_ERA5_ECMW_T639_SPV_0000m_Pecd_NUT0_S199901010000_E199912312300_CFR_TIM_01h_COM_noc_org_60_NA---_NA---_PhM03_PECD4.2_fv1.csv', 'cds_data/explore-csv-data/H_ERA5_ECMW_T639_SPV_0000m_Pecd_NUT0_S200001010000_E200012312300_CFR_TIM_01h_COM_noc_org_60_NA---_NA---_PhM03_PECD4.2_fv1.csv', 'cds_data/explore-csv-data/H_ERA5_ECMW_T639_SPV_0000m_Pecd_NUT0_S200101010000_E200112312300_CFR_TIM_01h_COM_noc_org_60_NA---_NA---_PhM03_PECD4.2_fv1.csv', 'cds_data/explore-csv-data/H_ERA5_ECMW_T639_SPV_0000m_Pecd_NUT0_S200201010000_E200212312300_CFR_TIM_01h_COM_noc_org_60_NA---_NA---_PhM03_PECD4.2_fv1.csv', 'cds_data/explore-csv-data/H_ERA5_ECMW_T639_SPV_0000m_Pecd_NUT0_S200301010000_E200312312300_CFR_TIM_01h_COM_noc_org_60_NA---_NA---_PhM03_PECD4.2_fv1.csv', 'cds_data/explore-csv-data/H_ERA5_ECMW_T639_SPV_0000m_Pecd_NUT0_S200401010000_E200412312300_CFR_TIM_01h_COM_noc_org_60_NA---_NA---_PhM03_PECD4.2_fv1.csv', 'cds_data/explore-csv-data/H_ERA5_ECMW_T639_SPV_0000m_Pecd_NUT0_S200501010000_E200512312300_CFR_TIM_01h_COM_noc_org_60_NA---_NA---_PhM03_PECD4.2_fv1.csv', 'cds_data/explore-csv-data/H_ERA5_ECMW_T639_SPV_0000m_Pecd_NUT0_S200601010000_E200612312300_CFR_TIM_01h_COM_noc_org_60_NA---_NA---_PhM03_PECD4.2_fv1.csv', 'cds_data/explore-csv-data/H_ERA5_ECMW_T639_SPV_0000m_Pecd_NUT0_S200701010000_E200712312300_CFR_TIM_01h_COM_noc_org_60_NA---_NA---_PhM03_PECD4.2_fv1.csv', 'cds_data/explore-csv-data/H_ERA5_ECMW_T639_SPV_0000m_Pecd_NUT0_S200801010000_E200812312300_CFR_TIM_01h_COM_noc_org_60_NA---_NA---_PhM03_PECD4.2_fv1.csv', 'cds_data/explore-csv-data/H_ERA5_ECMW_T639_SPV_0000m_Pecd_NUT0_S200901010000_E200912312300_CFR_TIM_01h_COM_noc_org_60_NA---_NA---_PhM03_PECD4.2_fv1.csv', 'cds_data/explore-csv-data/H_ERA5_ECMW_T639_SPV_0000m_Pecd_NUT0_S201001010000_E201012312300_CFR_TIM_01h_COM_noc_org_60_NA---_NA---_PhM03_PECD4.2_fv1.csv', 'cds_data/explore-csv-data/H_ERA5_ECMW_T639_SPV_0000m_Pecd_NUT0_S201101010000_E201112312300_CFR_TIM_01h_COM_noc_org_60_NA---_NA---_PhM03_PECD4.2_fv1.csv', 'cds_data/explore-csv-data/H_ERA5_ECMW_T639_SPV_0000m_Pecd_NUT0_S201201010000_E201212312300_CFR_TIM_01h_COM_noc_org_60_NA---_NA---_PhM03_PECD4.2_fv1.csv', 'cds_data/explore-csv-data/H_ERA5_ECMW_T639_SPV_0000m_Pecd_NUT0_S201301010000_E201312312300_CFR_TIM_01h_COM_noc_org_60_NA---_NA---_PhM03_PECD4.2_fv1.csv', 'cds_data/explore-csv-data/H_ERA5_ECMW_T639_SPV_0000m_Pecd_NUT0_S201401010000_E201412312300_CFR_TIM_01h_COM_noc_org_60_NA---_NA---_PhM03_PECD4.2_fv1.csv', 'cds_data/explore-csv-data/H_ERA5_ECMW_T639_SPV_0000m_Pecd_NUT0_S201501010000_E201512312300_CFR_TIM_01h_COM_noc_org_60_NA---_NA---_PhM03_PECD4.2_fv1.csv', 'cds_data/explore-csv-data/H_ERA5_ECMW_T639_SPV_0000m_Pecd_NUT0_S201601010000_E201612312300_CFR_TIM_01h_COM_noc_org_60_NA---_NA---_PhM03_PECD4.2_fv1.csv', 'cds_data/explore-csv-data/H_ERA5_ECMW_T639_SPV_0000m_Pecd_NUT0_S201701010000_E201712312300_CFR_TIM_01h_COM_noc_org_60_NA---_NA---_PhM03_PECD4.2_fv1.csv', 'cds_data/explore-csv-data/H_ERA5_ECMW_T639_SPV_0000m_Pecd_NUT0_S201801010000_E201812312300_CFR_TIM_01h_COM_noc_org_60_NA---_NA---_PhM03_PECD4.2_fv1.csv', 'cds_data/explore-csv-data/H_ERA5_ECMW_T639_SPV_0000m_Pecd_NUT0_S201901010000_E201912312300_CFR_TIM_01h_COM_noc_org_60_NA---_NA---_PhM03_PECD4.2_fv1.csv', 'cds_data/explore-csv-data/H_ERA5_ECMW_T639_SPV_0000m_Pecd_NUT0_S202001010000_E202012312300_CFR_TIM_01h_COM_noc_org_60_NA---_NA---_PhM03_PECD4.2_fv1.csv']\n"
     ]
    }
   ],
   "source": [
    "# 1) Searching the input directory for CSVs named after stream and variable codes\n",
    "stream = \"H\"\n",
    "model = scenario = None\n",
    "glob_p = f\"{stream}*{var_code}*.csv\"  # pattern we're looking for (*: wildcard)\n",
    "all_files = sorted(glob.glob(os.path.join(download_dir, glob_p)))\n",
    "print(len(all_files), all_files)"
   ]
  },
  {
   "cell_type": "markdown",
   "metadata": {
    "id": "9c6lA-TKbf6u"
   },
   "source": [
    "2) We can then make sure we are selecting only the years of interest."
   ]
  },
  {
   "cell_type": "code",
   "execution_count": 15,
   "metadata": {
    "id": "Hm3FLvS-WPaM",
    "outputId": "b179c5d0-51bd-42bf-9e20-a2b7232766a9"
   },
   "outputs": [
    {
     "name": "stdout",
     "output_type": "stream",
     "text": [
      "30 ['cds_data/explore-csv-data/H_ERA5_ECMW_T639_SPV_0000m_Pecd_NUT0_S199101010000_E199112312300_CFR_TIM_01h_COM_noc_org_60_NA---_NA---_PhM03_PECD4.2_fv1.csv', 'cds_data/explore-csv-data/H_ERA5_ECMW_T639_SPV_0000m_Pecd_NUT0_S199201010000_E199212312300_CFR_TIM_01h_COM_noc_org_60_NA---_NA---_PhM03_PECD4.2_fv1.csv', 'cds_data/explore-csv-data/H_ERA5_ECMW_T639_SPV_0000m_Pecd_NUT0_S199301010000_E199312312300_CFR_TIM_01h_COM_noc_org_60_NA---_NA---_PhM03_PECD4.2_fv1.csv', 'cds_data/explore-csv-data/H_ERA5_ECMW_T639_SPV_0000m_Pecd_NUT0_S199401010000_E199412312300_CFR_TIM_01h_COM_noc_org_60_NA---_NA---_PhM03_PECD4.2_fv1.csv', 'cds_data/explore-csv-data/H_ERA5_ECMW_T639_SPV_0000m_Pecd_NUT0_S199501010000_E199512312300_CFR_TIM_01h_COM_noc_org_60_NA---_NA---_PhM03_PECD4.2_fv1.csv', 'cds_data/explore-csv-data/H_ERA5_ECMW_T639_SPV_0000m_Pecd_NUT0_S199601010000_E199612312300_CFR_TIM_01h_COM_noc_org_60_NA---_NA---_PhM03_PECD4.2_fv1.csv', 'cds_data/explore-csv-data/H_ERA5_ECMW_T639_SPV_0000m_Pecd_NUT0_S199701010000_E199712312300_CFR_TIM_01h_COM_noc_org_60_NA---_NA---_PhM03_PECD4.2_fv1.csv', 'cds_data/explore-csv-data/H_ERA5_ECMW_T639_SPV_0000m_Pecd_NUT0_S199801010000_E199812312300_CFR_TIM_01h_COM_noc_org_60_NA---_NA---_PhM03_PECD4.2_fv1.csv', 'cds_data/explore-csv-data/H_ERA5_ECMW_T639_SPV_0000m_Pecd_NUT0_S199901010000_E199912312300_CFR_TIM_01h_COM_noc_org_60_NA---_NA---_PhM03_PECD4.2_fv1.csv', 'cds_data/explore-csv-data/H_ERA5_ECMW_T639_SPV_0000m_Pecd_NUT0_S200001010000_E200012312300_CFR_TIM_01h_COM_noc_org_60_NA---_NA---_PhM03_PECD4.2_fv1.csv', 'cds_data/explore-csv-data/H_ERA5_ECMW_T639_SPV_0000m_Pecd_NUT0_S200101010000_E200112312300_CFR_TIM_01h_COM_noc_org_60_NA---_NA---_PhM03_PECD4.2_fv1.csv', 'cds_data/explore-csv-data/H_ERA5_ECMW_T639_SPV_0000m_Pecd_NUT0_S200201010000_E200212312300_CFR_TIM_01h_COM_noc_org_60_NA---_NA---_PhM03_PECD4.2_fv1.csv', 'cds_data/explore-csv-data/H_ERA5_ECMW_T639_SPV_0000m_Pecd_NUT0_S200301010000_E200312312300_CFR_TIM_01h_COM_noc_org_60_NA---_NA---_PhM03_PECD4.2_fv1.csv', 'cds_data/explore-csv-data/H_ERA5_ECMW_T639_SPV_0000m_Pecd_NUT0_S200401010000_E200412312300_CFR_TIM_01h_COM_noc_org_60_NA---_NA---_PhM03_PECD4.2_fv1.csv', 'cds_data/explore-csv-data/H_ERA5_ECMW_T639_SPV_0000m_Pecd_NUT0_S200501010000_E200512312300_CFR_TIM_01h_COM_noc_org_60_NA---_NA---_PhM03_PECD4.2_fv1.csv', 'cds_data/explore-csv-data/H_ERA5_ECMW_T639_SPV_0000m_Pecd_NUT0_S200601010000_E200612312300_CFR_TIM_01h_COM_noc_org_60_NA---_NA---_PhM03_PECD4.2_fv1.csv', 'cds_data/explore-csv-data/H_ERA5_ECMW_T639_SPV_0000m_Pecd_NUT0_S200701010000_E200712312300_CFR_TIM_01h_COM_noc_org_60_NA---_NA---_PhM03_PECD4.2_fv1.csv', 'cds_data/explore-csv-data/H_ERA5_ECMW_T639_SPV_0000m_Pecd_NUT0_S200801010000_E200812312300_CFR_TIM_01h_COM_noc_org_60_NA---_NA---_PhM03_PECD4.2_fv1.csv', 'cds_data/explore-csv-data/H_ERA5_ECMW_T639_SPV_0000m_Pecd_NUT0_S200901010000_E200912312300_CFR_TIM_01h_COM_noc_org_60_NA---_NA---_PhM03_PECD4.2_fv1.csv', 'cds_data/explore-csv-data/H_ERA5_ECMW_T639_SPV_0000m_Pecd_NUT0_S201001010000_E201012312300_CFR_TIM_01h_COM_noc_org_60_NA---_NA---_PhM03_PECD4.2_fv1.csv', 'cds_data/explore-csv-data/H_ERA5_ECMW_T639_SPV_0000m_Pecd_NUT0_S201101010000_E201112312300_CFR_TIM_01h_COM_noc_org_60_NA---_NA---_PhM03_PECD4.2_fv1.csv', 'cds_data/explore-csv-data/H_ERA5_ECMW_T639_SPV_0000m_Pecd_NUT0_S201201010000_E201212312300_CFR_TIM_01h_COM_noc_org_60_NA---_NA---_PhM03_PECD4.2_fv1.csv', 'cds_data/explore-csv-data/H_ERA5_ECMW_T639_SPV_0000m_Pecd_NUT0_S201301010000_E201312312300_CFR_TIM_01h_COM_noc_org_60_NA---_NA---_PhM03_PECD4.2_fv1.csv', 'cds_data/explore-csv-data/H_ERA5_ECMW_T639_SPV_0000m_Pecd_NUT0_S201401010000_E201412312300_CFR_TIM_01h_COM_noc_org_60_NA---_NA---_PhM03_PECD4.2_fv1.csv', 'cds_data/explore-csv-data/H_ERA5_ECMW_T639_SPV_0000m_Pecd_NUT0_S201501010000_E201512312300_CFR_TIM_01h_COM_noc_org_60_NA---_NA---_PhM03_PECD4.2_fv1.csv', 'cds_data/explore-csv-data/H_ERA5_ECMW_T639_SPV_0000m_Pecd_NUT0_S201601010000_E201612312300_CFR_TIM_01h_COM_noc_org_60_NA---_NA---_PhM03_PECD4.2_fv1.csv', 'cds_data/explore-csv-data/H_ERA5_ECMW_T639_SPV_0000m_Pecd_NUT0_S201701010000_E201712312300_CFR_TIM_01h_COM_noc_org_60_NA---_NA---_PhM03_PECD4.2_fv1.csv', 'cds_data/explore-csv-data/H_ERA5_ECMW_T639_SPV_0000m_Pecd_NUT0_S201801010000_E201812312300_CFR_TIM_01h_COM_noc_org_60_NA---_NA---_PhM03_PECD4.2_fv1.csv', 'cds_data/explore-csv-data/H_ERA5_ECMW_T639_SPV_0000m_Pecd_NUT0_S201901010000_E201912312300_CFR_TIM_01h_COM_noc_org_60_NA---_NA---_PhM03_PECD4.2_fv1.csv', 'cds_data/explore-csv-data/H_ERA5_ECMW_T639_SPV_0000m_Pecd_NUT0_S202001010000_E202012312300_CFR_TIM_01h_COM_noc_org_60_NA---_NA---_PhM03_PECD4.2_fv1.csv']\n"
     ]
    }
   ],
   "source": [
    "# 2) Select needed years\n",
    "needed_files = []\n",
    "for year in range(start_year_h, end_year_h + 1):\n",
    "    files_y = [file for file in all_files if f\"S{str(year)}\" in file]\n",
    "    needed_files += files_y\n",
    "print(len(needed_files), needed_files)"
   ]
  },
  {
   "cell_type": "markdown",
   "metadata": {
    "id": "lLiiWQUXdliB"
   },
   "source": [
    "3a) Let's try now to read 1 file and see how it's structured:"
   ]
  },
  {
   "cell_type": "code",
   "execution_count": 16,
   "metadata": {
    "id": "ssfaiLA1itdy",
    "outputId": "ebd5cea7-4e7c-49ad-e753-663657e2cc41"
   },
   "outputs": [
    {
     "name": "stdout",
     "output_type": "stream",
     "text": [
      "# General\n",
      "## Title\n",
      "### Solar generation capacity factor - Industrial rooftop; data for ENTSO-E PECD Version 4.2; file version fv1\n",
      "## Abstract\n",
      "### ERA5\n",
      "## Date\n",
      "### 2024-12-05\n",
      "## Date type\n",
      "### Publication: Date identifies when the data was issued\n",
      "## Unit\n",
      "### MW/MW\n",
      "## URL\n",
      "### https://cds.climate.copernicus.eu/\n",
      "## Data format\n",
      "### CSV\n",
      "## Keywords\n",
      "### ERA5 : reanalysis : Copernicus : C3S : C3S Energy : ICS\n",
      "## Point of contact\n",
      "### Individual name\n",
      "#### Alberto Troccoli\n",
      "### Electronic mail address\n",
      "#### info@inclimateservice.com\n",
      "### Organisation name\n",
      "#### Inside Climate Service\n",
      "### Role\n",
      "#### Owner: Party that owns the resource\n",
      "# Usage\n",
      "## Access constraints\n",
      "### Intellectual property rights: The IP of these data belongs to the EU Copernicus programme\n",
      "## Use constraints\n",
      "### Creative Commons\n",
      "## Citation(s)\n",
      "### Hersbach, H.; Bell, B.; Berrisford, P.; Hirahara, S.; Horanyi, A.; Munoz-Sabater, J.; Nicolas, J.; Peubey, C.; Radu, R.; Schepers, D.; et al. The ERA5 global reanalysis. Q. J. Roy. Meteor. Soc. 2020, 146, 1999-2049, doi:10.1002/qj.3803\n",
      "## Temporal extent\n",
      "## Begin date\n",
      "### 1991-01-01-0000\n",
      "## End date\n",
      "### 1991-12-31-2300\n",
      "## Temporal resolution\n",
      "### 1 hour\n",
      "## Geographic bounding box\n",
      "### westBoundLongitude -31.00\n",
      "### eastBoundLongitude 45.00\n",
      "### southBoundLatitude 18.00\n",
      "### northBoundLatitude 75.00\n",
      "## Spatial resolution\n",
      "### NUTS0\n",
      "# Lineage Statement\n",
      "## Original Data Source\n",
      "## Statement\n",
      "### The original data sources are ECMWF ERA5 Reanalysis (available at: https://cds.climate.copernicus.eu)\n",
      "#\n",
      "Date,AL,AT,BA,BE,BG,CH,CY,CZ,DE,DK,DZ,EE,EG,EH,EL,ES,FI,FR,HR,HU,IE,IL,IS,IT,JO,LB,LI,LT,LU,LV,LY,MA,MD,ME,MK,MT,NL,NO,PL,PS,PT,RO,RS,SE,SI,SK,SY,TN,TR,UA,UK,XK\n",
      "1991-01-01 00:00:00,0.0,0.0,0.0,0.0,0.0,0.0,0.0,0.0,0.0,0.0,0.0,0.0,0.0,0.0,0.0,0.0,0.0,0.0,0.0,0.0,0.0,0.0,0.0,0.0,0.0,0.0,0.0,0.0,0.0,0.0,0.0,0.0,0.0,0.0,0.0,0.0,0.0,0.0,0.0,0.0,0.0,0.0,0.0,0.0,0.0,0.0,0.0,0.0,0.0,0.0,0.0,0.0\n",
      "1991-01-01 01:00:00,0.0,0.0,0.0,0.0,0.0,0.0,0.0,0.0,0.0,0.0,0.0,0.0,0.0,0.0,0.0,0.0,0.0,0.0,0.0,0.0,0.0,0.0,0.0,0.0,0.0,0.0,0.0,0.0,0.0,0.0,0.0,0.0,0.0,0.0,0.0,0.0,0.0,0.0,0.0,0.0,0.0,0.0,0.0,0.0,0.0,0.0,0.0,0.0,0.0,0.0,0.0,0.0\n",
      "1991-01-01 02:00:00,0.0,0.0,0.0,0.0,0.0,0.0,0.0,0.0,0.0,0.0,0.0,0.0,0.0,0.0,0.0,0.0,0.0,0.0,0.0,0.0,0.0,0.0,0.0,0.0,0.0,0.0,0.0,0.0,0.0,0.0,0.0,0.0,0.0,0.0,0.0,0.0,0.0,0.0,0.0,0.0,0.0,0.0,0.0,0.0,0.0,0.0,0.0,0.0,0.0,0.0,0.0,0.0\n",
      "1991-01-01 03:00:00,0.0,0.0,0.0,0.0,0.0,0.0,0.0,0.0,0.0,0.0,0.0,0.0,0.0,0.0,0.0,0.0,0.0,0.0,0.0,0.0,0.0,0.0,0.0,0.0,0.0,0.0,0.0,0.0,0.0,0.0,0.0,0.0,0.0,0.0,0.0,0.0,0.0,0.0,0.0,0.0,0.0,0.0,0.0,0.0,0.0,0.0,0.0,0.0,0.0,0.0,0.0,0.0\n",
      "1991-01-01 04:00:00,0.0,0.0,0.0,0.0,0.0,0.0,0.0,0.0,0.0,0.0,0.0,0.0,0.0,0.0,0.0,0.0,0.0,0.0,0.0,0.0,0.0,0.0,0.0,0.0,0.0,0.0,0.0,0.0,0.0,0.0,0.0,0.0,0.0,0.0,0.0,0.0,0.0,0.0,0.0,0.0,0.0,0.0,0.0,0.0,0.0,0.0,0.0,0.0,0.0,0.0,0.0,0.0\n",
      "1991-01-01 05:00:00,0.0,0.0,0.0,0.0,0.0,0.0,0.0,0.0,0.0,0.0,0.0,0.0,0.00021,0.0,0.0,0.0,0.0,0.0,0.0,0.0,0.0,0.00035,0.0,0.0,0.0009,0.00067,0.0,0.0,0.0,0.0,0.0,0.0,0.0,0.0,0.0,0.0,0.0,0.0,0.0,0.0008,0.0,0.0,0.0,0.0,0.0,0.0,0.00188,0.0,0.00067,0.0,0.0,0.0\n",
      "1991-01-01 06:00:00,0.0,0.0,0.0,0.0,6e-05,0.0,0.04585,0.0,0.0,0.0,0.0,0.0,0.04316,0.0,0.00031,0.0,0.0,0.0,0.0,0.0,0.0,0.02192,0.0,0.0,0.02816,0.03992,0.0,0.0,0.0,0.0,0.00714,0.0,0.0,0.0,0.0,0.0,0.0,0.0,0.0,0.02917,0.0,0.0,0.0,0.0,0.0,0.0,0.05336,0.0,0.04117,0.00073,0.0,0.0\n"
     ]
    }
   ],
   "source": [
    "# Read and print the first lines\n",
    "with open(needed_files[0], \"r\", encoding=\"utf-8\") as f:\n",
    "    lines = f.readlines()\n",
    "\n",
    "# Display the first few lines\n",
    "for line in lines[:60]:\n",
    "    print(line.strip())"
   ]
  },
  {
   "cell_type": "markdown",
   "metadata": {
    "id": "d3oHgwt9i9ty"
   },
   "source": [
    "We see that the first 52 lines contains some metadata (information on the data itself, e.g. its units) that we can consult in case we needed some details on the dataset. Since we're interested in the actual values contained in the CSV (after line 52), we'll skip this header when we read the files."
   ]
  },
  {
   "cell_type": "markdown",
   "metadata": {
    "id": "0wFroGJaX_rS"
   },
   "source": [
    "3b) Now we can read our CSV files with a command that makes use of the Pandas library. The command, inserted in a loop, will read our CSV files one by one, skipping the header (a *#commented* part containing the metadata), reading the 'Date' column as actual dates (instead of simple strings), and placing the Date column as index of our table or Dataframe. The for loop will leave us with a list of DataFrames, that we can combine into a single one."
   ]
  },
  {
   "cell_type": "code",
   "execution_count": 17,
   "metadata": {
    "id": "_ryPtVMSX_Ec",
    "outputId": "9c0a83bc-e6b4-4f4d-8a68-da5e56fb6aa3"
   },
   "outputs": [
    {
     "name": "stdout",
     "output_type": "stream",
     "text": [
      "                      AL   AT   BA   BE   BG   CH   CY   CZ   DE   DK  ...  \\\n",
      "Date                                                                   ...   \n",
      "1991-01-01 00:00:00  0.0  0.0  0.0  0.0  0.0  0.0  0.0  0.0  0.0  0.0  ...   \n",
      "1991-01-01 01:00:00  0.0  0.0  0.0  0.0  0.0  0.0  0.0  0.0  0.0  0.0  ...   \n",
      "1991-01-01 02:00:00  0.0  0.0  0.0  0.0  0.0  0.0  0.0  0.0  0.0  0.0  ...   \n",
      "1991-01-01 03:00:00  0.0  0.0  0.0  0.0  0.0  0.0  0.0  0.0  0.0  0.0  ...   \n",
      "1991-01-01 04:00:00  0.0  0.0  0.0  0.0  0.0  0.0  0.0  0.0  0.0  0.0  ...   \n",
      "...                  ...  ...  ...  ...  ...  ...  ...  ...  ...  ...  ...   \n",
      "2020-12-31 19:00:00  0.0  0.0  0.0  0.0  0.0  0.0  0.0  0.0  0.0  0.0  ...   \n",
      "2020-12-31 20:00:00  0.0  0.0  0.0  0.0  0.0  0.0  0.0  0.0  0.0  0.0  ...   \n",
      "2020-12-31 21:00:00  0.0  0.0  0.0  0.0  0.0  0.0  0.0  0.0  0.0  0.0  ...   \n",
      "2020-12-31 22:00:00  0.0  0.0  0.0  0.0  0.0  0.0  0.0  0.0  0.0  0.0  ...   \n",
      "2020-12-31 23:00:00  0.0  0.0  0.0  0.0  0.0  0.0  0.0  0.0  0.0  0.0  ...   \n",
      "\n",
      "                      RS   SE   SI   SK   SY   TN   TR   UA   UK   XK  \n",
      "Date                                                                   \n",
      "1991-01-01 00:00:00  0.0  0.0  0.0  0.0  0.0  0.0  0.0  0.0  0.0  0.0  \n",
      "1991-01-01 01:00:00  0.0  0.0  0.0  0.0  0.0  0.0  0.0  0.0  0.0  0.0  \n",
      "1991-01-01 02:00:00  0.0  0.0  0.0  0.0  0.0  0.0  0.0  0.0  0.0  0.0  \n",
      "1991-01-01 03:00:00  0.0  0.0  0.0  0.0  0.0  0.0  0.0  0.0  0.0  0.0  \n",
      "1991-01-01 04:00:00  0.0  0.0  0.0  0.0  0.0  0.0  0.0  0.0  0.0  0.0  \n",
      "...                  ...  ...  ...  ...  ...  ...  ...  ...  ...  ...  \n",
      "2020-12-31 19:00:00  0.0  0.0  0.0  0.0  0.0  0.0  0.0  0.0  0.0  0.0  \n",
      "2020-12-31 20:00:00  0.0  0.0  0.0  0.0  0.0  0.0  0.0  0.0  0.0  0.0  \n",
      "2020-12-31 21:00:00  0.0  0.0  0.0  0.0  0.0  0.0  0.0  0.0  0.0  0.0  \n",
      "2020-12-31 22:00:00  0.0  0.0  0.0  0.0  0.0  0.0  0.0  0.0  0.0  0.0  \n",
      "2020-12-31 23:00:00  0.0  0.0  0.0  0.0  0.0  0.0  0.0  0.0  0.0  0.0  \n",
      "\n",
      "[262992 rows x 52 columns]\n"
     ]
    }
   ],
   "source": [
    "# 3) load and combine needed files\n",
    "dt_col = [\"Date\"]\n",
    "df_list = [pd.read_csv(f, comment=\"#\", index_col=dt_col, parse_dates=dt_col) for f in needed_files]\n",
    "combined_df = pd.concat(df_list)\n",
    "print(combined_df)"
   ]
  },
  {
   "cell_type": "markdown",
   "metadata": {
    "id": "HPDvkeLVd4RV"
   },
   "source": [
    "4) Finally we can select the countries of interest, making sure their code appears in the CSV file: it could be that the needed energy indicator (or a specific technology) is not available for one of the selected countries."
   ]
  },
  {
   "cell_type": "code",
   "execution_count": 18,
   "metadata": {
    "id": "OEdb_gJik22s",
    "outputId": "5c0b8318-34eb-4bf3-b22a-c9950ce6fb9b"
   },
   "outputs": [
    {
     "name": "stdout",
     "output_type": "stream",
     "text": [
      "                      IT   FR   DE\n",
      "Date                              \n",
      "1991-01-01 00:00:00  0.0  0.0  0.0\n",
      "1991-01-01 01:00:00  0.0  0.0  0.0\n",
      "1991-01-01 02:00:00  0.0  0.0  0.0\n",
      "1991-01-01 03:00:00  0.0  0.0  0.0\n",
      "1991-01-01 04:00:00  0.0  0.0  0.0\n",
      "...                  ...  ...  ...\n",
      "2020-12-31 19:00:00  0.0  0.0  0.0\n",
      "2020-12-31 20:00:00  0.0  0.0  0.0\n",
      "2020-12-31 21:00:00  0.0  0.0  0.0\n",
      "2020-12-31 22:00:00  0.0  0.0  0.0\n",
      "2020-12-31 23:00:00  0.0  0.0  0.0\n",
      "\n",
      "[262992 rows x 3 columns]\n"
     ]
    }
   ],
   "source": [
    "# 4) Select country(ies) of interest\n",
    "for cty in country_list:\n",
    "    if cty not in combined_df.columns:\n",
    "        raise ValueError(f\"Country {cty} not in dataset\")\n",
    "combined_df = combined_df[country_list]\n",
    "print(combined_df)"
   ]
  },
  {
   "cell_type": "markdown",
   "metadata": {
    "id": "78CR3kdUk3WV"
   },
   "source": [
    "5) We can also rename the columns so that we also have some information on the stream, and eventually on the model and scenario."
   ]
  },
  {
   "cell_type": "code",
   "execution_count": 19,
   "metadata": {
    "id": "4uAixXY7d_XL",
    "outputId": "faaa2f01-ba0a-417c-c90f-7faccc188dc2"
   },
   "outputs": [
    {
     "name": "stdout",
     "output_type": "stream",
     "text": [
      "Before renaming:  Index(['IT', 'FR', 'DE'], dtype='object')\n",
      "After renaming:  Index(['H_IT', 'H_FR', 'H_DE'], dtype='object')\n"
     ]
    }
   ],
   "source": [
    "# 5) Renaming columns\n",
    "print(\"Before renaming: \", combined_df.columns)\n",
    "if stream == \"H\":\n",
    "    combined_df.columns = [f\"{stream}_{col}\" for col in combined_df.columns]\n",
    "elif stream == \"P\":\n",
    "    combined_df.columns = [f\"{stream}_{model}_{scenario}_{col}\" for col in combined_df.columns]\n",
    "print(\"After renaming: \", combined_df.columns)"
   ]
  },
  {
   "cell_type": "markdown",
   "metadata": {
    "id": "b6KqC2Z5fEEk"
   },
   "source": [
    "We managed to obtain a DataFrame with the data we need, at least for the historical stream. Let's now put these 5 steps into a loop that runs through the streams, models, and scenarios: each single dataset will be added to a big DataFrame (step 6) that in the end will contain all the data we need."
   ]
  },
  {
   "cell_type": "code",
   "execution_count": 20,
   "metadata": {
    "id": "-GHsx_LLMGha",
    "outputId": "27d73ef4-e769-42de-f4dc-d0b375126f80"
   },
   "outputs": [
    {
     "name": "stdout",
     "output_type": "stream",
     "text": [
      "Importing following files for stream H:  ['cds_data/explore-csv-data/H_ERA5_ECMW_T639_SPV_0000m_Pecd_NUT0_S199101010000_E199112312300_CFR_TIM_01h_COM_noc_org_60_NA---_NA---_PhM03_PECD4.2_fv1.csv', 'cds_data/explore-csv-data/H_ERA5_ECMW_T639_SPV_0000m_Pecd_NUT0_S199201010000_E199212312300_CFR_TIM_01h_COM_noc_org_60_NA---_NA---_PhM03_PECD4.2_fv1.csv', 'cds_data/explore-csv-data/H_ERA5_ECMW_T639_SPV_0000m_Pecd_NUT0_S199301010000_E199312312300_CFR_TIM_01h_COM_noc_org_60_NA---_NA---_PhM03_PECD4.2_fv1.csv', 'cds_data/explore-csv-data/H_ERA5_ECMW_T639_SPV_0000m_Pecd_NUT0_S199401010000_E199412312300_CFR_TIM_01h_COM_noc_org_60_NA---_NA---_PhM03_PECD4.2_fv1.csv', 'cds_data/explore-csv-data/H_ERA5_ECMW_T639_SPV_0000m_Pecd_NUT0_S199501010000_E199512312300_CFR_TIM_01h_COM_noc_org_60_NA---_NA---_PhM03_PECD4.2_fv1.csv', 'cds_data/explore-csv-data/H_ERA5_ECMW_T639_SPV_0000m_Pecd_NUT0_S199601010000_E199612312300_CFR_TIM_01h_COM_noc_org_60_NA---_NA---_PhM03_PECD4.2_fv1.csv', 'cds_data/explore-csv-data/H_ERA5_ECMW_T639_SPV_0000m_Pecd_NUT0_S199701010000_E199712312300_CFR_TIM_01h_COM_noc_org_60_NA---_NA---_PhM03_PECD4.2_fv1.csv', 'cds_data/explore-csv-data/H_ERA5_ECMW_T639_SPV_0000m_Pecd_NUT0_S199801010000_E199812312300_CFR_TIM_01h_COM_noc_org_60_NA---_NA---_PhM03_PECD4.2_fv1.csv', 'cds_data/explore-csv-data/H_ERA5_ECMW_T639_SPV_0000m_Pecd_NUT0_S199901010000_E199912312300_CFR_TIM_01h_COM_noc_org_60_NA---_NA---_PhM03_PECD4.2_fv1.csv', 'cds_data/explore-csv-data/H_ERA5_ECMW_T639_SPV_0000m_Pecd_NUT0_S200001010000_E200012312300_CFR_TIM_01h_COM_noc_org_60_NA---_NA---_PhM03_PECD4.2_fv1.csv', 'cds_data/explore-csv-data/H_ERA5_ECMW_T639_SPV_0000m_Pecd_NUT0_S200101010000_E200112312300_CFR_TIM_01h_COM_noc_org_60_NA---_NA---_PhM03_PECD4.2_fv1.csv', 'cds_data/explore-csv-data/H_ERA5_ECMW_T639_SPV_0000m_Pecd_NUT0_S200201010000_E200212312300_CFR_TIM_01h_COM_noc_org_60_NA---_NA---_PhM03_PECD4.2_fv1.csv', 'cds_data/explore-csv-data/H_ERA5_ECMW_T639_SPV_0000m_Pecd_NUT0_S200301010000_E200312312300_CFR_TIM_01h_COM_noc_org_60_NA---_NA---_PhM03_PECD4.2_fv1.csv', 'cds_data/explore-csv-data/H_ERA5_ECMW_T639_SPV_0000m_Pecd_NUT0_S200401010000_E200412312300_CFR_TIM_01h_COM_noc_org_60_NA---_NA---_PhM03_PECD4.2_fv1.csv', 'cds_data/explore-csv-data/H_ERA5_ECMW_T639_SPV_0000m_Pecd_NUT0_S200501010000_E200512312300_CFR_TIM_01h_COM_noc_org_60_NA---_NA---_PhM03_PECD4.2_fv1.csv', 'cds_data/explore-csv-data/H_ERA5_ECMW_T639_SPV_0000m_Pecd_NUT0_S200601010000_E200612312300_CFR_TIM_01h_COM_noc_org_60_NA---_NA---_PhM03_PECD4.2_fv1.csv', 'cds_data/explore-csv-data/H_ERA5_ECMW_T639_SPV_0000m_Pecd_NUT0_S200701010000_E200712312300_CFR_TIM_01h_COM_noc_org_60_NA---_NA---_PhM03_PECD4.2_fv1.csv', 'cds_data/explore-csv-data/H_ERA5_ECMW_T639_SPV_0000m_Pecd_NUT0_S200801010000_E200812312300_CFR_TIM_01h_COM_noc_org_60_NA---_NA---_PhM03_PECD4.2_fv1.csv', 'cds_data/explore-csv-data/H_ERA5_ECMW_T639_SPV_0000m_Pecd_NUT0_S200901010000_E200912312300_CFR_TIM_01h_COM_noc_org_60_NA---_NA---_PhM03_PECD4.2_fv1.csv', 'cds_data/explore-csv-data/H_ERA5_ECMW_T639_SPV_0000m_Pecd_NUT0_S201001010000_E201012312300_CFR_TIM_01h_COM_noc_org_60_NA---_NA---_PhM03_PECD4.2_fv1.csv', 'cds_data/explore-csv-data/H_ERA5_ECMW_T639_SPV_0000m_Pecd_NUT0_S201101010000_E201112312300_CFR_TIM_01h_COM_noc_org_60_NA---_NA---_PhM03_PECD4.2_fv1.csv', 'cds_data/explore-csv-data/H_ERA5_ECMW_T639_SPV_0000m_Pecd_NUT0_S201201010000_E201212312300_CFR_TIM_01h_COM_noc_org_60_NA---_NA---_PhM03_PECD4.2_fv1.csv', 'cds_data/explore-csv-data/H_ERA5_ECMW_T639_SPV_0000m_Pecd_NUT0_S201301010000_E201312312300_CFR_TIM_01h_COM_noc_org_60_NA---_NA---_PhM03_PECD4.2_fv1.csv', 'cds_data/explore-csv-data/H_ERA5_ECMW_T639_SPV_0000m_Pecd_NUT0_S201401010000_E201412312300_CFR_TIM_01h_COM_noc_org_60_NA---_NA---_PhM03_PECD4.2_fv1.csv', 'cds_data/explore-csv-data/H_ERA5_ECMW_T639_SPV_0000m_Pecd_NUT0_S201501010000_E201512312300_CFR_TIM_01h_COM_noc_org_60_NA---_NA---_PhM03_PECD4.2_fv1.csv', 'cds_data/explore-csv-data/H_ERA5_ECMW_T639_SPV_0000m_Pecd_NUT0_S201601010000_E201612312300_CFR_TIM_01h_COM_noc_org_60_NA---_NA---_PhM03_PECD4.2_fv1.csv', 'cds_data/explore-csv-data/H_ERA5_ECMW_T639_SPV_0000m_Pecd_NUT0_S201701010000_E201712312300_CFR_TIM_01h_COM_noc_org_60_NA---_NA---_PhM03_PECD4.2_fv1.csv', 'cds_data/explore-csv-data/H_ERA5_ECMW_T639_SPV_0000m_Pecd_NUT0_S201801010000_E201812312300_CFR_TIM_01h_COM_noc_org_60_NA---_NA---_PhM03_PECD4.2_fv1.csv', 'cds_data/explore-csv-data/H_ERA5_ECMW_T639_SPV_0000m_Pecd_NUT0_S201901010000_E201912312300_CFR_TIM_01h_COM_noc_org_60_NA---_NA---_PhM03_PECD4.2_fv1.csv', 'cds_data/explore-csv-data/H_ERA5_ECMW_T639_SPV_0000m_Pecd_NUT0_S202001010000_E202012312300_CFR_TIM_01h_COM_noc_org_60_NA---_NA---_PhM03_PECD4.2_fv1.csv']\n",
      "Importing following files for stream P:  ['cds_data/explore-csv-data/P_CMI6_CMCC_CMR5_SPV_0000m_Pecd_NUT0_S206101010000_E206112312300_CFR_TIM_01h_NA-_noc_org_60_SP245_NA---_PhM03_PECD4.2_fv1.csv', 'cds_data/explore-csv-data/P_CMI6_CMCC_CMR5_SPV_0000m_Pecd_NUT0_S206201010000_E206212312300_CFR_TIM_01h_NA-_noc_org_60_SP245_NA---_PhM03_PECD4.2_fv1.csv', 'cds_data/explore-csv-data/P_CMI6_CMCC_CMR5_SPV_0000m_Pecd_NUT0_S206301010000_E206312312300_CFR_TIM_01h_NA-_noc_org_60_SP245_NA---_PhM03_PECD4.2_fv1.csv', 'cds_data/explore-csv-data/P_CMI6_CMCC_CMR5_SPV_0000m_Pecd_NUT0_S206401010000_E206412312300_CFR_TIM_01h_NA-_noc_org_60_SP245_NA---_PhM03_PECD4.2_fv1.csv', 'cds_data/explore-csv-data/P_CMI6_CMCC_CMR5_SPV_0000m_Pecd_NUT0_S206501010000_E206512312300_CFR_TIM_01h_NA-_noc_org_60_SP245_NA---_PhM03_PECD4.2_fv1.csv', 'cds_data/explore-csv-data/P_CMI6_CMCC_CMR5_SPV_0000m_Pecd_NUT0_S206601010000_E206612312300_CFR_TIM_01h_NA-_noc_org_60_SP245_NA---_PhM03_PECD4.2_fv1.csv', 'cds_data/explore-csv-data/P_CMI6_CMCC_CMR5_SPV_0000m_Pecd_NUT0_S206701010000_E206712312300_CFR_TIM_01h_NA-_noc_org_60_SP245_NA---_PhM03_PECD4.2_fv1.csv', 'cds_data/explore-csv-data/P_CMI6_CMCC_CMR5_SPV_0000m_Pecd_NUT0_S206801010000_E206812312300_CFR_TIM_01h_NA-_noc_org_60_SP245_NA---_PhM03_PECD4.2_fv1.csv', 'cds_data/explore-csv-data/P_CMI6_CMCC_CMR5_SPV_0000m_Pecd_NUT0_S206901010000_E206912312300_CFR_TIM_01h_NA-_noc_org_60_SP245_NA---_PhM03_PECD4.2_fv1.csv', 'cds_data/explore-csv-data/P_CMI6_CMCC_CMR5_SPV_0000m_Pecd_NUT0_S207001010000_E207012312300_CFR_TIM_01h_NA-_noc_org_60_SP245_NA---_PhM03_PECD4.2_fv1.csv', 'cds_data/explore-csv-data/P_CMI6_CMCC_CMR5_SPV_0000m_Pecd_NUT0_S207101010000_E207112312300_CFR_TIM_01h_NA-_noc_org_60_SP245_NA---_PhM03_PECD4.2_fv1.csv', 'cds_data/explore-csv-data/P_CMI6_CMCC_CMR5_SPV_0000m_Pecd_NUT0_S207201010000_E207212312300_CFR_TIM_01h_NA-_noc_org_60_SP245_NA---_PhM03_PECD4.2_fv1.csv', 'cds_data/explore-csv-data/P_CMI6_CMCC_CMR5_SPV_0000m_Pecd_NUT0_S207301010000_E207312312300_CFR_TIM_01h_NA-_noc_org_60_SP245_NA---_PhM03_PECD4.2_fv1.csv', 'cds_data/explore-csv-data/P_CMI6_CMCC_CMR5_SPV_0000m_Pecd_NUT0_S207401010000_E207412312300_CFR_TIM_01h_NA-_noc_org_60_SP245_NA---_PhM03_PECD4.2_fv1.csv', 'cds_data/explore-csv-data/P_CMI6_CMCC_CMR5_SPV_0000m_Pecd_NUT0_S207501010000_E207512312300_CFR_TIM_01h_NA-_noc_org_60_SP245_NA---_PhM03_PECD4.2_fv1.csv', 'cds_data/explore-csv-data/P_CMI6_CMCC_CMR5_SPV_0000m_Pecd_NUT0_S207601010000_E207612312300_CFR_TIM_01h_NA-_noc_org_60_SP245_NA---_PhM03_PECD4.2_fv1.csv', 'cds_data/explore-csv-data/P_CMI6_CMCC_CMR5_SPV_0000m_Pecd_NUT0_S207701010000_E207712312300_CFR_TIM_01h_NA-_noc_org_60_SP245_NA---_PhM03_PECD4.2_fv1.csv', 'cds_data/explore-csv-data/P_CMI6_CMCC_CMR5_SPV_0000m_Pecd_NUT0_S207801010000_E207812312300_CFR_TIM_01h_NA-_noc_org_60_SP245_NA---_PhM03_PECD4.2_fv1.csv', 'cds_data/explore-csv-data/P_CMI6_CMCC_CMR5_SPV_0000m_Pecd_NUT0_S207901010000_E207912312300_CFR_TIM_01h_NA-_noc_org_60_SP245_NA---_PhM03_PECD4.2_fv1.csv', 'cds_data/explore-csv-data/P_CMI6_CMCC_CMR5_SPV_0000m_Pecd_NUT0_S208001010000_E208012312300_CFR_TIM_01h_NA-_noc_org_60_SP245_NA---_PhM03_PECD4.2_fv1.csv', 'cds_data/explore-csv-data/P_CMI6_CMCC_CMR5_SPV_0000m_Pecd_NUT0_S208101010000_E208112312300_CFR_TIM_01h_NA-_noc_org_60_SP245_NA---_PhM03_PECD4.2_fv1.csv', 'cds_data/explore-csv-data/P_CMI6_CMCC_CMR5_SPV_0000m_Pecd_NUT0_S208201010000_E208212312300_CFR_TIM_01h_NA-_noc_org_60_SP245_NA---_PhM03_PECD4.2_fv1.csv', 'cds_data/explore-csv-data/P_CMI6_CMCC_CMR5_SPV_0000m_Pecd_NUT0_S208301010000_E208312312300_CFR_TIM_01h_NA-_noc_org_60_SP245_NA---_PhM03_PECD4.2_fv1.csv', 'cds_data/explore-csv-data/P_CMI6_CMCC_CMR5_SPV_0000m_Pecd_NUT0_S208401010000_E208412312300_CFR_TIM_01h_NA-_noc_org_60_SP245_NA---_PhM03_PECD4.2_fv1.csv', 'cds_data/explore-csv-data/P_CMI6_CMCC_CMR5_SPV_0000m_Pecd_NUT0_S208501010000_E208512312300_CFR_TIM_01h_NA-_noc_org_60_SP245_NA---_PhM03_PECD4.2_fv1.csv', 'cds_data/explore-csv-data/P_CMI6_CMCC_CMR5_SPV_0000m_Pecd_NUT0_S208601010000_E208612312300_CFR_TIM_01h_NA-_noc_org_60_SP245_NA---_PhM03_PECD4.2_fv1.csv', 'cds_data/explore-csv-data/P_CMI6_CMCC_CMR5_SPV_0000m_Pecd_NUT0_S208701010000_E208712312300_CFR_TIM_01h_NA-_noc_org_60_SP245_NA---_PhM03_PECD4.2_fv1.csv', 'cds_data/explore-csv-data/P_CMI6_CMCC_CMR5_SPV_0000m_Pecd_NUT0_S208801010000_E208812312300_CFR_TIM_01h_NA-_noc_org_60_SP245_NA---_PhM03_PECD4.2_fv1.csv', 'cds_data/explore-csv-data/P_CMI6_CMCC_CMR5_SPV_0000m_Pecd_NUT0_S208901010000_E208912312300_CFR_TIM_01h_NA-_noc_org_60_SP245_NA---_PhM03_PECD4.2_fv1.csv', 'cds_data/explore-csv-data/P_CMI6_CMCC_CMR5_SPV_0000m_Pecd_NUT0_S209001010000_E209012312300_CFR_TIM_01h_NA-_noc_org_60_SP245_NA---_PhM03_PECD4.2_fv1.csv']\n",
      "Importing following files for stream P:  ['cds_data/explore-csv-data/P_CMI6_CMCC_CMR5_SPV_0000m_Pecd_NUT0_S206101010000_E206112312300_CFR_TIM_01h_NA-_noc_org_60_SP585_NA---_PhM03_PECD4.2_fv1.csv', 'cds_data/explore-csv-data/P_CMI6_CMCC_CMR5_SPV_0000m_Pecd_NUT0_S206201010000_E206212312300_CFR_TIM_01h_NA-_noc_org_60_SP585_NA---_PhM03_PECD4.2_fv1.csv', 'cds_data/explore-csv-data/P_CMI6_CMCC_CMR5_SPV_0000m_Pecd_NUT0_S206301010000_E206312312300_CFR_TIM_01h_NA-_noc_org_60_SP585_NA---_PhM03_PECD4.2_fv1.csv', 'cds_data/explore-csv-data/P_CMI6_CMCC_CMR5_SPV_0000m_Pecd_NUT0_S206401010000_E206412312300_CFR_TIM_01h_NA-_noc_org_60_SP585_NA---_PhM03_PECD4.2_fv1.csv', 'cds_data/explore-csv-data/P_CMI6_CMCC_CMR5_SPV_0000m_Pecd_NUT0_S206501010000_E206512312300_CFR_TIM_01h_NA-_noc_org_60_SP585_NA---_PhM03_PECD4.2_fv1.csv', 'cds_data/explore-csv-data/P_CMI6_CMCC_CMR5_SPV_0000m_Pecd_NUT0_S206601010000_E206612312300_CFR_TIM_01h_NA-_noc_org_60_SP585_NA---_PhM03_PECD4.2_fv1.csv', 'cds_data/explore-csv-data/P_CMI6_CMCC_CMR5_SPV_0000m_Pecd_NUT0_S206701010000_E206712312300_CFR_TIM_01h_NA-_noc_org_60_SP585_NA---_PhM03_PECD4.2_fv1.csv', 'cds_data/explore-csv-data/P_CMI6_CMCC_CMR5_SPV_0000m_Pecd_NUT0_S206801010000_E206812312300_CFR_TIM_01h_NA-_noc_org_60_SP585_NA---_PhM03_PECD4.2_fv1.csv', 'cds_data/explore-csv-data/P_CMI6_CMCC_CMR5_SPV_0000m_Pecd_NUT0_S206901010000_E206912312300_CFR_TIM_01h_NA-_noc_org_60_SP585_NA---_PhM03_PECD4.2_fv1.csv', 'cds_data/explore-csv-data/P_CMI6_CMCC_CMR5_SPV_0000m_Pecd_NUT0_S207001010000_E207012312300_CFR_TIM_01h_NA-_noc_org_60_SP585_NA---_PhM03_PECD4.2_fv1.csv', 'cds_data/explore-csv-data/P_CMI6_CMCC_CMR5_SPV_0000m_Pecd_NUT0_S207101010000_E207112312300_CFR_TIM_01h_NA-_noc_org_60_SP585_NA---_PhM03_PECD4.2_fv1.csv', 'cds_data/explore-csv-data/P_CMI6_CMCC_CMR5_SPV_0000m_Pecd_NUT0_S207201010000_E207212312300_CFR_TIM_01h_NA-_noc_org_60_SP585_NA---_PhM03_PECD4.2_fv1.csv', 'cds_data/explore-csv-data/P_CMI6_CMCC_CMR5_SPV_0000m_Pecd_NUT0_S207301010000_E207312312300_CFR_TIM_01h_NA-_noc_org_60_SP585_NA---_PhM03_PECD4.2_fv1.csv', 'cds_data/explore-csv-data/P_CMI6_CMCC_CMR5_SPV_0000m_Pecd_NUT0_S207401010000_E207412312300_CFR_TIM_01h_NA-_noc_org_60_SP585_NA---_PhM03_PECD4.2_fv1.csv', 'cds_data/explore-csv-data/P_CMI6_CMCC_CMR5_SPV_0000m_Pecd_NUT0_S207501010000_E207512312300_CFR_TIM_01h_NA-_noc_org_60_SP585_NA---_PhM03_PECD4.2_fv1.csv', 'cds_data/explore-csv-data/P_CMI6_CMCC_CMR5_SPV_0000m_Pecd_NUT0_S207601010000_E207612312300_CFR_TIM_01h_NA-_noc_org_60_SP585_NA---_PhM03_PECD4.2_fv1.csv', 'cds_data/explore-csv-data/P_CMI6_CMCC_CMR5_SPV_0000m_Pecd_NUT0_S207701010000_E207712312300_CFR_TIM_01h_NA-_noc_org_60_SP585_NA---_PhM03_PECD4.2_fv1.csv', 'cds_data/explore-csv-data/P_CMI6_CMCC_CMR5_SPV_0000m_Pecd_NUT0_S207801010000_E207812312300_CFR_TIM_01h_NA-_noc_org_60_SP585_NA---_PhM03_PECD4.2_fv1.csv', 'cds_data/explore-csv-data/P_CMI6_CMCC_CMR5_SPV_0000m_Pecd_NUT0_S207901010000_E207912312300_CFR_TIM_01h_NA-_noc_org_60_SP585_NA---_PhM03_PECD4.2_fv1.csv', 'cds_data/explore-csv-data/P_CMI6_CMCC_CMR5_SPV_0000m_Pecd_NUT0_S208001010000_E208012312300_CFR_TIM_01h_NA-_noc_org_60_SP585_NA---_PhM03_PECD4.2_fv1.csv', 'cds_data/explore-csv-data/P_CMI6_CMCC_CMR5_SPV_0000m_Pecd_NUT0_S208101010000_E208112312300_CFR_TIM_01h_NA-_noc_org_60_SP585_NA---_PhM03_PECD4.2_fv1.csv', 'cds_data/explore-csv-data/P_CMI6_CMCC_CMR5_SPV_0000m_Pecd_NUT0_S208201010000_E208212312300_CFR_TIM_01h_NA-_noc_org_60_SP585_NA---_PhM03_PECD4.2_fv1.csv', 'cds_data/explore-csv-data/P_CMI6_CMCC_CMR5_SPV_0000m_Pecd_NUT0_S208301010000_E208312312300_CFR_TIM_01h_NA-_noc_org_60_SP585_NA---_PhM03_PECD4.2_fv1.csv', 'cds_data/explore-csv-data/P_CMI6_CMCC_CMR5_SPV_0000m_Pecd_NUT0_S208401010000_E208412312300_CFR_TIM_01h_NA-_noc_org_60_SP585_NA---_PhM03_PECD4.2_fv1.csv', 'cds_data/explore-csv-data/P_CMI6_CMCC_CMR5_SPV_0000m_Pecd_NUT0_S208501010000_E208512312300_CFR_TIM_01h_NA-_noc_org_60_SP585_NA---_PhM03_PECD4.2_fv1.csv', 'cds_data/explore-csv-data/P_CMI6_CMCC_CMR5_SPV_0000m_Pecd_NUT0_S208601010000_E208612312300_CFR_TIM_01h_NA-_noc_org_60_SP585_NA---_PhM03_PECD4.2_fv1.csv', 'cds_data/explore-csv-data/P_CMI6_CMCC_CMR5_SPV_0000m_Pecd_NUT0_S208701010000_E208712312300_CFR_TIM_01h_NA-_noc_org_60_SP585_NA---_PhM03_PECD4.2_fv1.csv', 'cds_data/explore-csv-data/P_CMI6_CMCC_CMR5_SPV_0000m_Pecd_NUT0_S208801010000_E208812312300_CFR_TIM_01h_NA-_noc_org_60_SP585_NA---_PhM03_PECD4.2_fv1.csv', 'cds_data/explore-csv-data/P_CMI6_CMCC_CMR5_SPV_0000m_Pecd_NUT0_S208901010000_E208912312300_CFR_TIM_01h_NA-_noc_org_60_SP585_NA---_PhM03_PECD4.2_fv1.csv', 'cds_data/explore-csv-data/P_CMI6_CMCC_CMR5_SPV_0000m_Pecd_NUT0_S209001010000_E209012312300_CFR_TIM_01h_NA-_noc_org_60_SP585_NA---_PhM03_PECD4.2_fv1.csv']\n",
      "Importing following files for stream P:  ['cds_data/explore-csv-data/P_CMI6_ECEC_ECE3_SPV_0000m_Pecd_NUT0_S206101010000_E206112312300_CFR_TIM_01h_NA-_noc_org_60_SP245_NA---_PhM03_PECD4.2_fv1.csv', 'cds_data/explore-csv-data/P_CMI6_ECEC_ECE3_SPV_0000m_Pecd_NUT0_S206201010000_E206212312300_CFR_TIM_01h_NA-_noc_org_60_SP245_NA---_PhM03_PECD4.2_fv1.csv', 'cds_data/explore-csv-data/P_CMI6_ECEC_ECE3_SPV_0000m_Pecd_NUT0_S206301010000_E206312312300_CFR_TIM_01h_NA-_noc_org_60_SP245_NA---_PhM03_PECD4.2_fv1.csv', 'cds_data/explore-csv-data/P_CMI6_ECEC_ECE3_SPV_0000m_Pecd_NUT0_S206401010000_E206412312300_CFR_TIM_01h_NA-_noc_org_60_SP245_NA---_PhM03_PECD4.2_fv1.csv', 'cds_data/explore-csv-data/P_CMI6_ECEC_ECE3_SPV_0000m_Pecd_NUT0_S206501010000_E206512312300_CFR_TIM_01h_NA-_noc_org_60_SP245_NA---_PhM03_PECD4.2_fv1.csv', 'cds_data/explore-csv-data/P_CMI6_ECEC_ECE3_SPV_0000m_Pecd_NUT0_S206601010000_E206612312300_CFR_TIM_01h_NA-_noc_org_60_SP245_NA---_PhM03_PECD4.2_fv1.csv', 'cds_data/explore-csv-data/P_CMI6_ECEC_ECE3_SPV_0000m_Pecd_NUT0_S206701010000_E206712312300_CFR_TIM_01h_NA-_noc_org_60_SP245_NA---_PhM03_PECD4.2_fv1.csv', 'cds_data/explore-csv-data/P_CMI6_ECEC_ECE3_SPV_0000m_Pecd_NUT0_S206801010000_E206812312300_CFR_TIM_01h_NA-_noc_org_60_SP245_NA---_PhM03_PECD4.2_fv1.csv', 'cds_data/explore-csv-data/P_CMI6_ECEC_ECE3_SPV_0000m_Pecd_NUT0_S206901010000_E206912312300_CFR_TIM_01h_NA-_noc_org_60_SP245_NA---_PhM03_PECD4.2_fv1.csv', 'cds_data/explore-csv-data/P_CMI6_ECEC_ECE3_SPV_0000m_Pecd_NUT0_S207001010000_E207012312300_CFR_TIM_01h_NA-_noc_org_60_SP245_NA---_PhM03_PECD4.2_fv1.csv', 'cds_data/explore-csv-data/P_CMI6_ECEC_ECE3_SPV_0000m_Pecd_NUT0_S207101010000_E207112312300_CFR_TIM_01h_NA-_noc_org_60_SP245_NA---_PhM03_PECD4.2_fv1.csv', 'cds_data/explore-csv-data/P_CMI6_ECEC_ECE3_SPV_0000m_Pecd_NUT0_S207201010000_E207212312300_CFR_TIM_01h_NA-_noc_org_60_SP245_NA---_PhM03_PECD4.2_fv1.csv', 'cds_data/explore-csv-data/P_CMI6_ECEC_ECE3_SPV_0000m_Pecd_NUT0_S207301010000_E207312312300_CFR_TIM_01h_NA-_noc_org_60_SP245_NA---_PhM03_PECD4.2_fv1.csv', 'cds_data/explore-csv-data/P_CMI6_ECEC_ECE3_SPV_0000m_Pecd_NUT0_S207401010000_E207412312300_CFR_TIM_01h_NA-_noc_org_60_SP245_NA---_PhM03_PECD4.2_fv1.csv', 'cds_data/explore-csv-data/P_CMI6_ECEC_ECE3_SPV_0000m_Pecd_NUT0_S207501010000_E207512312300_CFR_TIM_01h_NA-_noc_org_60_SP245_NA---_PhM03_PECD4.2_fv1.csv', 'cds_data/explore-csv-data/P_CMI6_ECEC_ECE3_SPV_0000m_Pecd_NUT0_S207601010000_E207612312300_CFR_TIM_01h_NA-_noc_org_60_SP245_NA---_PhM03_PECD4.2_fv1.csv', 'cds_data/explore-csv-data/P_CMI6_ECEC_ECE3_SPV_0000m_Pecd_NUT0_S207701010000_E207712312300_CFR_TIM_01h_NA-_noc_org_60_SP245_NA---_PhM03_PECD4.2_fv1.csv', 'cds_data/explore-csv-data/P_CMI6_ECEC_ECE3_SPV_0000m_Pecd_NUT0_S207801010000_E207812312300_CFR_TIM_01h_NA-_noc_org_60_SP245_NA---_PhM03_PECD4.2_fv1.csv', 'cds_data/explore-csv-data/P_CMI6_ECEC_ECE3_SPV_0000m_Pecd_NUT0_S207901010000_E207912312300_CFR_TIM_01h_NA-_noc_org_60_SP245_NA---_PhM03_PECD4.2_fv1.csv', 'cds_data/explore-csv-data/P_CMI6_ECEC_ECE3_SPV_0000m_Pecd_NUT0_S208001010000_E208012312300_CFR_TIM_01h_NA-_noc_org_60_SP245_NA---_PhM03_PECD4.2_fv1.csv', 'cds_data/explore-csv-data/P_CMI6_ECEC_ECE3_SPV_0000m_Pecd_NUT0_S208101010000_E208112312300_CFR_TIM_01h_NA-_noc_org_60_SP245_NA---_PhM03_PECD4.2_fv1.csv', 'cds_data/explore-csv-data/P_CMI6_ECEC_ECE3_SPV_0000m_Pecd_NUT0_S208201010000_E208212312300_CFR_TIM_01h_NA-_noc_org_60_SP245_NA---_PhM03_PECD4.2_fv1.csv', 'cds_data/explore-csv-data/P_CMI6_ECEC_ECE3_SPV_0000m_Pecd_NUT0_S208301010000_E208312312300_CFR_TIM_01h_NA-_noc_org_60_SP245_NA---_PhM03_PECD4.2_fv1.csv', 'cds_data/explore-csv-data/P_CMI6_ECEC_ECE3_SPV_0000m_Pecd_NUT0_S208401010000_E208412312300_CFR_TIM_01h_NA-_noc_org_60_SP245_NA---_PhM03_PECD4.2_fv1.csv', 'cds_data/explore-csv-data/P_CMI6_ECEC_ECE3_SPV_0000m_Pecd_NUT0_S208501010000_E208512312300_CFR_TIM_01h_NA-_noc_org_60_SP245_NA---_PhM03_PECD4.2_fv1.csv', 'cds_data/explore-csv-data/P_CMI6_ECEC_ECE3_SPV_0000m_Pecd_NUT0_S208601010000_E208612312300_CFR_TIM_01h_NA-_noc_org_60_SP245_NA---_PhM03_PECD4.2_fv1.csv', 'cds_data/explore-csv-data/P_CMI6_ECEC_ECE3_SPV_0000m_Pecd_NUT0_S208701010000_E208712312300_CFR_TIM_01h_NA-_noc_org_60_SP245_NA---_PhM03_PECD4.2_fv1.csv', 'cds_data/explore-csv-data/P_CMI6_ECEC_ECE3_SPV_0000m_Pecd_NUT0_S208801010000_E208812312300_CFR_TIM_01h_NA-_noc_org_60_SP245_NA---_PhM03_PECD4.2_fv1.csv', 'cds_data/explore-csv-data/P_CMI6_ECEC_ECE3_SPV_0000m_Pecd_NUT0_S208901010000_E208912312300_CFR_TIM_01h_NA-_noc_org_60_SP245_NA---_PhM03_PECD4.2_fv1.csv', 'cds_data/explore-csv-data/P_CMI6_ECEC_ECE3_SPV_0000m_Pecd_NUT0_S209001010000_E209012312300_CFR_TIM_01h_NA-_noc_org_60_SP245_NA---_PhM03_PECD4.2_fv1.csv']\n",
      "Importing following files for stream P:  ['cds_data/explore-csv-data/P_CMI6_ECEC_ECE3_SPV_0000m_Pecd_NUT0_S206101010000_E206112312300_CFR_TIM_01h_NA-_noc_org_60_SP585_NA---_PhM03_PECD4.2_fv1.csv', 'cds_data/explore-csv-data/P_CMI6_ECEC_ECE3_SPV_0000m_Pecd_NUT0_S206201010000_E206212312300_CFR_TIM_01h_NA-_noc_org_60_SP585_NA---_PhM03_PECD4.2_fv1.csv', 'cds_data/explore-csv-data/P_CMI6_ECEC_ECE3_SPV_0000m_Pecd_NUT0_S206301010000_E206312312300_CFR_TIM_01h_NA-_noc_org_60_SP585_NA---_PhM03_PECD4.2_fv1.csv', 'cds_data/explore-csv-data/P_CMI6_ECEC_ECE3_SPV_0000m_Pecd_NUT0_S206401010000_E206412312300_CFR_TIM_01h_NA-_noc_org_60_SP585_NA---_PhM03_PECD4.2_fv1.csv', 'cds_data/explore-csv-data/P_CMI6_ECEC_ECE3_SPV_0000m_Pecd_NUT0_S206501010000_E206512312300_CFR_TIM_01h_NA-_noc_org_60_SP585_NA---_PhM03_PECD4.2_fv1.csv', 'cds_data/explore-csv-data/P_CMI6_ECEC_ECE3_SPV_0000m_Pecd_NUT0_S206601010000_E206612312300_CFR_TIM_01h_NA-_noc_org_60_SP585_NA---_PhM03_PECD4.2_fv1.csv', 'cds_data/explore-csv-data/P_CMI6_ECEC_ECE3_SPV_0000m_Pecd_NUT0_S206701010000_E206712312300_CFR_TIM_01h_NA-_noc_org_60_SP585_NA---_PhM03_PECD4.2_fv1.csv', 'cds_data/explore-csv-data/P_CMI6_ECEC_ECE3_SPV_0000m_Pecd_NUT0_S206801010000_E206812312300_CFR_TIM_01h_NA-_noc_org_60_SP585_NA---_PhM03_PECD4.2_fv1.csv', 'cds_data/explore-csv-data/P_CMI6_ECEC_ECE3_SPV_0000m_Pecd_NUT0_S206901010000_E206912312300_CFR_TIM_01h_NA-_noc_org_60_SP585_NA---_PhM03_PECD4.2_fv1.csv', 'cds_data/explore-csv-data/P_CMI6_ECEC_ECE3_SPV_0000m_Pecd_NUT0_S207001010000_E207012312300_CFR_TIM_01h_NA-_noc_org_60_SP585_NA---_PhM03_PECD4.2_fv1.csv', 'cds_data/explore-csv-data/P_CMI6_ECEC_ECE3_SPV_0000m_Pecd_NUT0_S207101010000_E207112312300_CFR_TIM_01h_NA-_noc_org_60_SP585_NA---_PhM03_PECD4.2_fv1.csv', 'cds_data/explore-csv-data/P_CMI6_ECEC_ECE3_SPV_0000m_Pecd_NUT0_S207201010000_E207212312300_CFR_TIM_01h_NA-_noc_org_60_SP585_NA---_PhM03_PECD4.2_fv1.csv', 'cds_data/explore-csv-data/P_CMI6_ECEC_ECE3_SPV_0000m_Pecd_NUT0_S207301010000_E207312312300_CFR_TIM_01h_NA-_noc_org_60_SP585_NA---_PhM03_PECD4.2_fv1.csv', 'cds_data/explore-csv-data/P_CMI6_ECEC_ECE3_SPV_0000m_Pecd_NUT0_S207401010000_E207412312300_CFR_TIM_01h_NA-_noc_org_60_SP585_NA---_PhM03_PECD4.2_fv1.csv', 'cds_data/explore-csv-data/P_CMI6_ECEC_ECE3_SPV_0000m_Pecd_NUT0_S207501010000_E207512312300_CFR_TIM_01h_NA-_noc_org_60_SP585_NA---_PhM03_PECD4.2_fv1.csv', 'cds_data/explore-csv-data/P_CMI6_ECEC_ECE3_SPV_0000m_Pecd_NUT0_S207601010000_E207612312300_CFR_TIM_01h_NA-_noc_org_60_SP585_NA---_PhM03_PECD4.2_fv1.csv', 'cds_data/explore-csv-data/P_CMI6_ECEC_ECE3_SPV_0000m_Pecd_NUT0_S207701010000_E207712312300_CFR_TIM_01h_NA-_noc_org_60_SP585_NA---_PhM03_PECD4.2_fv1.csv', 'cds_data/explore-csv-data/P_CMI6_ECEC_ECE3_SPV_0000m_Pecd_NUT0_S207801010000_E207812312300_CFR_TIM_01h_NA-_noc_org_60_SP585_NA---_PhM03_PECD4.2_fv1.csv', 'cds_data/explore-csv-data/P_CMI6_ECEC_ECE3_SPV_0000m_Pecd_NUT0_S207901010000_E207912312300_CFR_TIM_01h_NA-_noc_org_60_SP585_NA---_PhM03_PECD4.2_fv1.csv', 'cds_data/explore-csv-data/P_CMI6_ECEC_ECE3_SPV_0000m_Pecd_NUT0_S208001010000_E208012312300_CFR_TIM_01h_NA-_noc_org_60_SP585_NA---_PhM03_PECD4.2_fv1.csv', 'cds_data/explore-csv-data/P_CMI6_ECEC_ECE3_SPV_0000m_Pecd_NUT0_S208101010000_E208112312300_CFR_TIM_01h_NA-_noc_org_60_SP585_NA---_PhM03_PECD4.2_fv1.csv', 'cds_data/explore-csv-data/P_CMI6_ECEC_ECE3_SPV_0000m_Pecd_NUT0_S208201010000_E208212312300_CFR_TIM_01h_NA-_noc_org_60_SP585_NA---_PhM03_PECD4.2_fv1.csv', 'cds_data/explore-csv-data/P_CMI6_ECEC_ECE3_SPV_0000m_Pecd_NUT0_S208301010000_E208312312300_CFR_TIM_01h_NA-_noc_org_60_SP585_NA---_PhM03_PECD4.2_fv1.csv', 'cds_data/explore-csv-data/P_CMI6_ECEC_ECE3_SPV_0000m_Pecd_NUT0_S208401010000_E208412312300_CFR_TIM_01h_NA-_noc_org_60_SP585_NA---_PhM03_PECD4.2_fv1.csv', 'cds_data/explore-csv-data/P_CMI6_ECEC_ECE3_SPV_0000m_Pecd_NUT0_S208501010000_E208512312300_CFR_TIM_01h_NA-_noc_org_60_SP585_NA---_PhM03_PECD4.2_fv1.csv', 'cds_data/explore-csv-data/P_CMI6_ECEC_ECE3_SPV_0000m_Pecd_NUT0_S208601010000_E208612312300_CFR_TIM_01h_NA-_noc_org_60_SP585_NA---_PhM03_PECD4.2_fv1.csv', 'cds_data/explore-csv-data/P_CMI6_ECEC_ECE3_SPV_0000m_Pecd_NUT0_S208701010000_E208712312300_CFR_TIM_01h_NA-_noc_org_60_SP585_NA---_PhM03_PECD4.2_fv1.csv', 'cds_data/explore-csv-data/P_CMI6_ECEC_ECE3_SPV_0000m_Pecd_NUT0_S208801010000_E208812312300_CFR_TIM_01h_NA-_noc_org_60_SP585_NA---_PhM03_PECD4.2_fv1.csv', 'cds_data/explore-csv-data/P_CMI6_ECEC_ECE3_SPV_0000m_Pecd_NUT0_S208901010000_E208912312300_CFR_TIM_01h_NA-_noc_org_60_SP585_NA---_PhM03_PECD4.2_fv1.csv', 'cds_data/explore-csv-data/P_CMI6_ECEC_ECE3_SPV_0000m_Pecd_NUT0_S209001010000_E209012312300_CFR_TIM_01h_NA-_noc_org_60_SP585_NA---_PhM03_PECD4.2_fv1.csv']\n",
      "Importing following files for stream P:  ['cds_data/explore-csv-data/P_CMI6_AWI-_AWCM_SPV_0000m_Pecd_NUT0_S206101010000_E206112312300_CFR_TIM_01h_NA-_noc_org_60_SP245_NA---_PhM03_PECD4.2_fv1.csv', 'cds_data/explore-csv-data/P_CMI6_AWI-_AWCM_SPV_0000m_Pecd_NUT0_S206201010000_E206212312300_CFR_TIM_01h_NA-_noc_org_60_SP245_NA---_PhM03_PECD4.2_fv1.csv', 'cds_data/explore-csv-data/P_CMI6_AWI-_AWCM_SPV_0000m_Pecd_NUT0_S206301010000_E206312312300_CFR_TIM_01h_NA-_noc_org_60_SP245_NA---_PhM03_PECD4.2_fv1.csv', 'cds_data/explore-csv-data/P_CMI6_AWI-_AWCM_SPV_0000m_Pecd_NUT0_S206401010000_E206412312300_CFR_TIM_01h_NA-_noc_org_60_SP245_NA---_PhM03_PECD4.2_fv1.csv', 'cds_data/explore-csv-data/P_CMI6_AWI-_AWCM_SPV_0000m_Pecd_NUT0_S206501010000_E206512312300_CFR_TIM_01h_NA-_noc_org_60_SP245_NA---_PhM03_PECD4.2_fv1.csv', 'cds_data/explore-csv-data/P_CMI6_AWI-_AWCM_SPV_0000m_Pecd_NUT0_S206601010000_E206612312300_CFR_TIM_01h_NA-_noc_org_60_SP245_NA---_PhM03_PECD4.2_fv1.csv', 'cds_data/explore-csv-data/P_CMI6_AWI-_AWCM_SPV_0000m_Pecd_NUT0_S206701010000_E206712312300_CFR_TIM_01h_NA-_noc_org_60_SP245_NA---_PhM03_PECD4.2_fv1.csv', 'cds_data/explore-csv-data/P_CMI6_AWI-_AWCM_SPV_0000m_Pecd_NUT0_S206801010000_E206812312300_CFR_TIM_01h_NA-_noc_org_60_SP245_NA---_PhM03_PECD4.2_fv1.csv', 'cds_data/explore-csv-data/P_CMI6_AWI-_AWCM_SPV_0000m_Pecd_NUT0_S206901010000_E206912312300_CFR_TIM_01h_NA-_noc_org_60_SP245_NA---_PhM03_PECD4.2_fv1.csv', 'cds_data/explore-csv-data/P_CMI6_AWI-_AWCM_SPV_0000m_Pecd_NUT0_S207001010000_E207012312300_CFR_TIM_01h_NA-_noc_org_60_SP245_NA---_PhM03_PECD4.2_fv1.csv', 'cds_data/explore-csv-data/P_CMI6_AWI-_AWCM_SPV_0000m_Pecd_NUT0_S207101010000_E207112312300_CFR_TIM_01h_NA-_noc_org_60_SP245_NA---_PhM03_PECD4.2_fv1.csv', 'cds_data/explore-csv-data/P_CMI6_AWI-_AWCM_SPV_0000m_Pecd_NUT0_S207201010000_E207212312300_CFR_TIM_01h_NA-_noc_org_60_SP245_NA---_PhM03_PECD4.2_fv1.csv', 'cds_data/explore-csv-data/P_CMI6_AWI-_AWCM_SPV_0000m_Pecd_NUT0_S207301010000_E207312312300_CFR_TIM_01h_NA-_noc_org_60_SP245_NA---_PhM03_PECD4.2_fv1.csv', 'cds_data/explore-csv-data/P_CMI6_AWI-_AWCM_SPV_0000m_Pecd_NUT0_S207401010000_E207412312300_CFR_TIM_01h_NA-_noc_org_60_SP245_NA---_PhM03_PECD4.2_fv1.csv', 'cds_data/explore-csv-data/P_CMI6_AWI-_AWCM_SPV_0000m_Pecd_NUT0_S207501010000_E207512312300_CFR_TIM_01h_NA-_noc_org_60_SP245_NA---_PhM03_PECD4.2_fv1.csv', 'cds_data/explore-csv-data/P_CMI6_AWI-_AWCM_SPV_0000m_Pecd_NUT0_S207601010000_E207612312300_CFR_TIM_01h_NA-_noc_org_60_SP245_NA---_PhM03_PECD4.2_fv1.csv', 'cds_data/explore-csv-data/P_CMI6_AWI-_AWCM_SPV_0000m_Pecd_NUT0_S207701010000_E207712312300_CFR_TIM_01h_NA-_noc_org_60_SP245_NA---_PhM03_PECD4.2_fv1.csv', 'cds_data/explore-csv-data/P_CMI6_AWI-_AWCM_SPV_0000m_Pecd_NUT0_S207801010000_E207812312300_CFR_TIM_01h_NA-_noc_org_60_SP245_NA---_PhM03_PECD4.2_fv1.csv', 'cds_data/explore-csv-data/P_CMI6_AWI-_AWCM_SPV_0000m_Pecd_NUT0_S207901010000_E207912312300_CFR_TIM_01h_NA-_noc_org_60_SP245_NA---_PhM03_PECD4.2_fv1.csv', 'cds_data/explore-csv-data/P_CMI6_AWI-_AWCM_SPV_0000m_Pecd_NUT0_S208001010000_E208012312300_CFR_TIM_01h_NA-_noc_org_60_SP245_NA---_PhM03_PECD4.2_fv1.csv', 'cds_data/explore-csv-data/P_CMI6_AWI-_AWCM_SPV_0000m_Pecd_NUT0_S208101010000_E208112312300_CFR_TIM_01h_NA-_noc_org_60_SP245_NA---_PhM03_PECD4.2_fv1.csv', 'cds_data/explore-csv-data/P_CMI6_AWI-_AWCM_SPV_0000m_Pecd_NUT0_S208201010000_E208212312300_CFR_TIM_01h_NA-_noc_org_60_SP245_NA---_PhM03_PECD4.2_fv1.csv', 'cds_data/explore-csv-data/P_CMI6_AWI-_AWCM_SPV_0000m_Pecd_NUT0_S208301010000_E208312312300_CFR_TIM_01h_NA-_noc_org_60_SP245_NA---_PhM03_PECD4.2_fv1.csv', 'cds_data/explore-csv-data/P_CMI6_AWI-_AWCM_SPV_0000m_Pecd_NUT0_S208401010000_E208412312300_CFR_TIM_01h_NA-_noc_org_60_SP245_NA---_PhM03_PECD4.2_fv1.csv', 'cds_data/explore-csv-data/P_CMI6_AWI-_AWCM_SPV_0000m_Pecd_NUT0_S208501010000_E208512312300_CFR_TIM_01h_NA-_noc_org_60_SP245_NA---_PhM03_PECD4.2_fv1.csv', 'cds_data/explore-csv-data/P_CMI6_AWI-_AWCM_SPV_0000m_Pecd_NUT0_S208601010000_E208612312300_CFR_TIM_01h_NA-_noc_org_60_SP245_NA---_PhM03_PECD4.2_fv1.csv', 'cds_data/explore-csv-data/P_CMI6_AWI-_AWCM_SPV_0000m_Pecd_NUT0_S208701010000_E208712312300_CFR_TIM_01h_NA-_noc_org_60_SP245_NA---_PhM03_PECD4.2_fv1.csv', 'cds_data/explore-csv-data/P_CMI6_AWI-_AWCM_SPV_0000m_Pecd_NUT0_S208801010000_E208812312300_CFR_TIM_01h_NA-_noc_org_60_SP245_NA---_PhM03_PECD4.2_fv1.csv', 'cds_data/explore-csv-data/P_CMI6_AWI-_AWCM_SPV_0000m_Pecd_NUT0_S208901010000_E208912312300_CFR_TIM_01h_NA-_noc_org_60_SP245_NA---_PhM03_PECD4.2_fv1.csv', 'cds_data/explore-csv-data/P_CMI6_AWI-_AWCM_SPV_0000m_Pecd_NUT0_S209001010000_E209012312300_CFR_TIM_01h_NA-_noc_org_60_SP245_NA---_PhM03_PECD4.2_fv1.csv']\n",
      "Importing following files for stream P:  ['cds_data/explore-csv-data/P_CMI6_AWI-_AWCM_SPV_0000m_Pecd_NUT0_S206101010000_E206112312300_CFR_TIM_01h_NA-_noc_org_60_SP585_NA---_PhM03_PECD4.2_fv1.csv', 'cds_data/explore-csv-data/P_CMI6_AWI-_AWCM_SPV_0000m_Pecd_NUT0_S206201010000_E206212312300_CFR_TIM_01h_NA-_noc_org_60_SP585_NA---_PhM03_PECD4.2_fv1.csv', 'cds_data/explore-csv-data/P_CMI6_AWI-_AWCM_SPV_0000m_Pecd_NUT0_S206301010000_E206312312300_CFR_TIM_01h_NA-_noc_org_60_SP585_NA---_PhM03_PECD4.2_fv1.csv', 'cds_data/explore-csv-data/P_CMI6_AWI-_AWCM_SPV_0000m_Pecd_NUT0_S206401010000_E206412312300_CFR_TIM_01h_NA-_noc_org_60_SP585_NA---_PhM03_PECD4.2_fv1.csv', 'cds_data/explore-csv-data/P_CMI6_AWI-_AWCM_SPV_0000m_Pecd_NUT0_S206501010000_E206512312300_CFR_TIM_01h_NA-_noc_org_60_SP585_NA---_PhM03_PECD4.2_fv1.csv', 'cds_data/explore-csv-data/P_CMI6_AWI-_AWCM_SPV_0000m_Pecd_NUT0_S206601010000_E206612312300_CFR_TIM_01h_NA-_noc_org_60_SP585_NA---_PhM03_PECD4.2_fv1.csv', 'cds_data/explore-csv-data/P_CMI6_AWI-_AWCM_SPV_0000m_Pecd_NUT0_S206701010000_E206712312300_CFR_TIM_01h_NA-_noc_org_60_SP585_NA---_PhM03_PECD4.2_fv1.csv', 'cds_data/explore-csv-data/P_CMI6_AWI-_AWCM_SPV_0000m_Pecd_NUT0_S206801010000_E206812312300_CFR_TIM_01h_NA-_noc_org_60_SP585_NA---_PhM03_PECD4.2_fv1.csv', 'cds_data/explore-csv-data/P_CMI6_AWI-_AWCM_SPV_0000m_Pecd_NUT0_S206901010000_E206912312300_CFR_TIM_01h_NA-_noc_org_60_SP585_NA---_PhM03_PECD4.2_fv1.csv', 'cds_data/explore-csv-data/P_CMI6_AWI-_AWCM_SPV_0000m_Pecd_NUT0_S207001010000_E207012312300_CFR_TIM_01h_NA-_noc_org_60_SP585_NA---_PhM03_PECD4.2_fv1.csv', 'cds_data/explore-csv-data/P_CMI6_AWI-_AWCM_SPV_0000m_Pecd_NUT0_S207101010000_E207112312300_CFR_TIM_01h_NA-_noc_org_60_SP585_NA---_PhM03_PECD4.2_fv1.csv', 'cds_data/explore-csv-data/P_CMI6_AWI-_AWCM_SPV_0000m_Pecd_NUT0_S207201010000_E207212312300_CFR_TIM_01h_NA-_noc_org_60_SP585_NA---_PhM03_PECD4.2_fv1.csv', 'cds_data/explore-csv-data/P_CMI6_AWI-_AWCM_SPV_0000m_Pecd_NUT0_S207301010000_E207312312300_CFR_TIM_01h_NA-_noc_org_60_SP585_NA---_PhM03_PECD4.2_fv1.csv', 'cds_data/explore-csv-data/P_CMI6_AWI-_AWCM_SPV_0000m_Pecd_NUT0_S207401010000_E207412312300_CFR_TIM_01h_NA-_noc_org_60_SP585_NA---_PhM03_PECD4.2_fv1.csv', 'cds_data/explore-csv-data/P_CMI6_AWI-_AWCM_SPV_0000m_Pecd_NUT0_S207501010000_E207512312300_CFR_TIM_01h_NA-_noc_org_60_SP585_NA---_PhM03_PECD4.2_fv1.csv', 'cds_data/explore-csv-data/P_CMI6_AWI-_AWCM_SPV_0000m_Pecd_NUT0_S207601010000_E207612312300_CFR_TIM_01h_NA-_noc_org_60_SP585_NA---_PhM03_PECD4.2_fv1.csv', 'cds_data/explore-csv-data/P_CMI6_AWI-_AWCM_SPV_0000m_Pecd_NUT0_S207701010000_E207712312300_CFR_TIM_01h_NA-_noc_org_60_SP585_NA---_PhM03_PECD4.2_fv1.csv', 'cds_data/explore-csv-data/P_CMI6_AWI-_AWCM_SPV_0000m_Pecd_NUT0_S207801010000_E207812312300_CFR_TIM_01h_NA-_noc_org_60_SP585_NA---_PhM03_PECD4.2_fv1.csv', 'cds_data/explore-csv-data/P_CMI6_AWI-_AWCM_SPV_0000m_Pecd_NUT0_S207901010000_E207912312300_CFR_TIM_01h_NA-_noc_org_60_SP585_NA---_PhM03_PECD4.2_fv1.csv', 'cds_data/explore-csv-data/P_CMI6_AWI-_AWCM_SPV_0000m_Pecd_NUT0_S208001010000_E208012312300_CFR_TIM_01h_NA-_noc_org_60_SP585_NA---_PhM03_PECD4.2_fv1.csv', 'cds_data/explore-csv-data/P_CMI6_AWI-_AWCM_SPV_0000m_Pecd_NUT0_S208101010000_E208112312300_CFR_TIM_01h_NA-_noc_org_60_SP585_NA---_PhM03_PECD4.2_fv1.csv', 'cds_data/explore-csv-data/P_CMI6_AWI-_AWCM_SPV_0000m_Pecd_NUT0_S208201010000_E208212312300_CFR_TIM_01h_NA-_noc_org_60_SP585_NA---_PhM03_PECD4.2_fv1.csv', 'cds_data/explore-csv-data/P_CMI6_AWI-_AWCM_SPV_0000m_Pecd_NUT0_S208301010000_E208312312300_CFR_TIM_01h_NA-_noc_org_60_SP585_NA---_PhM03_PECD4.2_fv1.csv', 'cds_data/explore-csv-data/P_CMI6_AWI-_AWCM_SPV_0000m_Pecd_NUT0_S208401010000_E208412312300_CFR_TIM_01h_NA-_noc_org_60_SP585_NA---_PhM03_PECD4.2_fv1.csv', 'cds_data/explore-csv-data/P_CMI6_AWI-_AWCM_SPV_0000m_Pecd_NUT0_S208501010000_E208512312300_CFR_TIM_01h_NA-_noc_org_60_SP585_NA---_PhM03_PECD4.2_fv1.csv', 'cds_data/explore-csv-data/P_CMI6_AWI-_AWCM_SPV_0000m_Pecd_NUT0_S208601010000_E208612312300_CFR_TIM_01h_NA-_noc_org_60_SP585_NA---_PhM03_PECD4.2_fv1.csv', 'cds_data/explore-csv-data/P_CMI6_AWI-_AWCM_SPV_0000m_Pecd_NUT0_S208701010000_E208712312300_CFR_TIM_01h_NA-_noc_org_60_SP585_NA---_PhM03_PECD4.2_fv1.csv', 'cds_data/explore-csv-data/P_CMI6_AWI-_AWCM_SPV_0000m_Pecd_NUT0_S208801010000_E208812312300_CFR_TIM_01h_NA-_noc_org_60_SP585_NA---_PhM03_PECD4.2_fv1.csv', 'cds_data/explore-csv-data/P_CMI6_AWI-_AWCM_SPV_0000m_Pecd_NUT0_S208901010000_E208912312300_CFR_TIM_01h_NA-_noc_org_60_SP585_NA---_PhM03_PECD4.2_fv1.csv', 'cds_data/explore-csv-data/P_CMI6_AWI-_AWCM_SPV_0000m_Pecd_NUT0_S209001010000_E209012312300_CFR_TIM_01h_NA-_noc_org_60_SP585_NA---_PhM03_PECD4.2_fv1.csv']\n",
      "Final dataframe:\n",
      "                     H_IT  H_FR  H_DE  P_CMR5_SP245_IT  P_CMR5_SP245_FR  \\\n",
      "Date                                                                      \n",
      "1991-01-01 00:00:00   0.0   0.0   0.0              NaN              NaN   \n",
      "1991-01-01 01:00:00   0.0   0.0   0.0              NaN              NaN   \n",
      "1991-01-01 02:00:00   0.0   0.0   0.0              NaN              NaN   \n",
      "1991-01-01 03:00:00   0.0   0.0   0.0              NaN              NaN   \n",
      "1991-01-01 04:00:00   0.0   0.0   0.0              NaN              NaN   \n",
      "...                   ...   ...   ...              ...              ...   \n",
      "2090-12-31 19:00:00   NaN   NaN   NaN              0.0              0.0   \n",
      "2090-12-31 20:00:00   NaN   NaN   NaN              0.0              0.0   \n",
      "2090-12-31 21:00:00   NaN   NaN   NaN              0.0              0.0   \n",
      "2090-12-31 22:00:00   NaN   NaN   NaN              0.0              0.0   \n",
      "2090-12-31 23:00:00   NaN   NaN   NaN              0.0              0.0   \n",
      "\n",
      "                     P_CMR5_SP245_DE  P_CMR5_SP585_IT  P_CMR5_SP585_FR  \\\n",
      "Date                                                                     \n",
      "1991-01-01 00:00:00              NaN              NaN              NaN   \n",
      "1991-01-01 01:00:00              NaN              NaN              NaN   \n",
      "1991-01-01 02:00:00              NaN              NaN              NaN   \n",
      "1991-01-01 03:00:00              NaN              NaN              NaN   \n",
      "1991-01-01 04:00:00              NaN              NaN              NaN   \n",
      "...                              ...              ...              ...   \n",
      "2090-12-31 19:00:00              0.0              0.0              0.0   \n",
      "2090-12-31 20:00:00              0.0              0.0              0.0   \n",
      "2090-12-31 21:00:00              0.0              0.0              0.0   \n",
      "2090-12-31 22:00:00              0.0              0.0              0.0   \n",
      "2090-12-31 23:00:00              0.0              0.0              0.0   \n",
      "\n",
      "                     P_CMR5_SP585_DE  P_ECE3_SP245_IT  ...  P_ECE3_SP245_DE  \\\n",
      "Date                                                   ...                    \n",
      "1991-01-01 00:00:00              NaN              NaN  ...              NaN   \n",
      "1991-01-01 01:00:00              NaN              NaN  ...              NaN   \n",
      "1991-01-01 02:00:00              NaN              NaN  ...              NaN   \n",
      "1991-01-01 03:00:00              NaN              NaN  ...              NaN   \n",
      "1991-01-01 04:00:00              NaN              NaN  ...              NaN   \n",
      "...                              ...              ...  ...              ...   \n",
      "2090-12-31 19:00:00              0.0              0.0  ...              0.0   \n",
      "2090-12-31 20:00:00              0.0              0.0  ...              0.0   \n",
      "2090-12-31 21:00:00              0.0              0.0  ...              0.0   \n",
      "2090-12-31 22:00:00              0.0              0.0  ...              0.0   \n",
      "2090-12-31 23:00:00              0.0              0.0  ...              0.0   \n",
      "\n",
      "                     P_ECE3_SP585_IT  P_ECE3_SP585_FR  P_ECE3_SP585_DE  \\\n",
      "Date                                                                     \n",
      "1991-01-01 00:00:00              NaN              NaN              NaN   \n",
      "1991-01-01 01:00:00              NaN              NaN              NaN   \n",
      "1991-01-01 02:00:00              NaN              NaN              NaN   \n",
      "1991-01-01 03:00:00              NaN              NaN              NaN   \n",
      "1991-01-01 04:00:00              NaN              NaN              NaN   \n",
      "...                              ...              ...              ...   \n",
      "2090-12-31 19:00:00              0.0              0.0              0.0   \n",
      "2090-12-31 20:00:00              0.0              0.0              0.0   \n",
      "2090-12-31 21:00:00              0.0              0.0              0.0   \n",
      "2090-12-31 22:00:00              0.0              0.0              0.0   \n",
      "2090-12-31 23:00:00              0.0              0.0              0.0   \n",
      "\n",
      "                     P_AWCM_SP245_IT  P_AWCM_SP245_FR  P_AWCM_SP245_DE  \\\n",
      "Date                                                                     \n",
      "1991-01-01 00:00:00              NaN              NaN              NaN   \n",
      "1991-01-01 01:00:00              NaN              NaN              NaN   \n",
      "1991-01-01 02:00:00              NaN              NaN              NaN   \n",
      "1991-01-01 03:00:00              NaN              NaN              NaN   \n",
      "1991-01-01 04:00:00              NaN              NaN              NaN   \n",
      "...                              ...              ...              ...   \n",
      "2090-12-31 19:00:00              0.0              0.0              0.0   \n",
      "2090-12-31 20:00:00              0.0              0.0              0.0   \n",
      "2090-12-31 21:00:00              0.0              0.0              0.0   \n",
      "2090-12-31 22:00:00              0.0              0.0              0.0   \n",
      "2090-12-31 23:00:00              0.0              0.0              0.0   \n",
      "\n",
      "                     P_AWCM_SP585_IT  P_AWCM_SP585_FR  P_AWCM_SP585_DE  \n",
      "Date                                                                    \n",
      "1991-01-01 00:00:00              NaN              NaN              NaN  \n",
      "1991-01-01 01:00:00              NaN              NaN              NaN  \n",
      "1991-01-01 02:00:00              NaN              NaN              NaN  \n",
      "1991-01-01 03:00:00              NaN              NaN              NaN  \n",
      "1991-01-01 04:00:00              NaN              NaN              NaN  \n",
      "...                              ...              ...              ...  \n",
      "2090-12-31 19:00:00              0.0              0.0              0.0  \n",
      "2090-12-31 20:00:00              0.0              0.0              0.0  \n",
      "2090-12-31 21:00:00              0.0              0.0              0.0  \n",
      "2090-12-31 22:00:00              0.0              0.0              0.0  \n",
      "2090-12-31 23:00:00              0.0              0.0              0.0  \n",
      "\n",
      "[525960 rows x 21 columns]\n"
     ]
    }
   ],
   "source": [
    "# Initializing the DataFrame that will contain all the data\n",
    "df = pd.DataFrame()\n",
    "\n",
    "# Loop over streams\n",
    "for stream in stream_list:\n",
    "\n",
    "    # Defining years, models, scenarios\n",
    "    if stream == \"H\":\n",
    "        start_year = start_year_h\n",
    "        end_year = end_year_h\n",
    "        models = [\"ERA5\"]  # we can use 'ERA5' to specify the model for H\n",
    "        scenarios = [\"NA---\"]  # we don't have scenarios for the ERA5 reanalysis\n",
    "    else:\n",
    "        start_year = start_year_p\n",
    "        end_year = end_year_p\n",
    "        models = p_models  # here we want to consider the models previously listed\n",
    "        scenarios = p_scenarios  # same with the projections scenarios (SSPs)\n",
    "\n",
    "    # Loop over models\n",
    "    for model in models:\n",
    "\n",
    "        # Loop over scenarios\n",
    "        for scenario in scenarios:\n",
    "\n",
    "            # 1) obtain list of files\n",
    "            if stream == \"H\":\n",
    "                glob_p = f\"{stream}_{model}*{var_code}*{scenario}*.csv\"\n",
    "            else:\n",
    "                glob_p = f\"{stream}*{model}_{var_code}*{scenario}*.csv\"\n",
    "            all_files = sorted(glob.glob(os.path.join(download_dir, glob_p)))\n",
    "\n",
    "            # 2) select needed years\n",
    "            needed_files = []\n",
    "            for year in range(start_year, end_year + 1):\n",
    "                files_y = [file for file in all_files if f\"S{str(year)}\" in file]\n",
    "                needed_files += files_y\n",
    "            print(f\"Importing following files for stream {stream}: \", needed_files)\n",
    "\n",
    "            # 3b) load and combine needed files\n",
    "            df_list = [\n",
    "                pd.read_csv(file, comment=\"#\", index_col=[\"Date\"], parse_dates=[\"Date\"])\n",
    "                for file in needed_files\n",
    "            ]\n",
    "            combined_df = pd.concat(df_list)\n",
    "\n",
    "            # 4) Select country(ies) of interest\n",
    "            for cty in country_list:\n",
    "                if cty not in combined_df.columns:\n",
    "                    raise ValueError(f\"Country {cty} not in dataset\")\n",
    "            combined_df = combined_df[country_list]\n",
    "\n",
    "            # 5) Add stream info to column names\n",
    "            if stream == \"H\":\n",
    "                combined_df.columns = [f\"{stream}_{col}\" for col in combined_df.columns]\n",
    "            elif stream == \"P\":\n",
    "                combined_df.columns = [\n",
    "                    f\"{stream}_{model}_{scenario}_{col}\" for col in combined_df.columns\n",
    "                ]\n",
    "\n",
    "            # 6) Add to final dataframe\n",
    "            df = pd.concat([df, combined_df], axis=1)\n",
    "\n",
    "print(\"Final dataframe:\")\n",
    "print(df)\n",
    "csv_fname = \"complete_df.csv\"\n",
    "df.to_csv(os.path.join(results_dir, csv_fname))"
   ]
  },
  {
   "cell_type": "markdown",
   "metadata": {
    "id": "HKhv6C2QXxAt"
   },
   "source": [
    "As a final processing step, we might be interested in looking at monthly average values instead of hourly. If so, we can simply aggregate the data through the Pandas resample method."
   ]
  },
  {
   "cell_type": "code",
   "execution_count": 21,
   "metadata": {
    "id": "nm75Vo3HYGct",
    "outputId": "5402ffe8-e4e0-4dc8-8477-05cec5da6d18"
   },
   "outputs": [
    {
     "name": "stdout",
     "output_type": "stream",
     "text": [
      "                H_IT      H_FR      H_DE  P_CMR5_SP245_IT  P_CMR5_SP245_FR  \\\n",
      "Date                                                                         \n",
      "1991-01-01  0.068271  0.047365  0.031561              NaN              NaN   \n",
      "1991-02-01  0.097590  0.081486  0.067509              NaN              NaN   \n",
      "1991-03-01  0.126977  0.102034  0.096332              NaN              NaN   \n",
      "1991-04-01  0.170384  0.164868  0.154771              NaN              NaN   \n",
      "1991-05-01  0.185671  0.177609  0.152109              NaN              NaN   \n",
      "...              ...       ...       ...              ...              ...   \n",
      "2090-08-01       NaN       NaN       NaN         0.175153         0.154053   \n",
      "2090-09-01       NaN       NaN       NaN         0.149681         0.127895   \n",
      "2090-10-01       NaN       NaN       NaN         0.101136         0.082560   \n",
      "2090-11-01       NaN       NaN       NaN         0.066865         0.050811   \n",
      "2090-12-01       NaN       NaN       NaN         0.051035         0.039952   \n",
      "\n",
      "            P_CMR5_SP245_DE  P_CMR5_SP585_IT  P_CMR5_SP585_FR  \\\n",
      "Date                                                            \n",
      "1991-01-01              NaN              NaN              NaN   \n",
      "1991-02-01              NaN              NaN              NaN   \n",
      "1991-03-01              NaN              NaN              NaN   \n",
      "1991-04-01              NaN              NaN              NaN   \n",
      "1991-05-01              NaN              NaN              NaN   \n",
      "...                     ...              ...              ...   \n",
      "2090-08-01         0.143286         0.181879         0.172276   \n",
      "2090-09-01         0.101446         0.129620         0.111643   \n",
      "2090-10-01         0.074511         0.109157         0.082189   \n",
      "2090-11-01         0.035672         0.071402         0.046303   \n",
      "2090-12-01         0.025043         0.063332         0.046067   \n",
      "\n",
      "            P_CMR5_SP585_DE  P_ECE3_SP245_IT  ...  P_ECE3_SP245_DE  \\\n",
      "Date                                          ...                    \n",
      "1991-01-01              NaN              NaN  ...              NaN   \n",
      "1991-02-01              NaN              NaN  ...              NaN   \n",
      "1991-03-01              NaN              NaN  ...              NaN   \n",
      "1991-04-01              NaN              NaN  ...              NaN   \n",
      "1991-05-01              NaN              NaN  ...              NaN   \n",
      "...                     ...              ...  ...              ...   \n",
      "2090-08-01         0.158810         0.186835  ...         0.124146   \n",
      "2090-09-01         0.097130         0.148609  ...         0.105390   \n",
      "2090-10-01         0.057157         0.086355  ...         0.059150   \n",
      "2090-11-01         0.039646         0.068118  ...         0.031109   \n",
      "2090-12-01         0.022973         0.057585  ...         0.017096   \n",
      "\n",
      "            P_ECE3_SP585_IT  P_ECE3_SP585_FR  P_ECE3_SP585_DE  \\\n",
      "Date                                                            \n",
      "1991-01-01              NaN              NaN              NaN   \n",
      "1991-02-01              NaN              NaN              NaN   \n",
      "1991-03-01              NaN              NaN              NaN   \n",
      "1991-04-01              NaN              NaN              NaN   \n",
      "1991-05-01              NaN              NaN              NaN   \n",
      "...                     ...              ...              ...   \n",
      "2090-08-01         0.184275         0.154805         0.135809   \n",
      "2090-09-01         0.140582         0.131382         0.104435   \n",
      "2090-10-01         0.091057         0.078505         0.048393   \n",
      "2090-11-01         0.062895         0.049274         0.025853   \n",
      "2090-12-01         0.044006         0.028043         0.017456   \n",
      "\n",
      "            P_AWCM_SP245_IT  P_AWCM_SP245_FR  P_AWCM_SP245_DE  \\\n",
      "Date                                                            \n",
      "1991-01-01              NaN              NaN              NaN   \n",
      "1991-02-01              NaN              NaN              NaN   \n",
      "1991-03-01              NaN              NaN              NaN   \n",
      "1991-04-01              NaN              NaN              NaN   \n",
      "1991-05-01              NaN              NaN              NaN   \n",
      "...                     ...              ...              ...   \n",
      "2090-08-01         0.179455         0.168175         0.141413   \n",
      "2090-09-01         0.149971         0.138677         0.107028   \n",
      "2090-10-01         0.111724         0.080537         0.056054   \n",
      "2090-11-01         0.071418         0.049246         0.031211   \n",
      "2090-12-01         0.059401         0.038118         0.019378   \n",
      "\n",
      "            P_AWCM_SP585_IT  P_AWCM_SP585_FR  P_AWCM_SP585_DE  \n",
      "Date                                                           \n",
      "1991-01-01              NaN              NaN              NaN  \n",
      "1991-02-01              NaN              NaN              NaN  \n",
      "1991-03-01              NaN              NaN              NaN  \n",
      "1991-04-01              NaN              NaN              NaN  \n",
      "1991-05-01              NaN              NaN              NaN  \n",
      "...                     ...              ...              ...  \n",
      "2090-08-01         0.172775         0.161482         0.150205  \n",
      "2090-09-01         0.143175         0.136695         0.116379  \n",
      "2090-10-01         0.100586         0.089867         0.080327  \n",
      "2090-11-01         0.064529         0.051932         0.033947  \n",
      "2090-12-01         0.051407         0.037265         0.019658  \n",
      "\n",
      "[1200 rows x 21 columns]\n"
     ]
    }
   ],
   "source": [
    "# Resampling data\n",
    "df = df.resample(\"MS\").mean()  # 'MS' stands for Monthly and Start (to show start date of the month)\n",
    "print(df)"
   ]
  },
  {
   "cell_type": "markdown",
   "metadata": {
    "id": "zgHsbU3K3sp6"
   },
   "source": [
    "## Plot the data"
   ]
  },
  {
   "cell_type": "markdown",
   "metadata": {},
   "source": [
    "Now that we have a DataFrame with all the information we need, we can start and explore the data by plotting some time series for single countries to see how SPV varies in time, as well as visualize a map of the average SPV per country over a given time period."
   ]
  },
  {
   "cell_type": "markdown",
   "metadata": {
    "id": "oEdHz2-wzU8y"
   },
   "source": [
    "### Plot a time series (line plot)"
   ]
  },
  {
   "cell_type": "markdown",
   "metadata": {},
   "source": [
    "If we want to visualize a time series of SPV for a single country, for instance the projected time series for the model CMR5 and scenario SSP245, we must first select the right column from our DataFrame."
   ]
  },
  {
   "cell_type": "code",
   "execution_count": 22,
   "metadata": {
    "id": "LOWlmm3NMGv1",
    "outputId": "b2bf7d31-25ac-4af5-e358-893a08890b52"
   },
   "outputs": [
    {
     "name": "stdout",
     "output_type": "stream",
     "text": [
      "Date\n",
      "1991-01-01         NaN\n",
      "1991-02-01         NaN\n",
      "1991-03-01         NaN\n",
      "1991-04-01         NaN\n",
      "1991-05-01         NaN\n",
      "                ...   \n",
      "2090-08-01    0.175153\n",
      "2090-09-01    0.149681\n",
      "2090-10-01    0.101136\n",
      "2090-11-01    0.066865\n",
      "2090-12-01    0.051035\n",
      "Freq: MS, Name: P_CMR5_SP245_IT, Length: 1200, dtype: float64\n"
     ]
    }
   ],
   "source": [
    "# Defining column name\n",
    "country = \"IT\"\n",
    "model = \"CMR5\"\n",
    "scenario = \"SP245\"\n",
    "selected_col = f\"P_{model}_{scenario}_{country}\"\n",
    "\n",
    "# Selecting column\n",
    "df_selected = df[selected_col]\n",
    "print(df_selected)"
   ]
  },
  {
   "cell_type": "markdown",
   "metadata": {
    "id": "MKj13LEK4zeX"
   },
   "source": [
    "We might notice there are some cells of our DataFrame containing NaNs (Not A Number). This is because we loaded a specific time window for this projected dataset and it doesn't cover all the historical years. Since at the moment we're interested in looking just at the projected data, we can drop the NaN rows to loose those cells and improve the visualization."
   ]
  },
  {
   "cell_type": "code",
   "execution_count": 23,
   "metadata": {
    "id": "igKdR6Ve5qJD",
    "outputId": "6a517845-7cb2-4f0f-d701-e5039d2e8c2e"
   },
   "outputs": [
    {
     "name": "stdout",
     "output_type": "stream",
     "text": [
      "Date\n",
      "2061-01-01    0.073479\n",
      "2061-02-01    0.100258\n",
      "2061-03-01    0.144337\n",
      "2061-04-01    0.178116\n",
      "2061-05-01    0.199663\n",
      "                ...   \n",
      "2090-08-01    0.175153\n",
      "2090-09-01    0.149681\n",
      "2090-10-01    0.101136\n",
      "2090-11-01    0.066865\n",
      "2090-12-01    0.051035\n",
      "Freq: MS, Name: P_CMR5_SP245_IT, Length: 360, dtype: float64\n"
     ]
    }
   ],
   "source": [
    "# Dropping NaNs\n",
    "df_selected = df_selected.dropna()\n",
    "print(df_selected)"
   ]
  },
  {
   "cell_type": "markdown",
   "metadata": {
    "id": "Yu5zX3jv5x2f"
   },
   "source": [
    "Now that we have a clean series of SPV values for a well defined time window, we can compute a simple plot."
   ]
  },
  {
   "cell_type": "code",
   "execution_count": 24,
   "metadata": {
    "id": "co3bjBGg57NA",
    "outputId": "d8eb94e3-c376-41cf-af5c-078481a686f3"
   },
   "outputs": [
    {
     "data": {
      "image/png": "[encoded data removed]",
      "text/plain": [
       "<Figure size 640x480 with 1 Axes>"
      ]
     },
     "metadata": {},
     "output_type": "display_data"
    }
   ],
   "source": [
    "# Quick plot\n",
    "df_selected.plot()\n",
    "plt.show()\n",
    "plt.close()"
   ]
  },
  {
   "cell_type": "markdown",
   "metadata": {
    "id": "x-cI9Zzw6HVV"
   },
   "source": [
    "From the plot above we can have a quick look at the time series, however if we wanted to save this figure for later use, we might want to improve the visualization by adding a few details, such a title, a y-label to indicate the variable and units, a grid for better readibility, a line to indicate the zero line."
   ]
  },
  {
   "cell_type": "code",
   "execution_count": 45,
   "metadata": {
    "id": "ZMA1Ewyw7GZv",
    "outputId": "e19efab9-d790-4c45-9e5c-8e9b345b20cb"
   },
   "outputs": [
    {
     "data": {
      "image/png": "[encoded data removed]",
      "text/plain": [
       "<Figure size 640x480 with 1 Axes>"
      ]
     },
     "metadata": {},
     "output_type": "display_data"
    }
   ],
   "source": [
    "# refined plot\n",
    "df_selected.plot()\n",
    "plt.ylabel(f\"{var_code} [{units}]\")\n",
    "plt.grid(color=\"gray\", linestyle=\"--\", alpha=0.5)\n",
    "plt.axhline(y=0.0, color=\"black\", linestyle=\"dashed\", linewidth=1.5)\n",
    "plt.title(\n",
    "    f\"{var_code} (tech: {technology_str}) projected monthly time series for {country} \\n\"\n",
    "    f\" model: {model}, scenario: {scenario}\"\n",
    ")\n",
    "plt.savefig(\n",
    "    os.path.join(\n",
    "        results_dir, f\"P_{var_code}_{technology_str}_{country}_{model}_{scenario}_monthly_ts.png\"\n",
    "    )\n",
    ")  # saving the plot\n",
    "plt.show()\n",
    "plt.close()"
   ]
  },
  {
   "cell_type": "markdown",
   "metadata": {
    "id": "KyqzOD4m7oV5"
   },
   "source": [
    "In case we wanted to plot more than one line together, we could do so by adding other DataFrame columns. Let's plot for example both the historical series and the previous projection as yearly averages.\n",
    "And let's also try and quickly plot the whole DataFrame."
   ]
  },
  {
   "cell_type": "code",
   "execution_count": 46,
   "metadata": {
    "id": "aLJRuW4q8ERz",
    "outputId": "1db00c2e-88d4-4fbe-96dd-83a981b3549f"
   },
   "outputs": [
    {
     "data": {
      "image/png": "[encoded data removed]",
      "text/plain": [
       "<Figure size 640x480 with 1 Axes>"
      ]
     },
     "metadata": {},
     "output_type": "display_data"
    },
    {
     "data": {
      "image/png": "[encoded data removed]",
      "text/plain": [
       "<Figure size 640x480 with 1 Axes>"
      ]
     },
     "metadata": {},
     "output_type": "display_data"
    }
   ],
   "source": [
    "# Plotting 2 columns (hist + proj)\n",
    "df[[selected_col, f\"H_{country}\"]].resample(\"YS\").mean().plot()\n",
    "plt.ylabel(f\"{var_code} [{units}]\")\n",
    "plt.grid(color=\"gray\", linestyle=\"--\", alpha=0.5)\n",
    "plt.title(f\"Historical vs. Projected annual mean {var_code}\"\n",
    "          f\" (tech: {technology_str}) for {country}\")\n",
    "plt.show()\n",
    "plt.close()\n",
    "\n",
    "# Plotting whole df\n",
    "df.resample(\"YS\").mean().plot(legend=False)\n",
    "plt.ylabel(f\"{var_code} [{units}]\")\n",
    "plt.grid(color=\"gray\", linestyle=\"--\", alpha=0.5)\n",
    "plt.axhline(y=0.0, color=\"black\", linestyle=\"dashed\", linewidth=1.5)\n",
    "plt.show()\n",
    "plt.close()"
   ]
  },
  {
   "cell_type": "markdown",
   "metadata": {},
   "source": [
    "To go deeper into the analysis of historical and projected data, please have a look at [Notebook *climate-change-impacts.ipynb*](./climate-change-impacts.ipynb)."
   ]
  },
  {
   "cell_type": "markdown",
   "metadata": {
    "id": "uxJCanjrzZrS"
   },
   "source": [
    "### Plot values on a map"
   ]
  },
  {
   "cell_type": "markdown",
   "metadata": {},
   "source": [
    "We now want to visualize on a map some value for the different countries to have an idea of the spatial distribution of SPV. To do so, we can start by choosing one dataset (e.g. the projection data for model CMR5 and scenario SSP245), and calculating a mean of its values over time for each country. Knowing the dates (time coordinate) information are contained in the index, this can be achieved with one simple line.\n"
   ]
  },
  {
   "cell_type": "markdown",
   "metadata": {
    "id": "_SmZGcmf_ke5"
   },
   "source": [
    "First we need to select a dataset (e.g. a projection dataset, with its model and scenario) and compute an average over time of its SPV values."
   ]
  },
  {
   "cell_type": "code",
   "execution_count": 28,
   "metadata": {
    "id": "bwElXoOj_82k",
    "outputId": "1bdac98e-27a0-42fb-c9e4-ead0158ceda5"
   },
   "outputs": [
    {
     "name": "stdout",
     "output_type": "stream",
     "text": [
      "                      SPV\n",
      "P_CMR5_SP245_IT  0.136471\n",
      "P_CMR5_SP245_FR  0.119866\n",
      "P_CMR5_SP245_DE  0.105550\n"
     ]
    }
   ],
   "source": [
    "# Selecting columns for CMR5 SSP245\n",
    "model = \"CMR5\"\n",
    "scenario = \"SP245\"\n",
    "df_p = df.filter(like=f\"P_{model}_{scenario}\", axis=\"columns\")\n",
    "\n",
    "# Computing average over time (along index, which contains the dates)\n",
    "df_mean = df_p.mean(axis=0)\n",
    "\n",
    "# Converting to DataFrame with variable code as column name\n",
    "df_mean = pd.DataFrame(df_mean, columns=(var_code,))\n",
    "print(df_mean)"
   ]
  },
  {
   "cell_type": "markdown",
   "metadata": {
    "id": "nn2fhuno_lg1"
   },
   "source": [
    "At this point, we need to load a shape file of the countries of interest: a shapefile is a common geospatial file format used to store vector geographic data, such as points, lines, or polygons (e.g., cities, rivers, or, as in this case, country borders). At the path ```nut0_fpath``` we provide a shape file with the geometries of the countries of interest for the C3S PECD (Pan European Climate Database) domain, including Italy, France, and Germany."
   ]
  },
  {
   "cell_type": "code",
   "execution_count": 29,
   "metadata": {
    "id": "R7-1RK4TWweG",
    "outputId": "c1af7f3a-42df-403e-ba25-be79e5baf008"
   },
   "outputs": [
    {
     "name": "stdout",
     "output_type": "stream",
     "text": [
      "   PECD_CODE                                           geometry\n",
      "0         FR  MULTIPOLYGON (((8.59188 42.37445, 8.76165 42.5...\n",
      "1         HR  MULTIPOLYGON (((16.59681 46.47590, 16.85476 46...\n",
      "2         HU  POLYGON ((22.12108 48.37831, 22.15531 48.40340...\n",
      "3         AL  POLYGON ((19.83100 42.46645, 20.06740 42.55258...\n",
      "4         AT  POLYGON ((15.75363 48.85218, 16.29009 48.73395...\n",
      "5         BE  POLYGON ((4.75993 51.50246, 4.86400 51.43362, ...\n",
      "6         BG  POLYGON ((22.99717 43.80787, 23.40948 43.84985...\n",
      "7         CH  POLYGON ((8.67046 47.68486, 8.79571 47.67560, ...\n",
      "8         CY  POLYGON ((32.27382 35.06649, 32.28884 35.10503...\n",
      "9         CZ  POLYGON ((14.61880 50.85780, 14.76738 50.81985...\n",
      "10        DE  MULTIPOLYGON (((9.11310 54.87360, 9.29405 54.8...\n",
      "11        DK  MULTIPOLYGON (((15.15353 55.07771, 15.08181 54...\n",
      "12        EE  MULTIPOLYGON (((25.83016 59.56406, 25.89485 59...\n",
      "13        EL  MULTIPOLYGON (((27.88675 35.95839, 27.74545 35...\n",
      "14        IE  MULTIPOLYGON (((-7.25607 55.06703, -7.61318 54...\n",
      "15        ES  MULTIPOLYGON (((4.25776 39.96463, 4.30652 39.8...\n",
      "16        FI  MULTIPOLYGON (((28.92968 69.05190, 28.62465 68...\n",
      "17        IS  POLYGON ((-22.00740 63.83599, -22.13087 63.836...\n",
      "18        PT  MULTIPOLYGON (((-8.16508 41.81830, -8.05186 41...\n",
      "19        SE  MULTIPOLYGON (((24.12729 65.73998, 24.17174 65...\n",
      "20        SI  POLYGON ((16.37079 46.72224, 16.59681 46.47590...\n",
      "21        SK  POLYGON ((19.88393 49.20418, 20.07803 49.19825...\n",
      "22        TR  MULTIPOLYGON (((35.51370 41.63598, 35.68335 41...\n",
      "23        UK  MULTIPOLYGON (((0.21051 51.49004, 0.15174 51.5...\n",
      "24        NO  MULTIPOLYGON (((28.92968 69.05190, 28.81950 69...\n",
      "25        IT  MULTIPOLYGON (((12.47792 46.67984, 12.69064 46...\n",
      "26        LI  POLYGON ((9.47605 47.05180, 9.53075 47.27058, ...\n",
      "27        LT  POLYGON ((25.82139 56.05218, 25.89485 56.00013...\n",
      "28        LU  POLYGON ((6.13766 50.12995, 6.17872 49.96212, ...\n",
      "29        LV  POLYGON ((27.35158 57.51824, 27.52817 57.52465...\n",
      "30        ME  POLYGON ((19.22407 43.52754, 19.67060 43.19395...\n",
      "31        MK  POLYGON ((22.36021 42.31116, 22.44863 42.21932...\n",
      "32        MT  MULTIPOLYGON (((14.56429 35.85010, 14.50890 35...\n",
      "33        NL  MULTIPOLYGON (((6.87491 53.40801, 6.92093 53.3...\n",
      "34        PL  POLYGON ((18.95003 54.35831, 19.34181 54.37011...\n",
      "35        RO  POLYGON ((27.39117 47.58940, 27.61661 47.35573...\n",
      "36        RS  POLYGON ((20.26430 46.12637, 20.66283 45.79412...\n",
      "37        PS  MULTIPOLYGON (((34.47734 31.58486, 34.52412 31...\n",
      "38        BA  POLYGON ((19.18014 44.56030, 19.15137 44.52734...\n",
      "39        TN  MULTIPOLYGON (((11.50459 33.18193, 11.50244 33...\n",
      "40        SY  POLYGON ((35.89268 35.91655, 35.96758 35.91006...\n",
      "41        MA  POLYGON ((-2.21963 35.10420, -2.19077 35.02979...\n",
      "42        EH  POLYGON ((-8.81777 27.65591, -8.81782 27.65645...\n",
      "43        MD  POLYGON ((26.61895 48.25986, 26.64043 48.29414...\n",
      "44        LY  POLYGON ((9.51875 30.22939, 9.63799 30.28232, ...\n",
      "45        LB  POLYGON ((35.97627 34.62920, 36.15107 34.62861...\n",
      "46        XK  POLYGON ((20.34434 42.82793, 20.46885 42.85791...\n",
      "47        JO  POLYGON ((35.78730 32.73491, 35.89473 32.71377...\n",
      "48        IL  POLYGON ((35.86914 33.43174, 35.85156 33.37046...\n",
      "49        EG  POLYGON ((36.87139 21.99673, 36.54326 21.99663...\n",
      "50        DZ  POLYGON ((8.57656 36.93721, 8.59766 36.88389, ...\n",
      "51        UA  MULTIPOLYGON (((38.21436 47.09146, 38.17832 47...\n"
     ]
    }
   ],
   "source": [
    "# Loading and plotting shapefile of countries\n",
    "shp00 = gp.read_file(nut0_fpath)\n",
    "print(shp00)"
   ]
  },
  {
   "cell_type": "markdown",
   "metadata": {
    "id": "M_aOlPwa8wWp"
   },
   "source": [
    "As we see, the file contains a column with the countries' ISO_CODES (column name is 'PECD_CODE'), and a column with their geometries (borders). All we need to do now is to merge the two sets following the ISO CODES. We will then make sure the ISO CODES are contained in both DataFrames' index and then we will merge."
   ]
  },
  {
   "cell_type": "code",
   "execution_count": 30,
   "metadata": {
    "id": "sduBvLYjDZ01",
    "outputId": "1896692c-ed2d-4e39-b9a4-db4fdad33c90"
   },
   "outputs": [
    {
     "name": "stdout",
     "output_type": "stream",
     "text": [
      "                                                    geometry\n",
      "PECD_CODE                                                   \n",
      "FR         MULTIPOLYGON (((8.59188 42.37445, 8.76165 42.5...\n",
      "HR         MULTIPOLYGON (((16.59681 46.47590, 16.85476 46...\n",
      "HU         POLYGON ((22.12108 48.37831, 22.15531 48.40340...\n",
      "AL         POLYGON ((19.83100 42.46645, 20.06740 42.55258...\n",
      "AT         POLYGON ((15.75363 48.85218, 16.29009 48.73395...\n",
      "         SPV\n",
      "IT  0.136471\n",
      "FR  0.119866\n",
      "DE  0.105550\n",
      "                                             geometry       SPV\n",
      "IT  MULTIPOLYGON (((12.47792 46.67984, 12.69064 46...  0.136471\n",
      "FR  MULTIPOLYGON (((8.59188 42.37445, 8.76165 42.5...  0.119866\n",
      "DE  MULTIPOLYGON (((9.11310 54.87360, 9.29405 54.8...  0.105550\n"
     ]
    }
   ],
   "source": [
    "# setting ISO CODES as the shape file index\n",
    "shp00 = shp00.set_index(\"PECD_CODE\")\n",
    "print(shp00.head())\n",
    "\n",
    "# renaming df_p index leaving just ISO_CODES (to match the shape file index)\n",
    "df_mean.index = df_mean.index.str[-2:]  # mind: ISO_CODE closes the column name\n",
    "print(df_mean)\n",
    "\n",
    "# merging the two keeping only right df's index iso codes (ones of interest)\n",
    "shp_data = shp00.merge(df_mean, left_index=True, right_index=True, how=\"right\")\n",
    "print(shp_data)"
   ]
  },
  {
   "cell_type": "markdown",
   "metadata": {
    "id": "faHPWQGLJ3wT"
   },
   "source": [
    "We now have the GeoDataFrame (a table with geospatial information, along with variable values) needed for the map. We can then define a function that plots it and saves the figure to a specified output path. The function will take as input the following arguments:\n",
    "\n",
    "*   `shp_data`: A `geopandas.GeoDataFrame` which should contain the geographical geometries of the regions (or countries) under a column named 'geometry', and the data values to be plotted for each region under a column named with the `short_var_name`. The index of this GeoDataFrame should correspond to the region codes.\n",
    "*   `short_var_name`: A string representing the abbreviated name of the variable being plotted (e.g., 'SPV').\n",
    "*   `var_units`: A string representing the units of the variable being plotted (e.g., 'kW/kW_installed').\n",
    "*   `num_levels`: An integer specifying the number of discrete color levels to use in the colorbar.\n",
    "*   `title`: A string for the title of the plot.\n",
    "*   `outpath`: A string specifying the file path where the generated plot image will be saved.\n",
    "*   `vmin`: An integer representing the minimum value for the color mapping.\n",
    "*   `vmax`: An integer representing the maximum value for the color mapping.\n",
    "*   `cmap`: A string specifying the colormap to use for the plot (defaults to 'viridis').\n",
    "\n",
    "\n",
    "Inside the function:\n",
    "\n",
    "*   A new figure and axes are created using `matplotlib.pyplot.figure` and `matplotlib.pyplot.axes`. The `projection=ccrs.PlateCarree()` argument indicates that the map will use the Plate Carree projection, a common geographical projection (more about PlateCarree() [here](https://scitools.org.uk/cartopy/docs/latest/reference/projections.html)).\n",
    "*   `ticks` for a discrete colorbar are calculated based on the `vmin`, `vmax`, and `num_levels` provided.\n",
    "*   A discrete colormap and a normalization object (`norm`) are created using `matplotlib.colors.ListedColormap` and `matplotlib.colors.BoundaryNorm` to map the data values to the specified color levels.\n",
    "*   The geographical data from the `shp_data` GeoDataFrame is plotted onto the axes using the `.plot()` method. The `column` argument specifies which column in `shp_data` contains the values to be colored on the map. `transform=ccrs.PlateCarree()` ensures the data is plotted correctly on the chosen projection. `legend=False` is used because a custom discrete colorbar is being created manually.\n",
    "*   A manual discrete colorbar is added to the plot using `matplotlib.pyplot.colorbar`. This provides a visual scale for the data values displayed on the map.\n",
    "*   Another plot is added for the region (or country) borders (`shp_data['geometry'].plot`). The `facecolor='none'` and `edgecolor='black' `settings make the regions (or countries) appear as outlines.\n",
    "*   The `title` is set for the plot.\n",
    "*   The plot is saved to the file path specified by `outpath` using `matplotlib.pyplot.savefig`.\n",
    "*   The plot is displayed using `matplotlib.pyplot.show()`.\n",
    "*   Finally, `matplotlib.pyplot.close()` is called to close the figure and free up memory."
   ]
  },
  {
   "cell_type": "code",
   "execution_count": 39,
   "metadata": {
    "id": "NM-wQQNMINr-"
   },
   "outputs": [],
   "source": [
    "def plot_regional_map(\n",
    "    shp_data: gp.GeoDataFrame,\n",
    "    short_var_name: str,\n",
    "    var_units: str,\n",
    "    num_levels: int,\n",
    "    title: str,\n",
    "    outpath: str,\n",
    "    vmin: int,\n",
    "    vmax: int,\n",
    "    cmap: str = \"viridis\",\n",
    "):\n",
    "    # Plotting parameters\n",
    "    plt.figure(figsize=(10, 8))\n",
    "    ax = plt.axes(projection=ccrs.PlateCarree())\n",
    "    # ticks for discrete colorbar\n",
    "    ticks = np.linspace(vmin, vmax, num_levels + 1)\n",
    "    # cmap for discrete colorbar\n",
    "    cmap = plt.get_cmap(cmap)\n",
    "    cmap = mcolors.ListedColormap(cmap(np.linspace(0, 1, num_levels)))\n",
    "    norm = mcolors.BoundaryNorm(ticks, ncolors=num_levels)\n",
    "    # parameters for colorbar\n",
    "    rc2 = {\"axes.edgecolor\": \"white\", \"xtick.color\": \"white\", \"xtick.labelcolor\": \"black\"}\n",
    "\n",
    "    # Plotting data\n",
    "    shp_data.plot(\n",
    "        ax=ax,\n",
    "        column=short_var_name,\n",
    "        transform=ccrs.PlateCarree(),\n",
    "        legend=False,  # setting manually discrete colormap\n",
    "        cmap=cmap,\n",
    "        norm=norm,  # needed for discrete values\n",
    "        vmin=vmin,\n",
    "        vmax=vmax,\n",
    "        edgecolor=\"black\",\n",
    "        linewidth=0.2,\n",
    "    )\n",
    "\n",
    "    # manually setting discrete colorbar\n",
    "    cbar_label = f\"{short_var_name} [{var_units}]\"\n",
    "    with plt.rc_context(rc2):\n",
    "        cbar = plt.colorbar(\n",
    "            ax.collections[0],\n",
    "            ax=ax,\n",
    "            orientation=\"horizontal\",\n",
    "            aspect=30,\n",
    "            extend=\"neither\",\n",
    "            pad=0.04,\n",
    "            shrink=0.55,\n",
    "            ticks=ticks,\n",
    "            spacing=\"uniform\",\n",
    "            label=cbar_label,\n",
    "            drawedges=True,\n",
    "        )\n",
    "        cbar.dividers.set_linewidth(4)\n",
    "\n",
    "    # Plotting map of countries\n",
    "    shp_data[\"geometry\"].plot(ax=ax, linewidth=0.5, edgecolor=\"black\", facecolor=\"none\")\n",
    "    plt.title(title)\n",
    "    plt.savefig(outpath, bbox_inches=\"tight\")\n",
    "    plt.show()\n",
    "    plt.close()"
   ]
  },
  {
   "cell_type": "markdown",
   "metadata": {
    "id": "obhB8-6yW0bU"
   },
   "source": [
    "Once the function is defined, we can simply call it defining the needed arguments:"
   ]
  },
  {
   "cell_type": "code",
   "execution_count": 40,
   "metadata": {
    "id": "FY1WE4UxI36l",
    "outputId": "1f55045c-0b25-4020-ddae-99ef0761bbdd"
   },
   "outputs": [
    {
     "data": {
      "image/png": "[encoded data removed]",
      "text/plain": [
       "<Figure size 1000x800 with 2 Axes>"
      ]
     },
     "metadata": {},
     "output_type": "display_data"
    }
   ],
   "source": [
    "# Defining output path for figure\n",
    "outpath = os.path.join(\n",
    "    results_dir, f\"mean_proj_{var_code}_{technology_str}_{start_year_p}_{end_year_p}.png\"\n",
    ")\n",
    "title = (f\"Mean {var_code} (tech: {technology_str}) over years {start_year_p} to {end_year_p}\"\n",
    "         f\" \\n {model} {scenario}\")\n",
    "# Calling function\n",
    "plot_regional_map(\n",
    "    shp_data=shp_data,\n",
    "    short_var_name=var_code,\n",
    "    var_units=units,\n",
    "    num_levels=7,\n",
    "    title=title,\n",
    "    outpath=outpath,\n",
    "    vmin=0.07,\n",
    "    vmax=0.21,\n",
    "    cmap=\"viridis\",\n",
    ")"
   ]
  },
  {
   "cell_type": "markdown",
   "metadata": {
    "id": "BkGJqzpqXdu9"
   },
   "source": [
    "## Take home messages 📌"
   ]
  },
  {
   "cell_type": "markdown",
   "metadata": {},
   "source": [
    "*   Climate data stored in CSV files can be easily read, explored, and summarized using pandas.\n",
    "*   Mean values over time can be computed and compared across countries using simple operations.\n",
    "*   Time series for selected countries can be plotted using matplotlib for visual comparison.\n",
    "*   Resampling to lower temporal resolution can be useful to better visualize and compare the data.\n",
    "*   Regional mean values can be visualized on a map by joining tabular data with shapefiles.\n",
    "*   Geopandas and Cartopy enable clean and customizable geographic visualizations."
   ]
  }
 ],
 "metadata": {
  "colab": {
   "collapsed_sections": [
    "Vhks-gsYRLUZ"
   ],
   "provenance": []
  },
  "kaggle": {
   "accelerator": "none",
   "dataSources": [
    {
     "datasetId": 7752489,
     "sourceId": 12299979,
     "sourceType": "datasetVersion"
    }
   ],
   "dockerImageVersionId": 31040,
   "isGpuEnabled": false,
   "isInternetEnabled": true,
   "language": "python",
   "sourceType": "notebook"
  },
  "kernelspec": {
   "display_name": "Python 3 (ipykernel)",
   "language": "python",
   "name": "python3"
  },
  "language_info": {
   "codemirror_mode": {
    "name": "ipython",
    "version": 3
   },
   "file_extension": ".py",
   "mimetype": "text/x-python",
   "name": "python",
   "nbconvert_exporter": "python",
   "pygments_lexer": "ipython3",
   "version": "3.12.3"
  }
 },
 "nbformat": 4,
 "nbformat_minor": 4
}